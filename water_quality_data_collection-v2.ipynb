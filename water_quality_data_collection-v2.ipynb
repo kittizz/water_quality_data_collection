{
  "cells": [
    {
      "attachments": {},
      "cell_type": "markdown",
      "metadata": {
        "id": "eav8Z_I6Txhe"
      },
      "source": [
        "# Import Data\n"
      ]
    },
    {
      "cell_type": "code",
      "execution_count": 452,
      "metadata": {},
      "outputs": [
        {
          "name": "stdout",
          "output_type": "stream",
          "text": [
            "Requirement already satisfied: numpy in /opt/homebrew/lib/python3.11/site-packages (1.25.2)\n",
            "\n",
            "\u001b[1m[\u001b[0m\u001b[34;49mnotice\u001b[0m\u001b[1;39;49m]\u001b[0m\u001b[39;49m A new release of pip is available: \u001b[0m\u001b[31;49m23.1.2\u001b[0m\u001b[39;49m -> \u001b[0m\u001b[32;49m23.2.1\u001b[0m\n",
            "\u001b[1m[\u001b[0m\u001b[34;49mnotice\u001b[0m\u001b[1;39;49m]\u001b[0m\u001b[39;49m To update, run: \u001b[0m\u001b[32;49mpython3.11 -m pip install --upgrade pip\u001b[0m\n",
            "Note: you may need to restart the kernel to use updated packages.\n",
            "Requirement already satisfied: pandas in /opt/homebrew/lib/python3.11/site-packages (2.0.0)\n",
            "Requirement already satisfied: python-dateutil>=2.8.2 in /Users/kittizz/Library/Python/3.11/lib/python/site-packages (from pandas) (2.8.2)\n",
            "Requirement already satisfied: pytz>=2020.1 in /opt/homebrew/lib/python3.11/site-packages (from pandas) (2023.3)\n",
            "Requirement already satisfied: tzdata>=2022.1 in /opt/homebrew/lib/python3.11/site-packages (from pandas) (2023.3)\n",
            "Requirement already satisfied: numpy>=1.21.0 in /opt/homebrew/lib/python3.11/site-packages (from pandas) (1.25.2)\n",
            "Requirement already satisfied: six>=1.5 in /opt/homebrew/lib/python3.11/site-packages (from python-dateutil>=2.8.2->pandas) (1.16.0)\n",
            "\n",
            "\u001b[1m[\u001b[0m\u001b[34;49mnotice\u001b[0m\u001b[1;39;49m]\u001b[0m\u001b[39;49m A new release of pip is available: \u001b[0m\u001b[31;49m23.1.2\u001b[0m\u001b[39;49m -> \u001b[0m\u001b[32;49m23.2.1\u001b[0m\n",
            "\u001b[1m[\u001b[0m\u001b[34;49mnotice\u001b[0m\u001b[1;39;49m]\u001b[0m\u001b[39;49m To update, run: \u001b[0m\u001b[32;49mpython3.11 -m pip install --upgrade pip\u001b[0m\n",
            "Note: you may need to restart the kernel to use updated packages.\n",
            "Requirement already satisfied: matplotlib in /opt/homebrew/lib/python3.11/site-packages (3.7.1)\n",
            "Requirement already satisfied: contourpy>=1.0.1 in /opt/homebrew/lib/python3.11/site-packages (from matplotlib) (1.0.7)\n",
            "Requirement already satisfied: cycler>=0.10 in /opt/homebrew/lib/python3.11/site-packages (from matplotlib) (0.11.0)\n",
            "Requirement already satisfied: fonttools>=4.22.0 in /opt/homebrew/lib/python3.11/site-packages (from matplotlib) (4.39.3)\n",
            "Requirement already satisfied: kiwisolver>=1.0.1 in /opt/homebrew/lib/python3.11/site-packages (from matplotlib) (1.4.4)\n",
            "Requirement already satisfied: numpy>=1.20 in /opt/homebrew/lib/python3.11/site-packages (from matplotlib) (1.25.2)\n",
            "Requirement already satisfied: packaging>=20.0 in /Users/kittizz/Library/Python/3.11/lib/python/site-packages (from matplotlib) (23.0)\n",
            "Requirement already satisfied: pillow>=6.2.0 in /opt/homebrew/lib/python3.11/site-packages (from matplotlib) (10.0.0)\n",
            "Requirement already satisfied: pyparsing>=2.3.1 in /opt/homebrew/lib/python3.11/site-packages (from matplotlib) (3.0.9)\n",
            "Requirement already satisfied: python-dateutil>=2.7 in /Users/kittizz/Library/Python/3.11/lib/python/site-packages (from matplotlib) (2.8.2)\n",
            "Requirement already satisfied: six>=1.5 in /opt/homebrew/lib/python3.11/site-packages (from python-dateutil>=2.7->matplotlib) (1.16.0)\n",
            "\n",
            "\u001b[1m[\u001b[0m\u001b[34;49mnotice\u001b[0m\u001b[1;39;49m]\u001b[0m\u001b[39;49m A new release of pip is available: \u001b[0m\u001b[31;49m23.1.2\u001b[0m\u001b[39;49m -> \u001b[0m\u001b[32;49m23.2.1\u001b[0m\n",
            "\u001b[1m[\u001b[0m\u001b[34;49mnotice\u001b[0m\u001b[1;39;49m]\u001b[0m\u001b[39;49m To update, run: \u001b[0m\u001b[32;49mpython3.11 -m pip install --upgrade pip\u001b[0m\n",
            "Note: you may need to restart the kernel to use updated packages.\n",
            "Requirement already satisfied: xlrd in /opt/homebrew/lib/python3.11/site-packages (2.0.1)\n",
            "\n",
            "\u001b[1m[\u001b[0m\u001b[34;49mnotice\u001b[0m\u001b[1;39;49m]\u001b[0m\u001b[39;49m A new release of pip is available: \u001b[0m\u001b[31;49m23.1.2\u001b[0m\u001b[39;49m -> \u001b[0m\u001b[32;49m23.2.1\u001b[0m\n",
            "\u001b[1m[\u001b[0m\u001b[34;49mnotice\u001b[0m\u001b[1;39;49m]\u001b[0m\u001b[39;49m To update, run: \u001b[0m\u001b[32;49mpython3.11 -m pip install --upgrade pip\u001b[0m\n",
            "Note: you may need to restart the kernel to use updated packages.\n",
            "Requirement already satisfied: scikit-learn in /opt/homebrew/lib/python3.11/site-packages (1.2.2)\n",
            "Requirement already satisfied: numpy>=1.17.3 in /opt/homebrew/lib/python3.11/site-packages (from scikit-learn) (1.25.2)\n",
            "Requirement already satisfied: scipy>=1.3.2 in /opt/homebrew/lib/python3.11/site-packages (from scikit-learn) (1.10.1)\n",
            "Requirement already satisfied: joblib>=1.1.1 in /opt/homebrew/lib/python3.11/site-packages (from scikit-learn) (1.2.0)\n",
            "Requirement already satisfied: threadpoolctl>=2.0.0 in /opt/homebrew/lib/python3.11/site-packages (from scikit-learn) (3.1.0)\n",
            "\n",
            "\u001b[1m[\u001b[0m\u001b[34;49mnotice\u001b[0m\u001b[1;39;49m]\u001b[0m\u001b[39;49m A new release of pip is available: \u001b[0m\u001b[31;49m23.1.2\u001b[0m\u001b[39;49m -> \u001b[0m\u001b[32;49m23.2.1\u001b[0m\n",
            "\u001b[1m[\u001b[0m\u001b[34;49mnotice\u001b[0m\u001b[1;39;49m]\u001b[0m\u001b[39;49m To update, run: \u001b[0m\u001b[32;49mpython3.11 -m pip install --upgrade pip\u001b[0m\n",
            "Note: you may need to restart the kernel to use updated packages.\n",
            "Requirement already satisfied: seaborn in /opt/homebrew/lib/python3.11/site-packages (0.12.2)\n",
            "Requirement already satisfied: numpy!=1.24.0,>=1.17 in /opt/homebrew/lib/python3.11/site-packages (from seaborn) (1.25.2)\n",
            "Requirement already satisfied: pandas>=0.25 in /opt/homebrew/lib/python3.11/site-packages (from seaborn) (2.0.0)\n",
            "Requirement already satisfied: matplotlib!=3.6.1,>=3.1 in /opt/homebrew/lib/python3.11/site-packages (from seaborn) (3.7.1)\n",
            "Requirement already satisfied: contourpy>=1.0.1 in /opt/homebrew/lib/python3.11/site-packages (from matplotlib!=3.6.1,>=3.1->seaborn) (1.0.7)\n",
            "Requirement already satisfied: cycler>=0.10 in /opt/homebrew/lib/python3.11/site-packages (from matplotlib!=3.6.1,>=3.1->seaborn) (0.11.0)\n",
            "Requirement already satisfied: fonttools>=4.22.0 in /opt/homebrew/lib/python3.11/site-packages (from matplotlib!=3.6.1,>=3.1->seaborn) (4.39.3)\n",
            "Requirement already satisfied: kiwisolver>=1.0.1 in /opt/homebrew/lib/python3.11/site-packages (from matplotlib!=3.6.1,>=3.1->seaborn) (1.4.4)\n",
            "Requirement already satisfied: packaging>=20.0 in /Users/kittizz/Library/Python/3.11/lib/python/site-packages (from matplotlib!=3.6.1,>=3.1->seaborn) (23.0)\n",
            "Requirement already satisfied: pillow>=6.2.0 in /opt/homebrew/lib/python3.11/site-packages (from matplotlib!=3.6.1,>=3.1->seaborn) (10.0.0)\n",
            "Requirement already satisfied: pyparsing>=2.3.1 in /opt/homebrew/lib/python3.11/site-packages (from matplotlib!=3.6.1,>=3.1->seaborn) (3.0.9)\n",
            "Requirement already satisfied: python-dateutil>=2.7 in /Users/kittizz/Library/Python/3.11/lib/python/site-packages (from matplotlib!=3.6.1,>=3.1->seaborn) (2.8.2)\n",
            "Requirement already satisfied: pytz>=2020.1 in /opt/homebrew/lib/python3.11/site-packages (from pandas>=0.25->seaborn) (2023.3)\n",
            "Requirement already satisfied: tzdata>=2022.1 in /opt/homebrew/lib/python3.11/site-packages (from pandas>=0.25->seaborn) (2023.3)\n",
            "Requirement already satisfied: six>=1.5 in /opt/homebrew/lib/python3.11/site-packages (from python-dateutil>=2.7->matplotlib!=3.6.1,>=3.1->seaborn) (1.16.0)\n",
            "\n",
            "\u001b[1m[\u001b[0m\u001b[34;49mnotice\u001b[0m\u001b[1;39;49m]\u001b[0m\u001b[39;49m A new release of pip is available: \u001b[0m\u001b[31;49m23.1.2\u001b[0m\u001b[39;49m -> \u001b[0m\u001b[32;49m23.2.1\u001b[0m\n",
            "\u001b[1m[\u001b[0m\u001b[34;49mnotice\u001b[0m\u001b[1;39;49m]\u001b[0m\u001b[39;49m To update, run: \u001b[0m\u001b[32;49mpython3.11 -m pip install --upgrade pip\u001b[0m\n",
            "Note: you may need to restart the kernel to use updated packages.\n"
          ]
        }
      ],
      "source": [
        "%pip install numpy\n",
        "%pip install pandas\n",
        "%pip install matplotlib\n",
        "%pip install xlrd\n",
        "%pip install scikit-learn\n",
        "%pip install seaborn\n"
      ]
    },
    {
      "cell_type": "code",
      "execution_count": 453,
      "metadata": {
        "id": "3TEPV63DTwOO"
      },
      "outputs": [],
      "source": [
        "import numpy as np\n",
        "import pandas as pd\n",
        "import matplotlib.pyplot as plt\n",
        "from pathlib import Path\n",
        "from sklearn.model_selection import train_test_split\n",
        "import seaborn as sns  # สร้างกราฟ Boxplot\n",
        "from scipy.stats import zscore\n",
        "from sklearn.metrics import mean_squared_error\n",
        "\n",
        "%matplotlib inline\n"
      ]
    },
    {
      "cell_type": "code",
      "execution_count": 454,
      "metadata": {},
      "outputs": [],
      "source": [
        "# Define the directory to search for CSV and XLS files\n",
        "directory = Path(r'./dataset/')\n",
        "# Find all CSV and XLS files in the directory and its subdirectories\n",
        "csv = list(directory.rglob('*.csv'))\n",
        "xls = list(directory.rglob('*.xls'))\n",
        "\n",
        "files = csv + xls\n"
      ]
    },
    {
      "cell_type": "code",
      "execution_count": 455,
      "metadata": {},
      "outputs": [],
      "source": [
        "# import urllib.parse\n",
        "# dataset_repo = \"https://github.com/kittizz/water_quality_data_collection/raw/main/\"\n",
        "csv_files = list()\n",
        "xls_files = list()\n",
        "for index in range(len(files)):\n",
        "    file = files[index]\n",
        "\n",
        "    if \"63\" in file.name or \"62\" in file.name:\n",
        "        # if file.name.endswith(\".csv\"):\n",
        "        #     csv_files.append(dataset_repo+urllib.parse.quote(str(file)))\n",
        "        # if file.name.endswith(\".xls\"):\n",
        "        #     xls_files.append(dataset_repo+urllib.parse.quote(str(file)))\n",
        "\n",
        "        if file.name.endswith(\".csv\"):\n",
        "            csv_files.append(str(file))\n",
        "        if file.name.endswith(\".xls\"):\n",
        "            xls_files.append(str(file))\n"
      ]
    },
    {
      "cell_type": "code",
      "execution_count": 456,
      "metadata": {
        "id": "sxLcLFDElkSa"
      },
      "outputs": [],
      "source": [
        "df1 = pd.concat([pd.read_csv(f, encoding='utf-8')\n",
        "                 for f in csv_files])\n",
        "df2 = pd.concat([pd.read_excel(f)\n",
        "                 for f in xls_files])\n",
        "\n",
        "df_concat = pd.concat([df1, df2], axis=0)"
      ]
    },
    {
      "attachments": {},
      "cell_type": "markdown",
      "metadata": {
        "id": "HoBWH9Tj0GME"
      },
      "source": [
        "# Preprocessing - Data Cleaning\n"
      ]
    },
    {
      "cell_type": "code",
      "execution_count": 457,
      "metadata": {},
      "outputs": [
        {
          "data": {
            "text/plain": [
              "(2387596, 12)"
            ]
          },
          "execution_count": 457,
          "metadata": {},
          "output_type": "execute_result"
        }
      ],
      "source": [
        "df_concat.shape"
      ]
    },
    {
      "cell_type": "code",
      "execution_count": 458,
      "metadata": {},
      "outputs": [
        {
          "data": {
            "text/html": [
              "<div>\n",
              "<style scoped>\n",
              "    .dataframe tbody tr th:only-of-type {\n",
              "        vertical-align: middle;\n",
              "    }\n",
              "\n",
              "    .dataframe tbody tr th {\n",
              "        vertical-align: top;\n",
              "    }\n",
              "\n",
              "    .dataframe thead th {\n",
              "        text-align: right;\n",
              "    }\n",
              "</style>\n",
              "<table border=\"1\" class=\"dataframe\">\n",
              "  <thead>\n",
              "    <tr style=\"text-align: right;\">\n",
              "      <th></th>\n",
              "      <th>สถานี</th>\n",
              "      <th>วันที่-เวลา</th>\n",
              "      <th>pH</th>\n",
              "      <th>DO</th>\n",
              "      <th>EC</th>\n",
              "      <th>Temp</th>\n",
              "      <th>หมายเลข</th>\n",
              "      <th>Salinity</th>\n",
              "      <th>Turbidity</th>\n",
              "      <th>BOD</th>\n",
              "      <th>COD</th>\n",
              "      <th>TotalNH3</th>\n",
              "    </tr>\n",
              "  </thead>\n",
              "  <tbody>\n",
              "    <tr>\n",
              "      <th>0</th>\n",
              "      <td>กระทุ่มแบน จ.สมุทรสาคร (117)</td>\n",
              "      <td>1 ม.ค.2562 00:00</td>\n",
              "      <td>5.400</td>\n",
              "      <td>0.500</td>\n",
              "      <td>695.400</td>\n",
              "      <td>26.300</td>\n",
              "      <td>NaN</td>\n",
              "      <td>NaN</td>\n",
              "      <td>NaN</td>\n",
              "      <td>NaN</td>\n",
              "      <td>NaN</td>\n",
              "      <td>NaN</td>\n",
              "    </tr>\n",
              "    <tr>\n",
              "      <th>1</th>\n",
              "      <td>กระทุ่มแบน จ.สมุทรสาคร (117)</td>\n",
              "      <td>1 ม.ค.2562 00:30</td>\n",
              "      <td>5.500</td>\n",
              "      <td>0.500</td>\n",
              "      <td>692.200</td>\n",
              "      <td>26.300</td>\n",
              "      <td>NaN</td>\n",
              "      <td>NaN</td>\n",
              "      <td>NaN</td>\n",
              "      <td>NaN</td>\n",
              "      <td>NaN</td>\n",
              "      <td>NaN</td>\n",
              "    </tr>\n",
              "    <tr>\n",
              "      <th>2</th>\n",
              "      <td>กระทุ่มแบน จ.สมุทรสาคร (117)</td>\n",
              "      <td>1 ม.ค.2562 01:00</td>\n",
              "      <td>5.500</td>\n",
              "      <td>0.400</td>\n",
              "      <td>693.500</td>\n",
              "      <td>26.300</td>\n",
              "      <td>NaN</td>\n",
              "      <td>NaN</td>\n",
              "      <td>NaN</td>\n",
              "      <td>NaN</td>\n",
              "      <td>NaN</td>\n",
              "      <td>NaN</td>\n",
              "    </tr>\n",
              "    <tr>\n",
              "      <th>3</th>\n",
              "      <td>กระทุ่มแบน จ.สมุทรสาคร (117)</td>\n",
              "      <td>1 ม.ค.2562 01:30</td>\n",
              "      <td>5.500</td>\n",
              "      <td>0.400</td>\n",
              "      <td>692.600</td>\n",
              "      <td>26.300</td>\n",
              "      <td>NaN</td>\n",
              "      <td>NaN</td>\n",
              "      <td>NaN</td>\n",
              "      <td>NaN</td>\n",
              "      <td>NaN</td>\n",
              "      <td>NaN</td>\n",
              "    </tr>\n",
              "    <tr>\n",
              "      <th>4</th>\n",
              "      <td>กระทุ่มแบน จ.สมุทรสาคร (117)</td>\n",
              "      <td>1 ม.ค.2562 02:00</td>\n",
              "      <td>5.500</td>\n",
              "      <td>0.400</td>\n",
              "      <td>694.700</td>\n",
              "      <td>26.200</td>\n",
              "      <td>NaN</td>\n",
              "      <td>NaN</td>\n",
              "      <td>NaN</td>\n",
              "      <td>NaN</td>\n",
              "      <td>NaN</td>\n",
              "      <td>NaN</td>\n",
              "    </tr>\n",
              "    <tr>\n",
              "      <th>...</th>\n",
              "      <td>...</td>\n",
              "      <td>...</td>\n",
              "      <td>...</td>\n",
              "      <td>...</td>\n",
              "      <td>...</td>\n",
              "      <td>...</td>\n",
              "      <td>...</td>\n",
              "      <td>...</td>\n",
              "      <td>...</td>\n",
              "      <td>...</td>\n",
              "      <td>...</td>\n",
              "      <td>...</td>\n",
              "    </tr>\n",
              "    <tr>\n",
              "      <th>8754</th>\n",
              "      <td>NaN</td>\n",
              "      <td>31 ธ.ค.2558 21:30</td>\n",
              "      <td>8.8</td>\n",
              "      <td>5.4</td>\n",
              "      <td>22788.4</td>\n",
              "      <td>-200.5</td>\n",
              "      <td>222.0</td>\n",
              "      <td>1.64</td>\n",
              "      <td></td>\n",
              "      <td>NaN</td>\n",
              "      <td>NaN</td>\n",
              "      <td>NaN</td>\n",
              "    </tr>\n",
              "    <tr>\n",
              "      <th>8755</th>\n",
              "      <td>NaN</td>\n",
              "      <td>31 ธ.ค.2558 22:00</td>\n",
              "      <td>8.8</td>\n",
              "      <td>5.3</td>\n",
              "      <td>22792.0</td>\n",
              "      <td>-200.5</td>\n",
              "      <td>222.0</td>\n",
              "      <td>1.64</td>\n",
              "      <td></td>\n",
              "      <td>NaN</td>\n",
              "      <td>NaN</td>\n",
              "      <td>NaN</td>\n",
              "    </tr>\n",
              "    <tr>\n",
              "      <th>8756</th>\n",
              "      <td>NaN</td>\n",
              "      <td>31 ธ.ค.2558 22:30</td>\n",
              "      <td>8.8</td>\n",
              "      <td>5.4</td>\n",
              "      <td>22748.7</td>\n",
              "      <td>-200.5</td>\n",
              "      <td>222.0</td>\n",
              "      <td>1.63</td>\n",
              "      <td></td>\n",
              "      <td>NaN</td>\n",
              "      <td>NaN</td>\n",
              "      <td>NaN</td>\n",
              "    </tr>\n",
              "    <tr>\n",
              "      <th>8757</th>\n",
              "      <td>NaN</td>\n",
              "      <td>31 ธ.ค.2558 23:00</td>\n",
              "      <td>8.8</td>\n",
              "      <td>5.4</td>\n",
              "      <td>22760.1</td>\n",
              "      <td>-200.5</td>\n",
              "      <td>222.0</td>\n",
              "      <td>1.64</td>\n",
              "      <td></td>\n",
              "      <td>NaN</td>\n",
              "      <td>NaN</td>\n",
              "      <td>NaN</td>\n",
              "    </tr>\n",
              "    <tr>\n",
              "      <th>8758</th>\n",
              "      <td>NaN</td>\n",
              "      <td>31 ธ.ค.2558 23:30</td>\n",
              "      <td>9.2</td>\n",
              "      <td>5.4</td>\n",
              "      <td>22786.8</td>\n",
              "      <td>-200.5</td>\n",
              "      <td>222.0</td>\n",
              "      <td>1.64</td>\n",
              "      <td></td>\n",
              "      <td>NaN</td>\n",
              "      <td>NaN</td>\n",
              "      <td>NaN</td>\n",
              "    </tr>\n",
              "  </tbody>\n",
              "</table>\n",
              "<p>2387596 rows × 12 columns</p>\n",
              "</div>"
            ],
            "text/plain": [
              "                            สถานี         วันที่-เวลา     pH     DO       EC   \n",
              "0     กระทุ่มแบน จ.สมุทรสาคร (117)   1 ม.ค.2562 00:00  5.400  0.500  695.400  \\\n",
              "1     กระทุ่มแบน จ.สมุทรสาคร (117)   1 ม.ค.2562 00:30  5.500  0.500  692.200   \n",
              "2     กระทุ่มแบน จ.สมุทรสาคร (117)   1 ม.ค.2562 01:00  5.500  0.400  693.500   \n",
              "3     กระทุ่มแบน จ.สมุทรสาคร (117)   1 ม.ค.2562 01:30  5.500  0.400  692.600   \n",
              "4     กระทุ่มแบน จ.สมุทรสาคร (117)   1 ม.ค.2562 02:00  5.500  0.400  694.700   \n",
              "...                            ...                ...    ...    ...      ...   \n",
              "8754                           NaN  31 ธ.ค.2558 21:30    8.8    5.4  22788.4   \n",
              "8755                           NaN  31 ธ.ค.2558 22:00    8.8    5.3  22792.0   \n",
              "8756                           NaN  31 ธ.ค.2558 22:30    8.8    5.4  22748.7   \n",
              "8757                           NaN  31 ธ.ค.2558 23:00    8.8    5.4  22760.1   \n",
              "8758                           NaN  31 ธ.ค.2558 23:30    9.2    5.4  22786.8   \n",
              "\n",
              "        Temp  หมายเลข Salinity Turbidity  BOD  COD TotalNH3  \n",
              "0     26.300      NaN      NaN       NaN  NaN  NaN      NaN  \n",
              "1     26.300      NaN      NaN       NaN  NaN  NaN      NaN  \n",
              "2     26.300      NaN      NaN       NaN  NaN  NaN      NaN  \n",
              "3     26.300      NaN      NaN       NaN  NaN  NaN      NaN  \n",
              "4     26.200      NaN      NaN       NaN  NaN  NaN      NaN  \n",
              "...      ...      ...      ...       ...  ...  ...      ...  \n",
              "8754  -200.5    222.0     1.64            NaN  NaN      NaN  \n",
              "8755  -200.5    222.0     1.64            NaN  NaN      NaN  \n",
              "8756  -200.5    222.0     1.63            NaN  NaN      NaN  \n",
              "8757  -200.5    222.0     1.64            NaN  NaN      NaN  \n",
              "8758  -200.5    222.0     1.64            NaN  NaN      NaN  \n",
              "\n",
              "[2387596 rows x 12 columns]"
            ]
          },
          "execution_count": 458,
          "metadata": {},
          "output_type": "execute_result"
        }
      ],
      "source": [
        "df_concat"
      ]
    },
    {
      "cell_type": "code",
      "execution_count": 459,
      "metadata": {},
      "outputs": [],
      "source": [
        "df = df_concat.copy()"
      ]
    },
    {
      "cell_type": "code",
      "execution_count": 460,
      "metadata": {},
      "outputs": [
        {
          "data": {
            "text/plain": [
              "Index(['สถานี ', 'วันที่-เวลา', 'pH', 'DO', 'EC', 'Temp', 'หมายเลข',\n",
              "       'Salinity', 'Turbidity', 'BOD', 'COD', 'TotalNH3'],\n",
              "      dtype='object')"
            ]
          },
          "execution_count": 460,
          "metadata": {},
          "output_type": "execute_result"
        }
      ],
      "source": [
        "df.columns"
      ]
    },
    {
      "attachments": {},
      "cell_type": "markdown",
      "metadata": {
        "id": "LXMIo2RE0qAt"
      },
      "source": [
        "## missing value\n"
      ]
    },
    {
      "cell_type": "code",
      "execution_count": 461,
      "metadata": {
        "colab": {
          "base_uri": "https://localhost:8080/"
        },
        "id": "Hkenryba0gdD",
        "outputId": "076f426c-2035-485f-b7da-1df1190a2925"
      },
      "outputs": [
        {
          "data": {
            "text/plain": [
              "สถานี          2256526\n",
              "วันที่-เวลา          0\n",
              "pH                   0\n",
              "DO                   0\n",
              "EC                   0\n",
              "Temp                 0\n",
              "หมายเลข         131070\n",
              "Salinity        859608\n",
              "Turbidity      1248766\n",
              "BOD            2037674\n",
              "COD            2037674\n",
              "TotalNH3       2379140\n",
              "dtype: int64"
            ]
          },
          "execution_count": 461,
          "metadata": {},
          "output_type": "execute_result"
        }
      ],
      "source": [
        "# ตรวจสอบ missing value\n",
        "df.isnull().sum()"
      ]
    },
    {
      "cell_type": "code",
      "execution_count": 462,
      "metadata": {},
      "outputs": [],
      "source": [
        "# เลือกเฉพาะ columns  'pH', 'DO', 'EC', 'Temp', 'Salinity', 'Turbidity', 'BOD', 'COD'\n",
        "df = df[['pH', 'DO', 'EC', 'Temp',\n",
        "         'Salinity', 'Turbidity', 'BOD', 'COD']]"
      ]
    },
    {
      "cell_type": "code",
      "execution_count": 463,
      "metadata": {},
      "outputs": [
        {
          "data": {
            "text/plain": [
              "pH                 0\n",
              "DO                 0\n",
              "EC                 0\n",
              "Temp               0\n",
              "Salinity      859608\n",
              "Turbidity    1248766\n",
              "BOD          2037674\n",
              "COD          2037674\n",
              "dtype: int64"
            ]
          },
          "execution_count": 463,
          "metadata": {},
          "output_type": "execute_result"
        }
      ],
      "source": [
        "# ตรวจสอบจำนวน missing value\n",
        "df.isna().sum()"
      ]
    },
    {
      "cell_type": "code",
      "execution_count": 464,
      "metadata": {},
      "outputs": [],
      "source": [
        "# ลบข้อมูลที่มี missing value ออกไป\n",
        "df.dropna(inplace=True)"
      ]
    },
    {
      "cell_type": "code",
      "execution_count": 465,
      "metadata": {},
      "outputs": [
        {
          "data": {
            "text/plain": [
              "pH           0\n",
              "DO           0\n",
              "EC           0\n",
              "Temp         0\n",
              "Salinity     0\n",
              "Turbidity    0\n",
              "BOD          0\n",
              "COD          0\n",
              "dtype: int64"
            ]
          },
          "execution_count": 465,
          "metadata": {},
          "output_type": "execute_result"
        }
      ],
      "source": [
        "# ตรวจสอบจำนวน missing value\n",
        "df.isnull().sum()"
      ]
    },
    {
      "cell_type": "code",
      "execution_count": 466,
      "metadata": {},
      "outputs": [],
      "source": [
        "# แปลงตัวเลขที่เป็น string ให้เป็นตัวเลข และ เปลี่ยนตัวอักษรที่ไม่ถูกต้องให้เป็น NaN\n",
        "for col in df.columns:\n",
        "    df[col] = pd.to_numeric(df[col], errors='coerce')"
      ]
    },
    {
      "cell_type": "code",
      "execution_count": 467,
      "metadata": {},
      "outputs": [],
      "source": [
        "# ลบข้อมูลที่มี missing value ออกไป\n",
        "df.dropna(inplace=True)"
      ]
    },
    {
      "cell_type": "code",
      "execution_count": 468,
      "metadata": {},
      "outputs": [
        {
          "data": {
            "text/plain": [
              "pH           0\n",
              "DO           0\n",
              "EC           0\n",
              "Temp         0\n",
              "Salinity     0\n",
              "Turbidity    0\n",
              "BOD          0\n",
              "COD          0\n",
              "dtype: int64"
            ]
          },
          "execution_count": 468,
          "metadata": {},
          "output_type": "execute_result"
        }
      ],
      "source": [
        "df.isnull().sum()"
      ]
    },
    {
      "cell_type": "code",
      "execution_count": 469,
      "metadata": {},
      "outputs": [],
      "source": [
        "# เปลี่ยนชนิดข้อมูลให้เป็น float\n",
        "df = df.astype(float)\n",
        "\n",
        "# ปัดเศษ\n",
        "df['pH'] = df['pH'].round()\n",
        "# เปลี่ยนชนิดข้อมูลให้ pH เป็น int\n",
        "df['pH'] = df['pH'].astype(int)"
      ]
    },
    {
      "cell_type": "code",
      "execution_count": 470,
      "metadata": {},
      "outputs": [],
      "source": [
        "# reset index\n",
        "df = df.reindex()"
      ]
    },
    {
      "attachments": {},
      "cell_type": "markdown",
      "metadata": {
        "id": "LaGv8c0s07U5"
      },
      "source": [
        "## Outlier data\n"
      ]
    },
    {
      "cell_type": "code",
      "execution_count": 471,
      "metadata": {
        "colab": {
          "base_uri": "https://localhost:8080/",
          "height": 300
        },
        "id": "AObeEgAt1jmz",
        "outputId": "feb327b3-aee5-4a99-84ca-a84bcf7d6bbe"
      },
      "outputs": [
        {
          "data": {
            "text/html": [
              "<div>\n",
              "<style scoped>\n",
              "    .dataframe tbody tr th:only-of-type {\n",
              "        vertical-align: middle;\n",
              "    }\n",
              "\n",
              "    .dataframe tbody tr th {\n",
              "        vertical-align: top;\n",
              "    }\n",
              "\n",
              "    .dataframe thead th {\n",
              "        text-align: right;\n",
              "    }\n",
              "</style>\n",
              "<table border=\"1\" class=\"dataframe\">\n",
              "  <thead>\n",
              "    <tr style=\"text-align: right;\">\n",
              "      <th></th>\n",
              "      <th>pH</th>\n",
              "      <th>DO</th>\n",
              "      <th>EC</th>\n",
              "      <th>Temp</th>\n",
              "      <th>Salinity</th>\n",
              "      <th>Turbidity</th>\n",
              "      <th>BOD</th>\n",
              "      <th>COD</th>\n",
              "    </tr>\n",
              "  </thead>\n",
              "  <tbody>\n",
              "    <tr>\n",
              "      <th>count</th>\n",
              "      <td>158256.000000</td>\n",
              "      <td>158256.000000</td>\n",
              "      <td>158256.000000</td>\n",
              "      <td>158256.000000</td>\n",
              "      <td>158256.000000</td>\n",
              "      <td>158256.000000</td>\n",
              "      <td>158256.000000</td>\n",
              "      <td>158256.000000</td>\n",
              "    </tr>\n",
              "    <tr>\n",
              "      <th>mean</th>\n",
              "      <td>7.400345</td>\n",
              "      <td>4.484731</td>\n",
              "      <td>410.931465</td>\n",
              "      <td>30.701625</td>\n",
              "      <td>0.178977</td>\n",
              "      <td>82.646172</td>\n",
              "      <td>3.078476</td>\n",
              "      <td>18.092795</td>\n",
              "    </tr>\n",
              "    <tr>\n",
              "      <th>std</th>\n",
              "      <td>1.409493</td>\n",
              "      <td>2.715437</td>\n",
              "      <td>273.475843</td>\n",
              "      <td>2.238678</td>\n",
              "      <td>0.117660</td>\n",
              "      <td>111.557688</td>\n",
              "      <td>8.185967</td>\n",
              "      <td>21.926169</td>\n",
              "    </tr>\n",
              "    <tr>\n",
              "      <th>min</th>\n",
              "      <td>0.000000</td>\n",
              "      <td>0.010000</td>\n",
              "      <td>0.000000</td>\n",
              "      <td>19.300000</td>\n",
              "      <td>0.010000</td>\n",
              "      <td>0.000000</td>\n",
              "      <td>0.100000</td>\n",
              "      <td>0.100000</td>\n",
              "    </tr>\n",
              "    <tr>\n",
              "      <th>25%</th>\n",
              "      <td>7.000000</td>\n",
              "      <td>2.800000</td>\n",
              "      <td>288.300000</td>\n",
              "      <td>29.440000</td>\n",
              "      <td>0.130000</td>\n",
              "      <td>22.800000</td>\n",
              "      <td>1.100000</td>\n",
              "      <td>7.200000</td>\n",
              "    </tr>\n",
              "    <tr>\n",
              "      <th>50%</th>\n",
              "      <td>7.000000</td>\n",
              "      <td>4.300000</td>\n",
              "      <td>358.300000</td>\n",
              "      <td>30.800000</td>\n",
              "      <td>0.160000</td>\n",
              "      <td>43.200000</td>\n",
              "      <td>1.500000</td>\n",
              "      <td>14.200000</td>\n",
              "    </tr>\n",
              "    <tr>\n",
              "      <th>75%</th>\n",
              "      <td>8.000000</td>\n",
              "      <td>5.600000</td>\n",
              "      <td>432.345750</td>\n",
              "      <td>32.100000</td>\n",
              "      <td>0.190000</td>\n",
              "      <td>84.503550</td>\n",
              "      <td>2.900000</td>\n",
              "      <td>19.700000</td>\n",
              "    </tr>\n",
              "    <tr>\n",
              "      <th>max</th>\n",
              "      <td>13.000000</td>\n",
              "      <td>20.000000</td>\n",
              "      <td>3750.000000</td>\n",
              "      <td>40.900000</td>\n",
              "      <td>1.930000</td>\n",
              "      <td>1533.400000</td>\n",
              "      <td>123.200000</td>\n",
              "      <td>256.000000</td>\n",
              "    </tr>\n",
              "  </tbody>\n",
              "</table>\n",
              "</div>"
            ],
            "text/plain": [
              "                  pH             DO             EC           Temp   \n",
              "count  158256.000000  158256.000000  158256.000000  158256.000000  \\\n",
              "mean        7.400345       4.484731     410.931465      30.701625   \n",
              "std         1.409493       2.715437     273.475843       2.238678   \n",
              "min         0.000000       0.010000       0.000000      19.300000   \n",
              "25%         7.000000       2.800000     288.300000      29.440000   \n",
              "50%         7.000000       4.300000     358.300000      30.800000   \n",
              "75%         8.000000       5.600000     432.345750      32.100000   \n",
              "max        13.000000      20.000000    3750.000000      40.900000   \n",
              "\n",
              "            Salinity      Turbidity            BOD            COD  \n",
              "count  158256.000000  158256.000000  158256.000000  158256.000000  \n",
              "mean        0.178977      82.646172       3.078476      18.092795  \n",
              "std         0.117660     111.557688       8.185967      21.926169  \n",
              "min         0.010000       0.000000       0.100000       0.100000  \n",
              "25%         0.130000      22.800000       1.100000       7.200000  \n",
              "50%         0.160000      43.200000       1.500000      14.200000  \n",
              "75%         0.190000      84.503550       2.900000      19.700000  \n",
              "max         1.930000    1533.400000     123.200000     256.000000  "
            ]
          },
          "execution_count": 471,
          "metadata": {},
          "output_type": "execute_result"
        }
      ],
      "source": [
        "# แสดงค่าสถิติพื้นฐาน\n",
        "df.describe()"
      ]
    },
    {
      "cell_type": "code",
      "execution_count": 472,
      "metadata": {},
      "outputs": [
        {
          "data": {
            "text/plain": [
              "<Axes: >"
            ]
          },
          "execution_count": 472,
          "metadata": {},
          "output_type": "execute_result"
        },
        {
          "data": {
            "image/png": "[encoded data removed]",
            "text/plain": [
              "<Figure size 640x480 with 1 Axes>"
            ]
          },
          "metadata": {},
          "output_type": "display_data"
        }
      ],
      "source": [
        "df.boxplot()"
      ]
    },
    {
      "attachments": {},
      "cell_type": "markdown",
      "metadata": {
        "id": "MvbgOZdP7H9X"
      },
      "source": [
        "จัดการ outlier data\n"
      ]
    },
    {
      "cell_type": "code",
      "execution_count": 473,
      "metadata": {
        "id": "aLW2u4iU5n66"
      },
      "outputs": [],
      "source": [
        "def remove_outliers_iqr(dataframe, columns):\n",
        "    for column in columns:\n",
        "        Q1 = dataframe[column].quantile(0.25)\n",
        "        Q3 = dataframe[column].quantile(0.75)\n",
        "        IQR = Q3 - Q1\n",
        "        threshold = 1.5\n",
        "        lower_bound = Q1 - threshold * IQR\n",
        "        upper_bound = Q3 + threshold * IQR\n",
        "\n",
        "        dataframe = dataframe[(dataframe[column] >= lower_bound) & (\n",
        "            dataframe[column] <= upper_bound)]\n",
        "    return dataframe\n"
      ]
    },
    {
      "cell_type": "code",
      "execution_count": 474,
      "metadata": {},
      "outputs": [],
      "source": [
        "# DO\tEC\tTemp\tSalinity\tTurbidity\tBOD\tCOD\n",
        "df_out = df.copy()\n",
        "\n",
        "df_out = remove_outliers_iqr(df_out, ['pH', 'DO', 'EC', 'Temp',\n",
        "                                      'Salinity', 'Turbidity', 'BOD', 'COD'])"
      ]
    },
    {
      "cell_type": "code",
      "execution_count": 475,
      "metadata": {},
      "outputs": [
        {
          "data": {
            "text/plain": [
              "<Axes: >"
            ]
          },
          "execution_count": 475,
          "metadata": {},
          "output_type": "execute_result"
        },
        {
          "data": {
            "image/png": "[encoded data removed]",
            "text/plain": [
              "<Figure size 640x480 with 1 Axes>"
            ]
          },
          "metadata": {},
          "output_type": "display_data"
        }
      ],
      "source": [
        "df_out.boxplot()"
      ]
    },
    {
      "attachments": {},
      "cell_type": "markdown",
      "metadata": {
        "id": "LsjeNPhQ7b1h"
      },
      "source": [
        "## Duplicate data\n"
      ]
    },
    {
      "cell_type": "code",
      "execution_count": 476,
      "metadata": {
        "colab": {
          "base_uri": "https://localhost:8080/"
        },
        "id": "2O3PQSQA7OQ0",
        "outputId": "20b91e56-bfd3-433d-9302-994768839ddb"
      },
      "outputs": [
        {
          "name": "stdout",
          "output_type": "stream",
          "text": [
            "จำนวน Duplicate Data df: 302\n"
          ]
        }
      ],
      "source": [
        "print('จำนวน Duplicate Data df:', df.duplicated().sum())"
      ]
    },
    {
      "cell_type": "code",
      "execution_count": 477,
      "metadata": {
        "id": "b5A3CUAb78wd"
      },
      "outputs": [],
      "source": [
        "# ลบ Duplicate Data\n",
        "df = df.drop_duplicates()"
      ]
    },
    {
      "attachments": {},
      "cell_type": "markdown",
      "metadata": {
        "id": "Jzq1yaJsAGy_"
      },
      "source": [
        "# Data Transformation: Normalization\n"
      ]
    },
    {
      "cell_type": "code",
      "execution_count": 478,
      "metadata": {},
      "outputs": [],
      "source": [
        "X_columns = ['DO', 'EC', 'Temp',\n",
        "             'Salinity', 'Turbidity', 'BOD', 'COD']\n"
      ]
    },
    {
      "cell_type": "code",
      "execution_count": 479,
      "metadata": {
        "id": "ihha_tsM_87e"
      },
      "outputs": [
        {
          "data": {
            "text/html": [
              "<style>#sk-container-id-9 {color: black;background-color: white;}#sk-container-id-9 pre{padding: 0;}#sk-container-id-9 div.sk-toggleable {background-color: white;}#sk-container-id-9 label.sk-toggleable__label {cursor: pointer;display: block;width: 100%;margin-bottom: 0;padding: 0.3em;box-sizing: border-box;text-align: center;}#sk-container-id-9 label.sk-toggleable__label-arrow:before {content: \"▸\";float: left;margin-right: 0.25em;color: #696969;}#sk-container-id-9 label.sk-toggleable__label-arrow:hover:before {color: black;}#sk-container-id-9 div.sk-estimator:hover label.sk-toggleable__label-arrow:before {color: black;}#sk-container-id-9 div.sk-toggleable__content {max-height: 0;max-width: 0;overflow: hidden;text-align: left;background-color: #f0f8ff;}#sk-container-id-9 div.sk-toggleable__content pre {margin: 0.2em;color: black;border-radius: 0.25em;background-color: #f0f8ff;}#sk-container-id-9 input.sk-toggleable__control:checked~div.sk-toggleable__content {max-height: 200px;max-width: 100%;overflow: auto;}#sk-container-id-9 input.sk-toggleable__control:checked~label.sk-toggleable__label-arrow:before {content: \"▾\";}#sk-container-id-9 div.sk-estimator input.sk-toggleable__control:checked~label.sk-toggleable__label {background-color: #d4ebff;}#sk-container-id-9 div.sk-label input.sk-toggleable__control:checked~label.sk-toggleable__label {background-color: #d4ebff;}#sk-container-id-9 input.sk-hidden--visually {border: 0;clip: rect(1px 1px 1px 1px);clip: rect(1px, 1px, 1px, 1px);height: 1px;margin: -1px;overflow: hidden;padding: 0;position: absolute;width: 1px;}#sk-container-id-9 div.sk-estimator {font-family: monospace;background-color: #f0f8ff;border: 1px dotted black;border-radius: 0.25em;box-sizing: border-box;margin-bottom: 0.5em;}#sk-container-id-9 div.sk-estimator:hover {background-color: #d4ebff;}#sk-container-id-9 div.sk-parallel-item::after {content: \"\";width: 100%;border-bottom: 1px solid gray;flex-grow: 1;}#sk-container-id-9 div.sk-label:hover label.sk-toggleable__label {background-color: #d4ebff;}#sk-container-id-9 div.sk-serial::before {content: \"\";position: absolute;border-left: 1px solid gray;box-sizing: border-box;top: 0;bottom: 0;left: 50%;z-index: 0;}#sk-container-id-9 div.sk-serial {display: flex;flex-direction: column;align-items: center;background-color: white;padding-right: 0.2em;padding-left: 0.2em;position: relative;}#sk-container-id-9 div.sk-item {position: relative;z-index: 1;}#sk-container-id-9 div.sk-parallel {display: flex;align-items: stretch;justify-content: center;background-color: white;position: relative;}#sk-container-id-9 div.sk-item::before, #sk-container-id-9 div.sk-parallel-item::before {content: \"\";position: absolute;border-left: 1px solid gray;box-sizing: border-box;top: 0;bottom: 0;left: 50%;z-index: -1;}#sk-container-id-9 div.sk-parallel-item {display: flex;flex-direction: column;z-index: 1;position: relative;background-color: white;}#sk-container-id-9 div.sk-parallel-item:first-child::after {align-self: flex-end;width: 50%;}#sk-container-id-9 div.sk-parallel-item:last-child::after {align-self: flex-start;width: 50%;}#sk-container-id-9 div.sk-parallel-item:only-child::after {width: 0;}#sk-container-id-9 div.sk-dashed-wrapped {border: 1px dashed gray;margin: 0 0.4em 0.5em 0.4em;box-sizing: border-box;padding-bottom: 0.4em;background-color: white;}#sk-container-id-9 div.sk-label label {font-family: monospace;font-weight: bold;display: inline-block;line-height: 1.2em;}#sk-container-id-9 div.sk-label-container {text-align: center;}#sk-container-id-9 div.sk-container {/* jupyter's `normalize.less` sets `[hidden] { display: none; }` but bootstrap.min.css set `[hidden] { display: none !important; }` so we also need the `!important` here to be able to override the default hidden behavior on the sphinx rendered scikit-learn.org. See: https://github.com/scikit-learn/scikit-learn/issues/21755 */display: inline-block !important;position: relative;}#sk-container-id-9 div.sk-text-repr-fallback {display: none;}</style><div id=\"sk-container-id-9\" class=\"sk-top-container\"><div class=\"sk-text-repr-fallback\"><pre>MinMaxScaler()</pre><b>In a Jupyter environment, please rerun this cell to show the HTML representation or trust the notebook. <br />On GitHub, the HTML representation is unable to render, please try loading this page with nbviewer.org.</b></div><div class=\"sk-container\" hidden><div class=\"sk-item\"><div class=\"sk-estimator sk-toggleable\"><input class=\"sk-toggleable__control sk-hidden--visually\" id=\"sk-estimator-id-9\" type=\"checkbox\" checked><label for=\"sk-estimator-id-9\" class=\"sk-toggleable__label sk-toggleable__label-arrow\">MinMaxScaler</label><div class=\"sk-toggleable__content\"><pre>MinMaxScaler()</pre></div></div></div></div></div>"
            ],
            "text/plain": [
              "MinMaxScaler()"
            ]
          },
          "execution_count": 479,
          "metadata": {},
          "output_type": "execute_result"
        }
      ],
      "source": [
        "from sklearn.preprocessing import MinMaxScaler\n",
        "scaler = MinMaxScaler()\n",
        "scaler.fit(df[X_columns])\n"
      ]
    },
    {
      "cell_type": "code",
      "execution_count": 480,
      "metadata": {},
      "outputs": [],
      "source": [
        "df_split_copy = df.copy()\n"
      ]
    },
    {
      "attachments": {},
      "cell_type": "markdown",
      "metadata": {},
      "source": [
        "## แบ่งชุดข้อมูล\n"
      ]
    },
    {
      "cell_type": "code",
      "execution_count": 481,
      "metadata": {},
      "outputs": [],
      "source": [
        "# seed สุ่มข้อมูล\n",
        "seed = 5712\n",
        "# แบ่งชุดข้อมูลออกเป็น test\n",
        "df_split, df_test = train_test_split(\n",
        "    df_split_copy, test_size=0.01, random_state=seed)\n",
        "df_test = df_test[:100]\n",
        "# บ่งชุดข้อมูลออกเป็น  training\n",
        "df_train = df_split"
      ]
    },
    {
      "cell_type": "code",
      "execution_count": 482,
      "metadata": {},
      "outputs": [
        {
          "name": "stdout",
          "output_type": "stream",
          "text": [
            "จำนวนชุดข้อมูลทั้งหมด : 157954\n",
            "จำนวนชุดข้อมูล training : 156374\n",
            "จำนวนชุดข้อมูล test : 100\n"
          ]
        }
      ],
      "source": [
        "# จำนวนชุดข้อมูล\n",
        "print('จำนวนชุดข้อมูลทั้งหมด :', len(df))\n",
        "print('จำนวนชุดข้อมูล training :', len(df_train))\n",
        "print('จำนวนชุดข้อมูล test :', len(df_test))"
      ]
    },
    {
      "cell_type": "code",
      "execution_count": 483,
      "metadata": {},
      "outputs": [],
      "source": [
        "# แยก X,Y\n",
        "X_train = df_train[X_columns]\n",
        "Y_train = df_train['pH'].values.ravel()\n",
        "\n",
        "X_test = df_test[X_columns]\n",
        "Y_test = df_test['pH'].values.ravel()\n"
      ]
    },
    {
      "cell_type": "markdown",
      "metadata": {},
      "source": [
        "## Transform\n"
      ]
    },
    {
      "cell_type": "code",
      "execution_count": 484,
      "metadata": {},
      "outputs": [],
      "source": [
        "X_train_transform = scaler.transform(X_train)\n",
        "\n",
        "X_test_transform = scaler.transform(X_test)\n"
      ]
    },
    {
      "attachments": {},
      "cell_type": "markdown",
      "metadata": {},
      "source": [
        "# KNN\n"
      ]
    },
    {
      "cell_type": "code",
      "execution_count": 485,
      "metadata": {},
      "outputs": [],
      "source": [
        "from sklearn.neighbors import KNeighborsClassifier\n",
        "from sklearn.metrics import accuracy_score\n",
        "\n",
        "# สร้างโมเดล KNNC\n",
        "model = KNeighborsClassifier(n_neighbors=5)\n",
        "\n",
        "# ฝึกโมเดลด้วยชุด Train\n",
        "model.fit(X_train_transform,  Y_train)\n",
        "\n",
        "# ใช้โมเดลที่ฝึกแล้วทำนายคลาสของชุด test\n",
        "\n",
        "Y_pred = model.predict(X_test_transform)"
      ]
    },
    {
      "cell_type": "markdown",
      "metadata": {},
      "source": [
        "## Evaluating Model KNNC\n"
      ]
    },
    {
      "cell_type": "code",
      "execution_count": 495,
      "metadata": {},
      "outputs": [
        {
          "name": "stdout",
          "output_type": "stream",
          "text": [
            "KNNC Accuracy: 0.93\n",
            "KNNC MAE: 0.07\n"
          ]
        }
      ],
      "source": [
        "\n",
        "# คำนวณค่าความแม่นยำของโมเดล\n",
        "accuracy = accuracy_score(Y_test, Y_pred)\n",
        "\n",
        "print(f\"KNNC Accuracy: {accuracy}\")\n",
        "mean = mean_squared_error(Y_test, Y_pred)\n",
        "print(f\"KNNC MAE: {mean}\")"
      ]
    },
    {
      "cell_type": "code",
      "execution_count": 496,
      "metadata": {},
      "outputs": [
        {
          "data": {
            "image/png": "[encoded data removed]",
            "text/plain": [
              "<Figure size 640x480 with 2 Axes>"
            ]
          },
          "metadata": {},
          "output_type": "display_data"
        }
      ],
      "source": [
        "import matplotlib.pyplot as plt\n",
        "import seaborn as sns\n",
        "from sklearn.metrics import confusion_matrix\n",
        "\n",
        "\n",
        "# คำนวณ Confusion Matrix\n",
        "cm = confusion_matrix(Y_test, Y_pred)\n",
        "\n",
        "# แสดงผล Confusion Matrix ด้วย Heatmap\n",
        "plt.figure()\n",
        "sns.heatmap(cm, annot=True, cmap='Blues')\n",
        "plt.title('Confusion Matrix : KNN')\n",
        "plt.xlabel('Predicted Labels')\n",
        "plt.ylabel('True Labels')\n",
        "plt.show()"
      ]
    },
    {
      "attachments": {},
      "cell_type": "markdown",
      "metadata": {
        "id": "xJqnj1i7Q_ps"
      },
      "source": [
        "# Naive bayes\n"
      ]
    },
    {
      "cell_type": "code",
      "execution_count": 497,
      "metadata": {
        "id": "YHxec7RyQ_9g"
      },
      "outputs": [],
      "source": [
        "from sklearn.naive_bayes import GaussianNB\n",
        "from sklearn.metrics import accuracy_score"
      ]
    },
    {
      "cell_type": "code",
      "execution_count": 498,
      "metadata": {
        "id": "8ka8kni-RU-D"
      },
      "outputs": [],
      "source": [
        "# สร้างโมเดล Naive Bayes\n",
        "model = GaussianNB()\n",
        "\n",
        "# ฝึกโมเดลด้วยชุด Train\n",
        "model.fit(X_train_transform,  Y_train)\n",
        "\n",
        "# ใช้โมเดลที่ฝึกแล้วทำนายคลาสของชุด test\n",
        "\n",
        "Y_pred = model.predict(X_test_transform)"
      ]
    },
    {
      "attachments": {},
      "cell_type": "markdown",
      "metadata": {
        "id": "pglw-m6iVFrN"
      },
      "source": [
        "## Evaluating Model Naive bayes\n"
      ]
    },
    {
      "cell_type": "code",
      "execution_count": 499,
      "metadata": {
        "colab": {
          "base_uri": "https://localhost:8080/"
        },
        "id": "pqfBiJ9KVF6Y",
        "outputId": "70d0bc2d-77dd-4ee5-b4f8-b8f422d83849"
      },
      "outputs": [
        {
          "name": "stdout",
          "output_type": "stream",
          "text": [
            "Naive Bayes Accuracy: 0.39\n",
            "Naive Bayes MAE: 2.08\n"
          ]
        }
      ],
      "source": [
        "# คำนวณค่าความแม่นยำของโมเดล\n",
        "accuracy = accuracy_score(Y_test, Y_pred)\n",
        "\n",
        "print(f\"Naive Bayes Accuracy: {accuracy}\")\n",
        "\n",
        "mean = mean_squared_error(Y_test, Y_pred)\n",
        "print(f\"Naive Bayes MAE: {mean}\")"
      ]
    },
    {
      "cell_type": "code",
      "execution_count": 500,
      "metadata": {},
      "outputs": [
        {
          "data": {
            "image/png": "[encoded data removed]",
            "text/plain": [
              "<Figure size 640x480 with 2 Axes>"
            ]
          },
          "metadata": {},
          "output_type": "display_data"
        }
      ],
      "source": [
        "# คำนวณ Confusion Matrix\n",
        "cm = confusion_matrix(Y_test, Y_pred)\n",
        "\n",
        "# แสดงผล Confusion Matrix ด้วย Heatmap\n",
        "plt.figure()\n",
        "sns.heatmap(cm, annot=True, cmap='Blues')\n",
        "plt.title('Confusion Matrix : Naive Bayes')\n",
        "plt.xlabel('Predicted Labels')\n",
        "plt.ylabel('True Labels')\n",
        "plt.show()"
      ]
    },
    {
      "attachments": {},
      "cell_type": "markdown",
      "metadata": {
        "id": "k8Q8Q7AGTlD9"
      },
      "source": [
        "# Decision Tree\n"
      ]
    },
    {
      "cell_type": "code",
      "execution_count": 501,
      "metadata": {
        "id": "RquNdMN4ThkN"
      },
      "outputs": [],
      "source": [
        "from sklearn.tree import DecisionTreeClassifier\n",
        "\n",
        "\n",
        "# สร้างโมเดล Decision Tree\n",
        "model = DecisionTreeClassifier()\n",
        "\n",
        "# ฝึกโมเดลด้วยชุด Train\n",
        "model.fit(X_train_transform, Y_train)\n",
        "\n",
        "# ใช้โมเดลที่ฝึกแล้วทำนายคลาสของชุด Validation\n",
        "\n",
        "Y_pred = model.predict(X_test_transform)"
      ]
    },
    {
      "attachments": {},
      "cell_type": "markdown",
      "metadata": {
        "id": "N_r7HsgZU8_9"
      },
      "source": [
        "## Evaluating Model Decision Tree\n"
      ]
    },
    {
      "cell_type": "code",
      "execution_count": 502,
      "metadata": {
        "colab": {
          "base_uri": "https://localhost:8080/"
        },
        "id": "lgI2JCmKU-kW",
        "outputId": "c0a2a148-92fd-4a9a-9b54-dece5c66e0c8"
      },
      "outputs": [
        {
          "name": "stdout",
          "output_type": "stream",
          "text": [
            "Decision Tree Accuracy: 0.95\n",
            "Decision Tree MAE: 0.05\n"
          ]
        }
      ],
      "source": [
        "# คำนวณค่าความแม่นยำของโมเดล\n",
        "accuracy = accuracy_score(Y_test, Y_pred)\n",
        "\n",
        "# แสดงผลลัพธ์\n",
        "print(f\"Decision Tree Accuracy: {accuracy}\")\n",
        "\n",
        "mean = mean_squared_error(Y_test, Y_pred)\n",
        "print(f\"Decision Tree MAE: {mean}\")"
      ]
    },
    {
      "cell_type": "code",
      "execution_count": 503,
      "metadata": {},
      "outputs": [
        {
          "data": {
            "image/png": "[encoded data removed]",
            "text/plain": [
              "<Figure size 640x480 with 2 Axes>"
            ]
          },
          "metadata": {},
          "output_type": "display_data"
        }
      ],
      "source": [
        "# คำนวณ Confusion Matrix\n",
        "cm = confusion_matrix(Y_test, Y_pred)\n",
        "\n",
        "# แสดงผล Confusion Matrix ด้วย Heatmap\n",
        "plt.figure()\n",
        "sns.heatmap(cm, annot=True, cmap='Blues')\n",
        "plt.title('Confusion Matrix : Decision Tree')\n",
        "plt.xlabel('Predicted Labels')\n",
        "plt.ylabel('True Labels')\n",
        "plt.show()"
      ]
    }
  ],
  "metadata": {
    "accelerator": "TPU",
    "colab": {
      "provenance": []
    },
    "gpuClass": "standard",
    "kernelspec": {
      "display_name": "Python 3",
      "name": "python3"
    },
    "language_info": {
      "codemirror_mode": {
        "name": "ipython",
        "version": 3
      },
      "file_extension": ".py",
      "mimetype": "text/x-python",
      "name": "python",
      "nbconvert_exporter": "python",
      "pygments_lexer": "ipython3",
      "version": "3.11.4"
    }
  },
  "nbformat": 4,
  "nbformat_minor": 0
}
