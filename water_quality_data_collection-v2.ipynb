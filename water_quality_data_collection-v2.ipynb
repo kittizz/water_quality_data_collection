{
  "cells": [
    {
      "attachments": {},
      "cell_type": "markdown",
      "metadata": {
        "id": "eav8Z_I6Txhe"
      },
      "source": [
        "# Import Data\n"
      ]
    },
    {
      "cell_type": "code",
      "execution_count": 751,
      "metadata": {},
      "outputs": [
        {
          "name": "stdout",
          "output_type": "stream",
          "text": [
            "Requirement already satisfied: numpy in /opt/homebrew/lib/python3.11/site-packages (1.25.2)\n",
            "Note: you may need to restart the kernel to use updated packages.\n",
            "Requirement already satisfied: pandas in /opt/homebrew/lib/python3.11/site-packages (2.0.0)\n",
            "Requirement already satisfied: python-dateutil>=2.8.2 in /Users/kittizz/Library/Python/3.11/lib/python/site-packages (from pandas) (2.8.2)\n",
            "Requirement already satisfied: pytz>=2020.1 in /opt/homebrew/lib/python3.11/site-packages (from pandas) (2023.3)\n",
            "Requirement already satisfied: tzdata>=2022.1 in /opt/homebrew/lib/python3.11/site-packages (from pandas) (2023.3)\n",
            "Requirement already satisfied: numpy>=1.21.0 in /opt/homebrew/lib/python3.11/site-packages (from pandas) (1.25.2)\n",
            "Requirement already satisfied: six>=1.5 in /opt/homebrew/lib/python3.11/site-packages (from python-dateutil>=2.8.2->pandas) (1.16.0)\n",
            "Note: you may need to restart the kernel to use updated packages.\n",
            "Requirement already satisfied: matplotlib in /opt/homebrew/lib/python3.11/site-packages (3.7.1)\n",
            "Requirement already satisfied: contourpy>=1.0.1 in /opt/homebrew/lib/python3.11/site-packages (from matplotlib) (1.0.7)\n",
            "Requirement already satisfied: cycler>=0.10 in /opt/homebrew/lib/python3.11/site-packages (from matplotlib) (0.11.0)\n",
            "Requirement already satisfied: fonttools>=4.22.0 in /opt/homebrew/lib/python3.11/site-packages (from matplotlib) (4.39.3)\n",
            "Requirement already satisfied: kiwisolver>=1.0.1 in /opt/homebrew/lib/python3.11/site-packages (from matplotlib) (1.4.4)\n",
            "Requirement already satisfied: numpy>=1.20 in /opt/homebrew/lib/python3.11/site-packages (from matplotlib) (1.25.2)\n",
            "Requirement already satisfied: packaging>=20.0 in /Users/kittizz/Library/Python/3.11/lib/python/site-packages (from matplotlib) (23.0)\n",
            "Requirement already satisfied: pillow>=6.2.0 in /opt/homebrew/lib/python3.11/site-packages (from matplotlib) (10.0.0)\n",
            "Requirement already satisfied: pyparsing>=2.3.1 in /opt/homebrew/lib/python3.11/site-packages (from matplotlib) (3.0.9)\n",
            "Requirement already satisfied: python-dateutil>=2.7 in /Users/kittizz/Library/Python/3.11/lib/python/site-packages (from matplotlib) (2.8.2)\n",
            "Requirement already satisfied: six>=1.5 in /opt/homebrew/lib/python3.11/site-packages (from python-dateutil>=2.7->matplotlib) (1.16.0)\n",
            "Note: you may need to restart the kernel to use updated packages.\n",
            "Requirement already satisfied: xlrd in /opt/homebrew/lib/python3.11/site-packages (2.0.1)\n",
            "Note: you may need to restart the kernel to use updated packages.\n",
            "Requirement already satisfied: scikit-learn in /opt/homebrew/lib/python3.11/site-packages (1.2.2)\n",
            "Requirement already satisfied: numpy>=1.17.3 in /opt/homebrew/lib/python3.11/site-packages (from scikit-learn) (1.25.2)\n",
            "Requirement already satisfied: scipy>=1.3.2 in /opt/homebrew/lib/python3.11/site-packages (from scikit-learn) (1.10.1)\n",
            "Requirement already satisfied: joblib>=1.1.1 in /opt/homebrew/lib/python3.11/site-packages (from scikit-learn) (1.2.0)\n",
            "Requirement already satisfied: threadpoolctl>=2.0.0 in /opt/homebrew/lib/python3.11/site-packages (from scikit-learn) (3.1.0)\n",
            "Note: you may need to restart the kernel to use updated packages.\n",
            "Requirement already satisfied: seaborn in /opt/homebrew/lib/python3.11/site-packages (0.12.2)\n",
            "Requirement already satisfied: numpy!=1.24.0,>=1.17 in /opt/homebrew/lib/python3.11/site-packages (from seaborn) (1.25.2)\n",
            "Requirement already satisfied: pandas>=0.25 in /opt/homebrew/lib/python3.11/site-packages (from seaborn) (2.0.0)\n",
            "Requirement already satisfied: matplotlib!=3.6.1,>=3.1 in /opt/homebrew/lib/python3.11/site-packages (from seaborn) (3.7.1)\n",
            "Requirement already satisfied: contourpy>=1.0.1 in /opt/homebrew/lib/python3.11/site-packages (from matplotlib!=3.6.1,>=3.1->seaborn) (1.0.7)\n",
            "Requirement already satisfied: cycler>=0.10 in /opt/homebrew/lib/python3.11/site-packages (from matplotlib!=3.6.1,>=3.1->seaborn) (0.11.0)\n",
            "Requirement already satisfied: fonttools>=4.22.0 in /opt/homebrew/lib/python3.11/site-packages (from matplotlib!=3.6.1,>=3.1->seaborn) (4.39.3)\n",
            "Requirement already satisfied: kiwisolver>=1.0.1 in /opt/homebrew/lib/python3.11/site-packages (from matplotlib!=3.6.1,>=3.1->seaborn) (1.4.4)\n",
            "Requirement already satisfied: packaging>=20.0 in /Users/kittizz/Library/Python/3.11/lib/python/site-packages (from matplotlib!=3.6.1,>=3.1->seaborn) (23.0)\n",
            "Requirement already satisfied: pillow>=6.2.0 in /opt/homebrew/lib/python3.11/site-packages (from matplotlib!=3.6.1,>=3.1->seaborn) (10.0.0)\n",
            "Requirement already satisfied: pyparsing>=2.3.1 in /opt/homebrew/lib/python3.11/site-packages (from matplotlib!=3.6.1,>=3.1->seaborn) (3.0.9)\n",
            "Requirement already satisfied: python-dateutil>=2.7 in /Users/kittizz/Library/Python/3.11/lib/python/site-packages (from matplotlib!=3.6.1,>=3.1->seaborn) (2.8.2)\n",
            "Requirement already satisfied: pytz>=2020.1 in /opt/homebrew/lib/python3.11/site-packages (from pandas>=0.25->seaborn) (2023.3)\n",
            "Requirement already satisfied: tzdata>=2022.1 in /opt/homebrew/lib/python3.11/site-packages (from pandas>=0.25->seaborn) (2023.3)\n",
            "Requirement already satisfied: six>=1.5 in /opt/homebrew/lib/python3.11/site-packages (from python-dateutil>=2.7->matplotlib!=3.6.1,>=3.1->seaborn) (1.16.0)\n",
            "Note: you may need to restart the kernel to use updated packages.\n",
            "Requirement already satisfied: openpyxl in /opt/homebrew/lib/python3.11/site-packages (3.1.2)\n",
            "Requirement already satisfied: et-xmlfile in /opt/homebrew/lib/python3.11/site-packages (from openpyxl) (1.1.0)\n",
            "Note: you may need to restart the kernel to use updated packages.\n"
          ]
        }
      ],
      "source": [
        "%pip install numpy\n",
        "%pip install pandas\n",
        "%pip install matplotlib\n",
        "%pip install xlrd\n",
        "%pip install scikit-learn\n",
        "%pip install seaborn\n",
        "%pip install openpyxl\n"
      ]
    },
    {
      "cell_type": "code",
      "execution_count": 752,
      "metadata": {
        "id": "3TEPV63DTwOO"
      },
      "outputs": [],
      "source": [
        "import numpy as np\n",
        "import pandas as pd\n",
        "import matplotlib.pyplot as plt\n",
        "from pathlib import Path\n",
        "from sklearn.model_selection import train_test_split\n",
        "import seaborn as sns  # สร้างกราฟ Boxplot\n",
        "from scipy.stats import zscore\n",
        "from sklearn.metrics import mean_absolute_error\n",
        "\n",
        "%matplotlib inline\n"
      ]
    },
    {
      "cell_type": "code",
      "execution_count": 753,
      "metadata": {
        "id": "sxLcLFDElkSa"
      },
      "outputs": [],
      "source": [
        "df1 = pd.read_excel(\"./dataset/ค่าเฉลี่ยคุณภาพน้ำคลอง (พ.ศ. 2561-2563).xlsx\")\n",
        "df2 = pd.read_excel(\n",
        "    \"./dataset/ค่าเฉลี่ยคุณภาพน้ำแม่น้ำเจ้าพระยา ในเขตกรุงเทพมหานคร (พ.ศ.2561-2563).xlsx\")\n",
        "\n",
        "\n",
        "df_concat = pd.concat([df1, df2], axis=0)\n"
      ]
    },
    {
      "attachments": {},
      "cell_type": "markdown",
      "metadata": {
        "id": "HoBWH9Tj0GME"
      },
      "source": [
        "# Preprocessing - Data Cleaning\n"
      ]
    },
    {
      "cell_type": "code",
      "execution_count": 754,
      "metadata": {},
      "outputs": [
        {
          "data": {
            "text/plain": [
              "(938, 21)"
            ]
          },
          "execution_count": 754,
          "metadata": {},
          "output_type": "execute_result"
        }
      ],
      "source": [
        "df_concat.shape\n"
      ]
    },
    {
      "cell_type": "code",
      "execution_count": 755,
      "metadata": {},
      "outputs": [
        {
          "data": {
            "text/html": [
              "<div>\n",
              "<style scoped>\n",
              "    .dataframe tbody tr th:only-of-type {\n",
              "        vertical-align: middle;\n",
              "    }\n",
              "\n",
              "    .dataframe tbody tr th {\n",
              "        vertical-align: top;\n",
              "    }\n",
              "\n",
              "    .dataframe thead th {\n",
              "        text-align: right;\n",
              "    }\n",
              "</style>\n",
              "<table border=\"1\" class=\"dataframe\">\n",
              "  <thead>\n",
              "    <tr style=\"text-align: right;\">\n",
              "      <th></th>\n",
              "      <th>Canal_id</th>\n",
              "      <th>year</th>\n",
              "      <th>Canal_name</th>\n",
              "      <th>Sample_water_point</th>\n",
              "      <th>TEMP. (oC)</th>\n",
              "      <th>pH</th>\n",
              "      <th>DO (mg/l)</th>\n",
              "      <th>H2S (mg/l)</th>\n",
              "      <th>BOD (mg/l)</th>\n",
              "      <th>COD (mg/l)</th>\n",
              "      <th>...</th>\n",
              "      <th>TKN (mg/l)</th>\n",
              "      <th>NH3N (mg/l)</th>\n",
              "      <th>NO2 (mg/l)</th>\n",
              "      <th>NO3 (mg/l)</th>\n",
              "      <th>T-P (mg/l)</th>\n",
              "      <th>T.Coliform (col/100ml)</th>\n",
              "      <th>No_</th>\n",
              "      <th>year_</th>\n",
              "      <th>Conduct. (us/cm)</th>\n",
              "      <th>Salinity (ppt)</th>\n",
              "    </tr>\n",
              "  </thead>\n",
              "  <tbody>\n",
              "    <tr>\n",
              "      <th>0</th>\n",
              "      <td>12.0</td>\n",
              "      <td>2561.0</td>\n",
              "      <td>คลองคูเมืองเดิม</td>\n",
              "      <td>ปตร.ราชินี</td>\n",
              "      <td>25.00</td>\n",
              "      <td>8.00</td>\n",
              "      <td>2.70</td>\n",
              "      <td>0.0</td>\n",
              "      <td>5.00</td>\n",
              "      <td>42.00</td>\n",
              "      <td>...</td>\n",
              "      <td>2.20</td>\n",
              "      <td>0.90</td>\n",
              "      <td>0.00</td>\n",
              "      <td>2.20</td>\n",
              "      <td>0.10</td>\n",
              "      <td>930000.0</td>\n",
              "      <td>NaN</td>\n",
              "      <td>NaN</td>\n",
              "      <td>NaN</td>\n",
              "      <td>NaN</td>\n",
              "    </tr>\n",
              "    <tr>\n",
              "      <th>1</th>\n",
              "      <td>13.0</td>\n",
              "      <td>2561.0</td>\n",
              "      <td>คลองคูเมืองเดิม</td>\n",
              "      <td>หน้ากรมที่ดิน</td>\n",
              "      <td>25.00</td>\n",
              "      <td>8.10</td>\n",
              "      <td>2.40</td>\n",
              "      <td>0.0</td>\n",
              "      <td>5.00</td>\n",
              "      <td>53.00</td>\n",
              "      <td>...</td>\n",
              "      <td>1.70</td>\n",
              "      <td>0.60</td>\n",
              "      <td>0.00</td>\n",
              "      <td>2.20</td>\n",
              "      <td>0.10</td>\n",
              "      <td>11000000.0</td>\n",
              "      <td>NaN</td>\n",
              "      <td>NaN</td>\n",
              "      <td>NaN</td>\n",
              "      <td>NaN</td>\n",
              "    </tr>\n",
              "    <tr>\n",
              "      <th>2</th>\n",
              "      <td>14.0</td>\n",
              "      <td>2561.0</td>\n",
              "      <td>คลองคูเมืองเดิม</td>\n",
              "      <td>อนุสาวรีย์แม่ธรณีมวยผม สนามหลวง</td>\n",
              "      <td>25.00</td>\n",
              "      <td>8.00</td>\n",
              "      <td>1.70</td>\n",
              "      <td>0.0</td>\n",
              "      <td>5.00</td>\n",
              "      <td>56.00</td>\n",
              "      <td>...</td>\n",
              "      <td>2.20</td>\n",
              "      <td>0.60</td>\n",
              "      <td>0.34</td>\n",
              "      <td>2.30</td>\n",
              "      <td>0.20</td>\n",
              "      <td>4600000.0</td>\n",
              "      <td>NaN</td>\n",
              "      <td>NaN</td>\n",
              "      <td>NaN</td>\n",
              "      <td>NaN</td>\n",
              "    </tr>\n",
              "    <tr>\n",
              "      <th>3</th>\n",
              "      <td>15.0</td>\n",
              "      <td>2561.0</td>\n",
              "      <td>คลองคูเมืองเดิม</td>\n",
              "      <td>ปตร. พระปิ่นเกล้า</td>\n",
              "      <td>25.00</td>\n",
              "      <td>7.90</td>\n",
              "      <td>3.00</td>\n",
              "      <td>0.0</td>\n",
              "      <td>4.00</td>\n",
              "      <td>47.00</td>\n",
              "      <td>...</td>\n",
              "      <td>2.80</td>\n",
              "      <td>0.60</td>\n",
              "      <td>0.00</td>\n",
              "      <td>1.90</td>\n",
              "      <td>0.10</td>\n",
              "      <td>30000.0</td>\n",
              "      <td>NaN</td>\n",
              "      <td>NaN</td>\n",
              "      <td>NaN</td>\n",
              "      <td>NaN</td>\n",
              "    </tr>\n",
              "    <tr>\n",
              "      <th>4</th>\n",
              "      <td>16.0</td>\n",
              "      <td>2561.0</td>\n",
              "      <td>คลองคูเมืองเดิม</td>\n",
              "      <td>สะพานหน้ากระทรวงมหาดไทย</td>\n",
              "      <td>25.00</td>\n",
              "      <td>7.30</td>\n",
              "      <td>1.40</td>\n",
              "      <td>0.0</td>\n",
              "      <td>6.00</td>\n",
              "      <td>36.00</td>\n",
              "      <td>...</td>\n",
              "      <td>2.80</td>\n",
              "      <td>0.60</td>\n",
              "      <td>0.14</td>\n",
              "      <td>1.10</td>\n",
              "      <td>0.30</td>\n",
              "      <td>1500000.0</td>\n",
              "      <td>NaN</td>\n",
              "      <td>NaN</td>\n",
              "      <td>NaN</td>\n",
              "      <td>NaN</td>\n",
              "    </tr>\n",
              "    <tr>\n",
              "      <th>...</th>\n",
              "      <td>...</td>\n",
              "      <td>...</td>\n",
              "      <td>...</td>\n",
              "      <td>...</td>\n",
              "      <td>...</td>\n",
              "      <td>...</td>\n",
              "      <td>...</td>\n",
              "      <td>...</td>\n",
              "      <td>...</td>\n",
              "      <td>...</td>\n",
              "      <td>...</td>\n",
              "      <td>...</td>\n",
              "      <td>...</td>\n",
              "      <td>...</td>\n",
              "      <td>...</td>\n",
              "      <td>...</td>\n",
              "      <td>...</td>\n",
              "      <td>...</td>\n",
              "      <td>...</td>\n",
              "      <td>...</td>\n",
              "      <td>...</td>\n",
              "    </tr>\n",
              "    <tr>\n",
              "      <th>16</th>\n",
              "      <td>NaN</td>\n",
              "      <td>NaN</td>\n",
              "      <td>NaN</td>\n",
              "      <td>สะพานพระพุทธยอดฟ้า</td>\n",
              "      <td>30.87</td>\n",
              "      <td>6.98</td>\n",
              "      <td>1.93</td>\n",
              "      <td>0.0</td>\n",
              "      <td>4.19</td>\n",
              "      <td>78.63</td>\n",
              "      <td>...</td>\n",
              "      <td>2.68</td>\n",
              "      <td>0.14</td>\n",
              "      <td>0.33</td>\n",
              "      <td>3.47</td>\n",
              "      <td>0.40</td>\n",
              "      <td>10300000.0</td>\n",
              "      <td>3.0</td>\n",
              "      <td>2563.0</td>\n",
              "      <td>5492.99</td>\n",
              "      <td>3.09</td>\n",
              "    </tr>\n",
              "    <tr>\n",
              "      <th>17</th>\n",
              "      <td>NaN</td>\n",
              "      <td>NaN</td>\n",
              "      <td>NaN</td>\n",
              "      <td>สะพานกรุงเทพ</td>\n",
              "      <td>30.87</td>\n",
              "      <td>6.96</td>\n",
              "      <td>2.23</td>\n",
              "      <td>0.0</td>\n",
              "      <td>4.88</td>\n",
              "      <td>89.79</td>\n",
              "      <td>...</td>\n",
              "      <td>3.28</td>\n",
              "      <td>0.58</td>\n",
              "      <td>0.44</td>\n",
              "      <td>3.26</td>\n",
              "      <td>0.40</td>\n",
              "      <td>19900000.0</td>\n",
              "      <td>4.0</td>\n",
              "      <td>2563.0</td>\n",
              "      <td>7305.01</td>\n",
              "      <td>4.21</td>\n",
              "    </tr>\n",
              "    <tr>\n",
              "      <th>18</th>\n",
              "      <td>NaN</td>\n",
              "      <td>NaN</td>\n",
              "      <td>NaN</td>\n",
              "      <td>สะพานพระราม 9</td>\n",
              "      <td>30.87</td>\n",
              "      <td>6.96</td>\n",
              "      <td>2.16</td>\n",
              "      <td>0.0</td>\n",
              "      <td>4.67</td>\n",
              "      <td>98.00</td>\n",
              "      <td>...</td>\n",
              "      <td>2.75</td>\n",
              "      <td>0.43</td>\n",
              "      <td>0.44</td>\n",
              "      <td>3.13</td>\n",
              "      <td>0.38</td>\n",
              "      <td>432000.0</td>\n",
              "      <td>5.0</td>\n",
              "      <td>2563.0</td>\n",
              "      <td>8578.67</td>\n",
              "      <td>5.01</td>\n",
              "    </tr>\n",
              "    <tr>\n",
              "      <th>19</th>\n",
              "      <td>NaN</td>\n",
              "      <td>NaN</td>\n",
              "      <td>NaN</td>\n",
              "      <td>ท่าเรือวัดคลองภูมิ</td>\n",
              "      <td>30.58</td>\n",
              "      <td>7.02</td>\n",
              "      <td>3.41</td>\n",
              "      <td>0.0</td>\n",
              "      <td>5.18</td>\n",
              "      <td>126.11</td>\n",
              "      <td>...</td>\n",
              "      <td>2.80</td>\n",
              "      <td>0.26</td>\n",
              "      <td>0.55</td>\n",
              "      <td>2.73</td>\n",
              "      <td>0.53</td>\n",
              "      <td>25700000.0</td>\n",
              "      <td>6.0</td>\n",
              "      <td>2563.0</td>\n",
              "      <td>11872.75</td>\n",
              "      <td>7.07</td>\n",
              "    </tr>\n",
              "    <tr>\n",
              "      <th>20</th>\n",
              "      <td>NaN</td>\n",
              "      <td>NaN</td>\n",
              "      <td>NaN</td>\n",
              "      <td>วัดบางนา</td>\n",
              "      <td>30.87</td>\n",
              "      <td>6.93</td>\n",
              "      <td>2.35</td>\n",
              "      <td>0.0</td>\n",
              "      <td>5.19</td>\n",
              "      <td>114.58</td>\n",
              "      <td>...</td>\n",
              "      <td>2.77</td>\n",
              "      <td>0.80</td>\n",
              "      <td>0.53</td>\n",
              "      <td>2.93</td>\n",
              "      <td>0.58</td>\n",
              "      <td>874000.0</td>\n",
              "      <td>7.0</td>\n",
              "      <td>2563.0</td>\n",
              "      <td>13328.97</td>\n",
              "      <td>8.11</td>\n",
              "    </tr>\n",
              "  </tbody>\n",
              "</table>\n",
              "<p>938 rows × 21 columns</p>\n",
              "</div>"
            ],
            "text/plain": [
              "    Canal_id    year       Canal_name               Sample_water_point   \n",
              "0       12.0  2561.0  คลองคูเมืองเดิม                       ปตร.ราชินี  \\\n",
              "1       13.0  2561.0  คลองคูเมืองเดิม                    หน้ากรมที่ดิน   \n",
              "2       14.0  2561.0  คลองคูเมืองเดิม  อนุสาวรีย์แม่ธรณีมวยผม สนามหลวง   \n",
              "3       15.0  2561.0  คลองคูเมืองเดิม                ปตร. พระปิ่นเกล้า   \n",
              "4       16.0  2561.0  คลองคูเมืองเดิม          สะพานหน้ากระทรวงมหาดไทย   \n",
              "..       ...     ...              ...                              ...   \n",
              "16       NaN     NaN              NaN               สะพานพระพุทธยอดฟ้า   \n",
              "17       NaN     NaN              NaN                     สะพานกรุงเทพ   \n",
              "18       NaN     NaN              NaN                   สะพานพระราม 9    \n",
              "19       NaN     NaN              NaN               ท่าเรือวัดคลองภูมิ   \n",
              "20       NaN     NaN              NaN                         วัดบางนา   \n",
              "\n",
              "    TEMP. (oC)    pH  DO (mg/l)  H2S (mg/l)  BOD (mg/l)  COD (mg/l)  ...   \n",
              "0        25.00  8.00       2.70         0.0        5.00       42.00  ...  \\\n",
              "1        25.00  8.10       2.40         0.0        5.00       53.00  ...   \n",
              "2        25.00  8.00       1.70         0.0        5.00       56.00  ...   \n",
              "3        25.00  7.90       3.00         0.0        4.00       47.00  ...   \n",
              "4        25.00  7.30       1.40         0.0        6.00       36.00  ...   \n",
              "..         ...   ...        ...         ...         ...         ...  ...   \n",
              "16       30.87  6.98       1.93         0.0        4.19       78.63  ...   \n",
              "17       30.87  6.96       2.23         0.0        4.88       89.79  ...   \n",
              "18       30.87  6.96       2.16         0.0        4.67       98.00  ...   \n",
              "19       30.58  7.02       3.41         0.0        5.18      126.11  ...   \n",
              "20       30.87  6.93       2.35         0.0        5.19      114.58  ...   \n",
              "\n",
              "    TKN (mg/l)  NH3N (mg/l)  NO2 (mg/l)  NO3 (mg/l)  T-P (mg/l)   \n",
              "0         2.20         0.90        0.00        2.20        0.10  \\\n",
              "1         1.70         0.60        0.00        2.20        0.10   \n",
              "2         2.20         0.60        0.34        2.30        0.20   \n",
              "3         2.80         0.60        0.00        1.90        0.10   \n",
              "4         2.80         0.60        0.14        1.10        0.30   \n",
              "..         ...          ...         ...         ...         ...   \n",
              "16        2.68         0.14        0.33        3.47        0.40   \n",
              "17        3.28         0.58        0.44        3.26        0.40   \n",
              "18        2.75         0.43        0.44        3.13        0.38   \n",
              "19        2.80         0.26        0.55        2.73        0.53   \n",
              "20        2.77         0.80        0.53        2.93        0.58   \n",
              "\n",
              "    T.Coliform (col/100ml)  No_   year_  Conduct. (us/cm)  Salinity (ppt)  \n",
              "0                 930000.0  NaN     NaN               NaN             NaN  \n",
              "1               11000000.0  NaN     NaN               NaN             NaN  \n",
              "2                4600000.0  NaN     NaN               NaN             NaN  \n",
              "3                  30000.0  NaN     NaN               NaN             NaN  \n",
              "4                1500000.0  NaN     NaN               NaN             NaN  \n",
              "..                     ...  ...     ...               ...             ...  \n",
              "16              10300000.0  3.0  2563.0           5492.99            3.09  \n",
              "17              19900000.0  4.0  2563.0           7305.01            4.21  \n",
              "18                432000.0  5.0  2563.0           8578.67            5.01  \n",
              "19              25700000.0  6.0  2563.0          11872.75            7.07  \n",
              "20                874000.0  7.0  2563.0          13328.97            8.11  \n",
              "\n",
              "[938 rows x 21 columns]"
            ]
          },
          "execution_count": 755,
          "metadata": {},
          "output_type": "execute_result"
        }
      ],
      "source": [
        "df_concat\n"
      ]
    },
    {
      "cell_type": "code",
      "execution_count": 756,
      "metadata": {},
      "outputs": [],
      "source": [
        "df = df_concat.copy()\n",
        "df.rename(columns=lambda x: x.strip(), inplace=True)"
      ]
    },
    {
      "cell_type": "code",
      "execution_count": 757,
      "metadata": {},
      "outputs": [
        {
          "data": {
            "text/plain": [
              "Index(['Canal_id', 'year', 'Canal_name', 'Sample_water_point', 'TEMP. (oC)',\n",
              "       'pH', 'DO (mg/l)', 'H2S (mg/l)', 'BOD (mg/l)', 'COD (mg/l)',\n",
              "       'SS (mg/l)', 'TKN (mg/l)', 'NH3N (mg/l)', 'NO2 (mg/l)', 'NO3 (mg/l)',\n",
              "       'T-P (mg/l)', 'T.Coliform (col/100ml)', 'No_', 'year_',\n",
              "       'Conduct. (us/cm)', 'Salinity (ppt)'],\n",
              "      dtype='object')"
            ]
          },
          "execution_count": 757,
          "metadata": {},
          "output_type": "execute_result"
        }
      ],
      "source": [
        "df.columns\n"
      ]
    },
    {
      "cell_type": "code",
      "execution_count": 758,
      "metadata": {},
      "outputs": [],
      "source": [
        "weighting = {\n",
        "    \"DO (mg/l)\": 0.22,\n",
        "    \"BOD (mg/l)\": 0.19,\n",
        "    \"COD (mg/l)\": 0.16,\n",
        "    \"NH3N (mg/l)\": 0.15,\n",
        "    \"SS (mg/l)\": 0.16,\n",
        "    \"pH\": 0.12\n",
        "}"
      ]
    },
    {
      "cell_type": "code",
      "execution_count": 759,
      "metadata": {},
      "outputs": [],
      "source": [
        "\n",
        "# เลือกเฉพาะ columns\n",
        "df = df[[\"DO (mg/l)\", \"BOD (mg/l)\", \"COD (mg/l)\",\n",
        "         \"NH3N (mg/l)\", \"SS (mg/l)\", \"pH\"]]"
      ]
    },
    {
      "cell_type": "code",
      "execution_count": 760,
      "metadata": {},
      "outputs": [
        {
          "data": {
            "text/html": [
              "<div>\n",
              "<style scoped>\n",
              "    .dataframe tbody tr th:only-of-type {\n",
              "        vertical-align: middle;\n",
              "    }\n",
              "\n",
              "    .dataframe tbody tr th {\n",
              "        vertical-align: top;\n",
              "    }\n",
              "\n",
              "    .dataframe thead th {\n",
              "        text-align: right;\n",
              "    }\n",
              "</style>\n",
              "<table border=\"1\" class=\"dataframe\">\n",
              "  <thead>\n",
              "    <tr style=\"text-align: right;\">\n",
              "      <th></th>\n",
              "      <th>DO (mg/l)</th>\n",
              "      <th>BOD (mg/l)</th>\n",
              "      <th>COD (mg/l)</th>\n",
              "      <th>NH3N (mg/l)</th>\n",
              "      <th>SS (mg/l)</th>\n",
              "      <th>pH</th>\n",
              "    </tr>\n",
              "  </thead>\n",
              "  <tbody>\n",
              "    <tr>\n",
              "      <th>0</th>\n",
              "      <td>2.70</td>\n",
              "      <td>5.00</td>\n",
              "      <td>42.00</td>\n",
              "      <td>0.90</td>\n",
              "      <td>26.00</td>\n",
              "      <td>8.00</td>\n",
              "    </tr>\n",
              "    <tr>\n",
              "      <th>1</th>\n",
              "      <td>2.40</td>\n",
              "      <td>5.00</td>\n",
              "      <td>53.00</td>\n",
              "      <td>0.60</td>\n",
              "      <td>25.00</td>\n",
              "      <td>8.10</td>\n",
              "    </tr>\n",
              "    <tr>\n",
              "      <th>2</th>\n",
              "      <td>1.70</td>\n",
              "      <td>5.00</td>\n",
              "      <td>56.00</td>\n",
              "      <td>0.60</td>\n",
              "      <td>24.00</td>\n",
              "      <td>8.00</td>\n",
              "    </tr>\n",
              "    <tr>\n",
              "      <th>3</th>\n",
              "      <td>3.00</td>\n",
              "      <td>4.00</td>\n",
              "      <td>47.00</td>\n",
              "      <td>0.60</td>\n",
              "      <td>17.00</td>\n",
              "      <td>7.90</td>\n",
              "    </tr>\n",
              "    <tr>\n",
              "      <th>4</th>\n",
              "      <td>1.40</td>\n",
              "      <td>6.00</td>\n",
              "      <td>36.00</td>\n",
              "      <td>0.60</td>\n",
              "      <td>7.00</td>\n",
              "      <td>7.30</td>\n",
              "    </tr>\n",
              "    <tr>\n",
              "      <th>...</th>\n",
              "      <td>...</td>\n",
              "      <td>...</td>\n",
              "      <td>...</td>\n",
              "      <td>...</td>\n",
              "      <td>...</td>\n",
              "      <td>...</td>\n",
              "    </tr>\n",
              "    <tr>\n",
              "      <th>16</th>\n",
              "      <td>1.93</td>\n",
              "      <td>4.19</td>\n",
              "      <td>78.63</td>\n",
              "      <td>0.14</td>\n",
              "      <td>57.83</td>\n",
              "      <td>6.98</td>\n",
              "    </tr>\n",
              "    <tr>\n",
              "      <th>17</th>\n",
              "      <td>2.23</td>\n",
              "      <td>4.88</td>\n",
              "      <td>89.79</td>\n",
              "      <td>0.58</td>\n",
              "      <td>40.33</td>\n",
              "      <td>6.96</td>\n",
              "    </tr>\n",
              "    <tr>\n",
              "      <th>18</th>\n",
              "      <td>2.16</td>\n",
              "      <td>4.67</td>\n",
              "      <td>98.00</td>\n",
              "      <td>0.43</td>\n",
              "      <td>48.29</td>\n",
              "      <td>6.96</td>\n",
              "    </tr>\n",
              "    <tr>\n",
              "      <th>19</th>\n",
              "      <td>3.41</td>\n",
              "      <td>5.18</td>\n",
              "      <td>126.11</td>\n",
              "      <td>0.26</td>\n",
              "      <td>54.50</td>\n",
              "      <td>7.02</td>\n",
              "    </tr>\n",
              "    <tr>\n",
              "      <th>20</th>\n",
              "      <td>2.35</td>\n",
              "      <td>5.19</td>\n",
              "      <td>114.58</td>\n",
              "      <td>0.80</td>\n",
              "      <td>96.42</td>\n",
              "      <td>6.93</td>\n",
              "    </tr>\n",
              "  </tbody>\n",
              "</table>\n",
              "<p>938 rows × 6 columns</p>\n",
              "</div>"
            ],
            "text/plain": [
              "    DO (mg/l)  BOD (mg/l)  COD (mg/l)  NH3N (mg/l)  SS (mg/l)    pH\n",
              "0        2.70        5.00       42.00         0.90      26.00  8.00\n",
              "1        2.40        5.00       53.00         0.60      25.00  8.10\n",
              "2        1.70        5.00       56.00         0.60      24.00  8.00\n",
              "3        3.00        4.00       47.00         0.60      17.00  7.90\n",
              "4        1.40        6.00       36.00         0.60       7.00  7.30\n",
              "..        ...         ...         ...          ...        ...   ...\n",
              "16       1.93        4.19       78.63         0.14      57.83  6.98\n",
              "17       2.23        4.88       89.79         0.58      40.33  6.96\n",
              "18       2.16        4.67       98.00         0.43      48.29  6.96\n",
              "19       3.41        5.18      126.11         0.26      54.50  7.02\n",
              "20       2.35        5.19      114.58         0.80      96.42  6.93\n",
              "\n",
              "[938 rows x 6 columns]"
            ]
          },
          "execution_count": 760,
          "metadata": {},
          "output_type": "execute_result"
        }
      ],
      "source": [
        "df\n"
      ]
    },
    {
      "attachments": {},
      "cell_type": "markdown",
      "metadata": {
        "id": "LXMIo2RE0qAt"
      },
      "source": [
        "## missing value\n"
      ]
    },
    {
      "cell_type": "code",
      "execution_count": 761,
      "metadata": {
        "colab": {
          "base_uri": "https://localhost:8080/"
        },
        "id": "Hkenryba0gdD",
        "outputId": "076f426c-2035-485f-b7da-1df1190a2925"
      },
      "outputs": [
        {
          "data": {
            "text/plain": [
              "DO (mg/l)      0\n",
              "BOD (mg/l)     0\n",
              "COD (mg/l)     0\n",
              "NH3N (mg/l)    0\n",
              "SS (mg/l)      0\n",
              "pH             0\n",
              "dtype: int64"
            ]
          },
          "execution_count": 761,
          "metadata": {},
          "output_type": "execute_result"
        }
      ],
      "source": [
        "# ตรวจสอบ missing value\n",
        "df.isnull().sum()\n"
      ]
    },
    {
      "cell_type": "code",
      "execution_count": 762,
      "metadata": {},
      "outputs": [
        {
          "data": {
            "text/html": [
              "<div>\n",
              "<style scoped>\n",
              "    .dataframe tbody tr th:only-of-type {\n",
              "        vertical-align: middle;\n",
              "    }\n",
              "\n",
              "    .dataframe tbody tr th {\n",
              "        vertical-align: top;\n",
              "    }\n",
              "\n",
              "    .dataframe thead th {\n",
              "        text-align: right;\n",
              "    }\n",
              "</style>\n",
              "<table border=\"1\" class=\"dataframe\">\n",
              "  <thead>\n",
              "    <tr style=\"text-align: right;\">\n",
              "      <th></th>\n",
              "      <th>DO (mg/l)</th>\n",
              "      <th>BOD (mg/l)</th>\n",
              "      <th>COD (mg/l)</th>\n",
              "      <th>NH3N (mg/l)</th>\n",
              "      <th>SS (mg/l)</th>\n",
              "      <th>pH</th>\n",
              "    </tr>\n",
              "  </thead>\n",
              "  <tbody>\n",
              "    <tr>\n",
              "      <th>0</th>\n",
              "      <td>2.70</td>\n",
              "      <td>5.00</td>\n",
              "      <td>42.00</td>\n",
              "      <td>0.90</td>\n",
              "      <td>26.00</td>\n",
              "      <td>8.00</td>\n",
              "    </tr>\n",
              "    <tr>\n",
              "      <th>1</th>\n",
              "      <td>2.40</td>\n",
              "      <td>5.00</td>\n",
              "      <td>53.00</td>\n",
              "      <td>0.60</td>\n",
              "      <td>25.00</td>\n",
              "      <td>8.10</td>\n",
              "    </tr>\n",
              "    <tr>\n",
              "      <th>2</th>\n",
              "      <td>1.70</td>\n",
              "      <td>5.00</td>\n",
              "      <td>56.00</td>\n",
              "      <td>0.60</td>\n",
              "      <td>24.00</td>\n",
              "      <td>8.00</td>\n",
              "    </tr>\n",
              "    <tr>\n",
              "      <th>3</th>\n",
              "      <td>3.00</td>\n",
              "      <td>4.00</td>\n",
              "      <td>47.00</td>\n",
              "      <td>0.60</td>\n",
              "      <td>17.00</td>\n",
              "      <td>7.90</td>\n",
              "    </tr>\n",
              "    <tr>\n",
              "      <th>4</th>\n",
              "      <td>1.40</td>\n",
              "      <td>6.00</td>\n",
              "      <td>36.00</td>\n",
              "      <td>0.60</td>\n",
              "      <td>7.00</td>\n",
              "      <td>7.30</td>\n",
              "    </tr>\n",
              "    <tr>\n",
              "      <th>...</th>\n",
              "      <td>...</td>\n",
              "      <td>...</td>\n",
              "      <td>...</td>\n",
              "      <td>...</td>\n",
              "      <td>...</td>\n",
              "      <td>...</td>\n",
              "    </tr>\n",
              "    <tr>\n",
              "      <th>16</th>\n",
              "      <td>1.93</td>\n",
              "      <td>4.19</td>\n",
              "      <td>78.63</td>\n",
              "      <td>0.14</td>\n",
              "      <td>57.83</td>\n",
              "      <td>6.98</td>\n",
              "    </tr>\n",
              "    <tr>\n",
              "      <th>17</th>\n",
              "      <td>2.23</td>\n",
              "      <td>4.88</td>\n",
              "      <td>89.79</td>\n",
              "      <td>0.58</td>\n",
              "      <td>40.33</td>\n",
              "      <td>6.96</td>\n",
              "    </tr>\n",
              "    <tr>\n",
              "      <th>18</th>\n",
              "      <td>2.16</td>\n",
              "      <td>4.67</td>\n",
              "      <td>98.00</td>\n",
              "      <td>0.43</td>\n",
              "      <td>48.29</td>\n",
              "      <td>6.96</td>\n",
              "    </tr>\n",
              "    <tr>\n",
              "      <th>19</th>\n",
              "      <td>3.41</td>\n",
              "      <td>5.18</td>\n",
              "      <td>126.11</td>\n",
              "      <td>0.26</td>\n",
              "      <td>54.50</td>\n",
              "      <td>7.02</td>\n",
              "    </tr>\n",
              "    <tr>\n",
              "      <th>20</th>\n",
              "      <td>2.35</td>\n",
              "      <td>5.19</td>\n",
              "      <td>114.58</td>\n",
              "      <td>0.80</td>\n",
              "      <td>96.42</td>\n",
              "      <td>6.93</td>\n",
              "    </tr>\n",
              "  </tbody>\n",
              "</table>\n",
              "<p>938 rows × 6 columns</p>\n",
              "</div>"
            ],
            "text/plain": [
              "    DO (mg/l)  BOD (mg/l)  COD (mg/l)  NH3N (mg/l)  SS (mg/l)    pH\n",
              "0        2.70        5.00       42.00         0.90      26.00  8.00\n",
              "1        2.40        5.00       53.00         0.60      25.00  8.10\n",
              "2        1.70        5.00       56.00         0.60      24.00  8.00\n",
              "3        3.00        4.00       47.00         0.60      17.00  7.90\n",
              "4        1.40        6.00       36.00         0.60       7.00  7.30\n",
              "..        ...         ...         ...          ...        ...   ...\n",
              "16       1.93        4.19       78.63         0.14      57.83  6.98\n",
              "17       2.23        4.88       89.79         0.58      40.33  6.96\n",
              "18       2.16        4.67       98.00         0.43      48.29  6.96\n",
              "19       3.41        5.18      126.11         0.26      54.50  7.02\n",
              "20       2.35        5.19      114.58         0.80      96.42  6.93\n",
              "\n",
              "[938 rows x 6 columns]"
            ]
          },
          "execution_count": 762,
          "metadata": {},
          "output_type": "execute_result"
        }
      ],
      "source": [
        "df"
      ]
    },
    {
      "cell_type": "code",
      "execution_count": 763,
      "metadata": {},
      "outputs": [],
      "source": [
        "# แปลงตัวเลขที่เป็น string ให้เป็นตัวเลข และ เปลี่ยนตัวอักษรที่ไม่ถูกต้องให้เป็น NaN\n",
        "for col in df.columns:\n",
        "    df[col] = pd.to_numeric(df[col], errors='coerce')\n"
      ]
    },
    {
      "cell_type": "code",
      "execution_count": 764,
      "metadata": {},
      "outputs": [],
      "source": [
        "# ลบข้อมูลที่มี missing value ออกไป\n",
        "df.dropna(inplace=True)\n"
      ]
    },
    {
      "cell_type": "code",
      "execution_count": 765,
      "metadata": {},
      "outputs": [
        {
          "data": {
            "text/plain": [
              "DO (mg/l)      0\n",
              "BOD (mg/l)     0\n",
              "COD (mg/l)     0\n",
              "NH3N (mg/l)    0\n",
              "SS (mg/l)      0\n",
              "pH             0\n",
              "dtype: int64"
            ]
          },
          "execution_count": 765,
          "metadata": {},
          "output_type": "execute_result"
        }
      ],
      "source": [
        "df.isnull().sum()\n"
      ]
    },
    {
      "cell_type": "code",
      "execution_count": 766,
      "metadata": {},
      "outputs": [],
      "source": [
        "# reset index\n",
        "df = df.reindex()\n"
      ]
    },
    {
      "attachments": {},
      "cell_type": "markdown",
      "metadata": {
        "id": "LaGv8c0s07U5"
      },
      "source": [
        "## Outlier data\n"
      ]
    },
    {
      "cell_type": "code",
      "execution_count": 767,
      "metadata": {
        "colab": {
          "base_uri": "https://localhost:8080/",
          "height": 300
        },
        "id": "AObeEgAt1jmz",
        "outputId": "feb327b3-aee5-4a99-84ca-a84bcf7d6bbe"
      },
      "outputs": [
        {
          "data": {
            "text/html": [
              "<div>\n",
              "<style scoped>\n",
              "    .dataframe tbody tr th:only-of-type {\n",
              "        vertical-align: middle;\n",
              "    }\n",
              "\n",
              "    .dataframe tbody tr th {\n",
              "        vertical-align: top;\n",
              "    }\n",
              "\n",
              "    .dataframe thead th {\n",
              "        text-align: right;\n",
              "    }\n",
              "</style>\n",
              "<table border=\"1\" class=\"dataframe\">\n",
              "  <thead>\n",
              "    <tr style=\"text-align: right;\">\n",
              "      <th></th>\n",
              "      <th>DO (mg/l)</th>\n",
              "      <th>BOD (mg/l)</th>\n",
              "      <th>COD (mg/l)</th>\n",
              "      <th>NH3N (mg/l)</th>\n",
              "      <th>SS (mg/l)</th>\n",
              "      <th>pH</th>\n",
              "    </tr>\n",
              "  </thead>\n",
              "  <tbody>\n",
              "    <tr>\n",
              "      <th>count</th>\n",
              "      <td>938.000000</td>\n",
              "      <td>938.000000</td>\n",
              "      <td>938.000000</td>\n",
              "      <td>938.000000</td>\n",
              "      <td>938.000000</td>\n",
              "      <td>938.000000</td>\n",
              "    </tr>\n",
              "    <tr>\n",
              "      <th>mean</th>\n",
              "      <td>1.681980</td>\n",
              "      <td>12.609649</td>\n",
              "      <td>64.169236</td>\n",
              "      <td>4.264895</td>\n",
              "      <td>22.539433</td>\n",
              "      <td>7.235315</td>\n",
              "    </tr>\n",
              "    <tr>\n",
              "      <th>std</th>\n",
              "      <td>1.274289</td>\n",
              "      <td>9.374797</td>\n",
              "      <td>22.489426</td>\n",
              "      <td>3.612909</td>\n",
              "      <td>17.828665</td>\n",
              "      <td>0.458444</td>\n",
              "    </tr>\n",
              "    <tr>\n",
              "      <th>min</th>\n",
              "      <td>0.000000</td>\n",
              "      <td>0.000000</td>\n",
              "      <td>0.000000</td>\n",
              "      <td>0.000000</td>\n",
              "      <td>0.000000</td>\n",
              "      <td>0.000000</td>\n",
              "    </tr>\n",
              "    <tr>\n",
              "      <th>25%</th>\n",
              "      <td>0.552083</td>\n",
              "      <td>6.000000</td>\n",
              "      <td>51.000000</td>\n",
              "      <td>1.360417</td>\n",
              "      <td>12.000000</td>\n",
              "      <td>7.116667</td>\n",
              "    </tr>\n",
              "    <tr>\n",
              "      <th>50%</th>\n",
              "      <td>1.662500</td>\n",
              "      <td>9.583333</td>\n",
              "      <td>60.500000</td>\n",
              "      <td>3.375000</td>\n",
              "      <td>17.166667</td>\n",
              "      <td>7.254167</td>\n",
              "    </tr>\n",
              "    <tr>\n",
              "      <th>75%</th>\n",
              "      <td>2.600000</td>\n",
              "      <td>15.666667</td>\n",
              "      <td>72.229167</td>\n",
              "      <td>6.000000</td>\n",
              "      <td>26.083333</td>\n",
              "      <td>7.400000</td>\n",
              "    </tr>\n",
              "    <tr>\n",
              "      <th>max</th>\n",
              "      <td>9.700000</td>\n",
              "      <td>84.500000</td>\n",
              "      <td>202.000000</td>\n",
              "      <td>23.333333</td>\n",
              "      <td>148.333333</td>\n",
              "      <td>9.100000</td>\n",
              "    </tr>\n",
              "  </tbody>\n",
              "</table>\n",
              "</div>"
            ],
            "text/plain": [
              "        DO (mg/l)  BOD (mg/l)  COD (mg/l)  NH3N (mg/l)   SS (mg/l)          pH\n",
              "count  938.000000  938.000000  938.000000   938.000000  938.000000  938.000000\n",
              "mean     1.681980   12.609649   64.169236     4.264895   22.539433    7.235315\n",
              "std      1.274289    9.374797   22.489426     3.612909   17.828665    0.458444\n",
              "min      0.000000    0.000000    0.000000     0.000000    0.000000    0.000000\n",
              "25%      0.552083    6.000000   51.000000     1.360417   12.000000    7.116667\n",
              "50%      1.662500    9.583333   60.500000     3.375000   17.166667    7.254167\n",
              "75%      2.600000   15.666667   72.229167     6.000000   26.083333    7.400000\n",
              "max      9.700000   84.500000  202.000000    23.333333  148.333333    9.100000"
            ]
          },
          "execution_count": 767,
          "metadata": {},
          "output_type": "execute_result"
        }
      ],
      "source": [
        "# แสดงค่าสถิติพื้นฐาน\n",
        "df.describe()\n"
      ]
    },
    {
      "cell_type": "code",
      "execution_count": 768,
      "metadata": {},
      "outputs": [
        {
          "data": {
            "text/plain": [
              "array([[<Axes: title={'center': 'DO (mg/l)'}>,\n",
              "        <Axes: title={'center': 'BOD (mg/l)'}>],\n",
              "       [<Axes: title={'center': 'COD (mg/l)'}>,\n",
              "        <Axes: title={'center': 'NH3N (mg/l)'}>],\n",
              "       [<Axes: title={'center': 'SS (mg/l)'}>,\n",
              "        <Axes: title={'center': 'pH'}>]], dtype=object)"
            ]
          },
          "execution_count": 768,
          "metadata": {},
          "output_type": "execute_result"
        },
        {
          "data": {
            "image/png": "[encoded data removed]",
            "text/plain": [
              "<Figure size 640x480 with 6 Axes>"
            ]
          },
          "metadata": {},
          "output_type": "display_data"
        }
      ],
      "source": [
        "df.hist()\n"
      ]
    },
    {
      "cell_type": "code",
      "execution_count": 769,
      "metadata": {},
      "outputs": [
        {
          "data": {
            "text/plain": [
              "<Axes: >"
            ]
          },
          "execution_count": 769,
          "metadata": {},
          "output_type": "execute_result"
        },
        {
          "data": {
            "image/png": "[encoded data removed]",
            "text/plain": [
              "<Figure size 640x480 with 1 Axes>"
            ]
          },
          "metadata": {},
          "output_type": "display_data"
        }
      ],
      "source": [
        "df.boxplot()\n"
      ]
    },
    {
      "attachments": {},
      "cell_type": "markdown",
      "metadata": {
        "id": "MvbgOZdP7H9X"
      },
      "source": [
        "จัดการ outlier data\n"
      ]
    },
    {
      "cell_type": "code",
      "execution_count": 770,
      "metadata": {
        "id": "aLW2u4iU5n66"
      },
      "outputs": [],
      "source": [
        "def remove_outliers_iqr(dataframe, columns):\n",
        "    for column in columns:\n",
        "        Q1 = dataframe[column].quantile(0.25)\n",
        "        Q3 = dataframe[column].quantile(0.75)\n",
        "        IQR = Q3 - Q1\n",
        "        threshold = 1.5\n",
        "        lower_bound = Q1 - threshold * IQR\n",
        "        upper_bound = Q3 + threshold * IQR\n",
        "        print(column+\">\"+\"lower_bound:\"+str(lower_bound) +\n",
        "              \" upper_bound:\"+str(upper_bound))\n",
        "        dataframe = dataframe[(dataframe[column] >= lower_bound) & (\n",
        "            dataframe[column] <= upper_bound)]\n",
        "    return dataframe"
      ]
    },
    {
      "cell_type": "code",
      "execution_count": 771,
      "metadata": {},
      "outputs": [
        {
          "name": "stdout",
          "output_type": "stream",
          "text": [
            "DO (mg/l)>lower_bound:-2.5197916666666664 upper_bound:5.671875\n",
            "BOD (mg/l)>lower_bound:-8.5 upper_bound:30.166666666666664\n",
            "COD (mg/l)>lower_bound:19.979166666666664 upper_bound:100.14583333333334\n",
            "NH3N (mg/l)>lower_bound:-5.191666666666666 upper_bound:12.075\n",
            "SS (mg/l)>lower_bound:-8.59375 upper_bound:46.32291666666667\n",
            "pH>lower_bound:6.712499999999997 upper_bound:7.812500000000002\n"
          ]
        }
      ],
      "source": [
        "# DO\tEC\tTemp\tSalinity\tTurbidity\tBOD\tCOD\n",
        "df_out = df.copy()\n",
        "\n",
        "df_out = remove_outliers_iqr(\n",
        "    df_out, [\"DO (mg/l)\", \"BOD (mg/l)\", \"COD (mg/l)\", \"NH3N (mg/l)\", \"SS (mg/l)\", \"pH\"])\n"
      ]
    },
    {
      "cell_type": "code",
      "execution_count": 772,
      "metadata": {},
      "outputs": [
        {
          "data": {
            "text/plain": [
              "<Axes: >"
            ]
          },
          "execution_count": 772,
          "metadata": {},
          "output_type": "execute_result"
        },
        {
          "data": {
            "image/png": "[encoded data removed]",
            "text/plain": [
              "<Figure size 640x480 with 1 Axes>"
            ]
          },
          "metadata": {},
          "output_type": "display_data"
        }
      ],
      "source": [
        "df_out.boxplot()\n"
      ]
    },
    {
      "cell_type": "code",
      "execution_count": 773,
      "metadata": {},
      "outputs": [
        {
          "data": {
            "text/plain": [
              "array([[<Axes: title={'center': 'DO (mg/l)'}>,\n",
              "        <Axes: title={'center': 'BOD (mg/l)'}>],\n",
              "       [<Axes: title={'center': 'COD (mg/l)'}>,\n",
              "        <Axes: title={'center': 'NH3N (mg/l)'}>],\n",
              "       [<Axes: title={'center': 'SS (mg/l)'}>,\n",
              "        <Axes: title={'center': 'pH'}>]], dtype=object)"
            ]
          },
          "execution_count": 773,
          "metadata": {},
          "output_type": "execute_result"
        },
        {
          "data": {
            "image/png": "[encoded data removed]",
            "text/plain": [
              "<Figure size 640x480 with 6 Axes>"
            ]
          },
          "metadata": {},
          "output_type": "display_data"
        }
      ],
      "source": [
        "df_out.hist()"
      ]
    },
    {
      "attachments": {},
      "cell_type": "markdown",
      "metadata": {
        "id": "LsjeNPhQ7b1h"
      },
      "source": [
        "## Duplicate data\n"
      ]
    },
    {
      "cell_type": "code",
      "execution_count": 774,
      "metadata": {
        "colab": {
          "base_uri": "https://localhost:8080/"
        },
        "id": "2O3PQSQA7OQ0",
        "outputId": "20b91e56-bfd3-433d-9302-994768839ddb"
      },
      "outputs": [
        {
          "name": "stdout",
          "output_type": "stream",
          "text": [
            "จำนวน Duplicate Data df: 3\n"
          ]
        }
      ],
      "source": [
        "print('จำนวน Duplicate Data df:', df_out.duplicated().sum())"
      ]
    },
    {
      "cell_type": "code",
      "execution_count": 775,
      "metadata": {
        "id": "b5A3CUAb78wd"
      },
      "outputs": [],
      "source": [
        "# ลบ Duplicate Data\n",
        "df_out = df_out.drop_duplicates()\n"
      ]
    },
    {
      "attachments": {},
      "cell_type": "markdown",
      "metadata": {
        "id": "Jzq1yaJsAGy_"
      },
      "source": [
        "# Data Transformation: Normalization\n"
      ]
    },
    {
      "cell_type": "code",
      "execution_count": 776,
      "metadata": {},
      "outputs": [],
      "source": [
        "X_columns = [\"DO (mg/l)\",\n",
        "             \"BOD (mg/l)\",\n",
        "             \"COD (mg/l)\",\n",
        "             \"NH3N (mg/l)\",\n",
        "             \"SS (mg/l)\",\n",
        "             \"pH\"]"
      ]
    },
    {
      "cell_type": "code",
      "execution_count": 777,
      "metadata": {
        "id": "ihha_tsM_87e"
      },
      "outputs": [
        {
          "data": {
            "text/html": [
              "<style>#sk-container-id-12 {color: black;background-color: white;}#sk-container-id-12 pre{padding: 0;}#sk-container-id-12 div.sk-toggleable {background-color: white;}#sk-container-id-12 label.sk-toggleable__label {cursor: pointer;display: block;width: 100%;margin-bottom: 0;padding: 0.3em;box-sizing: border-box;text-align: center;}#sk-container-id-12 label.sk-toggleable__label-arrow:before {content: \"▸\";float: left;margin-right: 0.25em;color: #696969;}#sk-container-id-12 label.sk-toggleable__label-arrow:hover:before {color: black;}#sk-container-id-12 div.sk-estimator:hover label.sk-toggleable__label-arrow:before {color: black;}#sk-container-id-12 div.sk-toggleable__content {max-height: 0;max-width: 0;overflow: hidden;text-align: left;background-color: #f0f8ff;}#sk-container-id-12 div.sk-toggleable__content pre {margin: 0.2em;color: black;border-radius: 0.25em;background-color: #f0f8ff;}#sk-container-id-12 input.sk-toggleable__control:checked~div.sk-toggleable__content {max-height: 200px;max-width: 100%;overflow: auto;}#sk-container-id-12 input.sk-toggleable__control:checked~label.sk-toggleable__label-arrow:before {content: \"▾\";}#sk-container-id-12 div.sk-estimator input.sk-toggleable__control:checked~label.sk-toggleable__label {background-color: #d4ebff;}#sk-container-id-12 div.sk-label input.sk-toggleable__control:checked~label.sk-toggleable__label {background-color: #d4ebff;}#sk-container-id-12 input.sk-hidden--visually {border: 0;clip: rect(1px 1px 1px 1px);clip: rect(1px, 1px, 1px, 1px);height: 1px;margin: -1px;overflow: hidden;padding: 0;position: absolute;width: 1px;}#sk-container-id-12 div.sk-estimator {font-family: monospace;background-color: #f0f8ff;border: 1px dotted black;border-radius: 0.25em;box-sizing: border-box;margin-bottom: 0.5em;}#sk-container-id-12 div.sk-estimator:hover {background-color: #d4ebff;}#sk-container-id-12 div.sk-parallel-item::after {content: \"\";width: 100%;border-bottom: 1px solid gray;flex-grow: 1;}#sk-container-id-12 div.sk-label:hover label.sk-toggleable__label {background-color: #d4ebff;}#sk-container-id-12 div.sk-serial::before {content: \"\";position: absolute;border-left: 1px solid gray;box-sizing: border-box;top: 0;bottom: 0;left: 50%;z-index: 0;}#sk-container-id-12 div.sk-serial {display: flex;flex-direction: column;align-items: center;background-color: white;padding-right: 0.2em;padding-left: 0.2em;position: relative;}#sk-container-id-12 div.sk-item {position: relative;z-index: 1;}#sk-container-id-12 div.sk-parallel {display: flex;align-items: stretch;justify-content: center;background-color: white;position: relative;}#sk-container-id-12 div.sk-item::before, #sk-container-id-12 div.sk-parallel-item::before {content: \"\";position: absolute;border-left: 1px solid gray;box-sizing: border-box;top: 0;bottom: 0;left: 50%;z-index: -1;}#sk-container-id-12 div.sk-parallel-item {display: flex;flex-direction: column;z-index: 1;position: relative;background-color: white;}#sk-container-id-12 div.sk-parallel-item:first-child::after {align-self: flex-end;width: 50%;}#sk-container-id-12 div.sk-parallel-item:last-child::after {align-self: flex-start;width: 50%;}#sk-container-id-12 div.sk-parallel-item:only-child::after {width: 0;}#sk-container-id-12 div.sk-dashed-wrapped {border: 1px dashed gray;margin: 0 0.4em 0.5em 0.4em;box-sizing: border-box;padding-bottom: 0.4em;background-color: white;}#sk-container-id-12 div.sk-label label {font-family: monospace;font-weight: bold;display: inline-block;line-height: 1.2em;}#sk-container-id-12 div.sk-label-container {text-align: center;}#sk-container-id-12 div.sk-container {/* jupyter's `normalize.less` sets `[hidden] { display: none; }` but bootstrap.min.css set `[hidden] { display: none !important; }` so we also need the `!important` here to be able to override the default hidden behavior on the sphinx rendered scikit-learn.org. See: https://github.com/scikit-learn/scikit-learn/issues/21755 */display: inline-block !important;position: relative;}#sk-container-id-12 div.sk-text-repr-fallback {display: none;}</style><div id=\"sk-container-id-12\" class=\"sk-top-container\"><div class=\"sk-text-repr-fallback\"><pre>MinMaxScaler()</pre><b>In a Jupyter environment, please rerun this cell to show the HTML representation or trust the notebook. <br />On GitHub, the HTML representation is unable to render, please try loading this page with nbviewer.org.</b></div><div class=\"sk-container\" hidden><div class=\"sk-item\"><div class=\"sk-estimator sk-toggleable\"><input class=\"sk-toggleable__control sk-hidden--visually\" id=\"sk-estimator-id-12\" type=\"checkbox\" checked><label for=\"sk-estimator-id-12\" class=\"sk-toggleable__label sk-toggleable__label-arrow\">MinMaxScaler</label><div class=\"sk-toggleable__content\"><pre>MinMaxScaler()</pre></div></div></div></div></div>"
            ],
            "text/plain": [
              "MinMaxScaler()"
            ]
          },
          "execution_count": 777,
          "metadata": {},
          "output_type": "execute_result"
        }
      ],
      "source": [
        "from sklearn.preprocessing import MinMaxScaler\n",
        "scaler = MinMaxScaler()\n",
        "scaler.fit(df[X_columns])"
      ]
    },
    {
      "cell_type": "markdown",
      "metadata": {},
      "source": [
        "## Water Quality Index\n"
      ]
    },
    {
      "cell_type": "code",
      "execution_count": 778,
      "metadata": {},
      "outputs": [],
      "source": [
        "# แยก X,Y\n",
        "df_wqi = df_out[X_columns].copy()\n",
        "# for x_train\n",
        "for index, row in df_wqi.iterrows():\n",
        "    wqi_score = 0\n",
        "    for x in X_columns:\n",
        "        wqi_score += row[x]*weighting[x]\n",
        "    df_wqi.loc[index, 'wqi_score'] = wqi_score\n",
        "\n",
        "    if wqi_score >= 90:\n",
        "        df_wqi.loc[index, 'Quality of Water'] = \"Excellent\"\n",
        "    elif wqi_score >= 70:\n",
        "        df_wqi.loc[index, 'Quality of Water'] = \"Good\"\n",
        "    elif wqi_score >= 50:\n",
        "        df_wqi.loc[index, 'Quality of Water'] = \"Medium\"\n",
        "    elif wqi_score >= 25:\n",
        "        df_wqi.loc[index, 'Quality of Water'] = \"Bad\"\n",
        "    else:\n",
        "        df_wqi.loc[index, 'Quality of Water'] = \"Very Bad\"\n"
      ]
    },
    {
      "cell_type": "code",
      "execution_count": 779,
      "metadata": {},
      "outputs": [
        {
          "data": {
            "text/html": [
              "<div>\n",
              "<style scoped>\n",
              "    .dataframe tbody tr th:only-of-type {\n",
              "        vertical-align: middle;\n",
              "    }\n",
              "\n",
              "    .dataframe tbody tr th {\n",
              "        vertical-align: top;\n",
              "    }\n",
              "\n",
              "    .dataframe thead th {\n",
              "        text-align: right;\n",
              "    }\n",
              "</style>\n",
              "<table border=\"1\" class=\"dataframe\">\n",
              "  <thead>\n",
              "    <tr style=\"text-align: right;\">\n",
              "      <th></th>\n",
              "      <th>DO (mg/l)</th>\n",
              "      <th>BOD (mg/l)</th>\n",
              "      <th>COD (mg/l)</th>\n",
              "      <th>NH3N (mg/l)</th>\n",
              "      <th>SS (mg/l)</th>\n",
              "      <th>pH</th>\n",
              "      <th>wqi_score</th>\n",
              "      <th>Quality of Water</th>\n",
              "    </tr>\n",
              "  </thead>\n",
              "  <tbody>\n",
              "    <tr>\n",
              "      <th>166</th>\n",
              "      <td>2.100000</td>\n",
              "      <td>5.000000</td>\n",
              "      <td>22.000000</td>\n",
              "      <td>0.300000</td>\n",
              "      <td>10.000000</td>\n",
              "      <td>7.500000</td>\n",
              "      <td>7.477000</td>\n",
              "      <td>Very Bad</td>\n",
              "    </tr>\n",
              "    <tr>\n",
              "      <th>167</th>\n",
              "      <td>1.400000</td>\n",
              "      <td>5.000000</td>\n",
              "      <td>25.000000</td>\n",
              "      <td>0.300000</td>\n",
              "      <td>11.000000</td>\n",
              "      <td>7.500000</td>\n",
              "      <td>7.963000</td>\n",
              "      <td>Very Bad</td>\n",
              "    </tr>\n",
              "    <tr>\n",
              "      <th>253</th>\n",
              "      <td>1.400000</td>\n",
              "      <td>6.000000</td>\n",
              "      <td>25.000000</td>\n",
              "      <td>1.200000</td>\n",
              "      <td>10.000000</td>\n",
              "      <td>7.400000</td>\n",
              "      <td>8.116000</td>\n",
              "      <td>Very Bad</td>\n",
              "    </tr>\n",
              "    <tr>\n",
              "      <th>265</th>\n",
              "      <td>1.900000</td>\n",
              "      <td>5.000000</td>\n",
              "      <td>26.000000</td>\n",
              "      <td>1.500000</td>\n",
              "      <td>10.000000</td>\n",
              "      <td>7.400000</td>\n",
              "      <td>8.241000</td>\n",
              "      <td>Very Bad</td>\n",
              "    </tr>\n",
              "    <tr>\n",
              "      <th>252</th>\n",
              "      <td>1.000000</td>\n",
              "      <td>6.000000</td>\n",
              "      <td>27.000000</td>\n",
              "      <td>1.500000</td>\n",
              "      <td>13.000000</td>\n",
              "      <td>7.300000</td>\n",
              "      <td>8.861000</td>\n",
              "      <td>Very Bad</td>\n",
              "    </tr>\n",
              "    <tr>\n",
              "      <th>...</th>\n",
              "      <td>...</td>\n",
              "      <td>...</td>\n",
              "      <td>...</td>\n",
              "      <td>...</td>\n",
              "      <td>...</td>\n",
              "      <td>...</td>\n",
              "      <td>...</td>\n",
              "      <td>...</td>\n",
              "    </tr>\n",
              "    <tr>\n",
              "      <th>354</th>\n",
              "      <td>0.208333</td>\n",
              "      <td>19.333333</td>\n",
              "      <td>97.916667</td>\n",
              "      <td>6.816667</td>\n",
              "      <td>29.250000</td>\n",
              "      <td>7.000000</td>\n",
              "      <td>25.928333</td>\n",
              "      <td>Bad</td>\n",
              "    </tr>\n",
              "    <tr>\n",
              "      <th>225</th>\n",
              "      <td>0.000000</td>\n",
              "      <td>29.000000</td>\n",
              "      <td>98.000000</td>\n",
              "      <td>5.600000</td>\n",
              "      <td>19.000000</td>\n",
              "      <td>7.600000</td>\n",
              "      <td>25.982000</td>\n",
              "      <td>Bad</td>\n",
              "    </tr>\n",
              "    <tr>\n",
              "      <th>178</th>\n",
              "      <td>0.000000</td>\n",
              "      <td>28.000000</td>\n",
              "      <td>94.000000</td>\n",
              "      <td>4.500000</td>\n",
              "      <td>26.000000</td>\n",
              "      <td>7.400000</td>\n",
              "      <td>26.083000</td>\n",
              "      <td>Bad</td>\n",
              "    </tr>\n",
              "    <tr>\n",
              "      <th>820</th>\n",
              "      <td>0.108333</td>\n",
              "      <td>30.083333</td>\n",
              "      <td>91.250000</td>\n",
              "      <td>11.445455</td>\n",
              "      <td>21.000000</td>\n",
              "      <td>7.216667</td>\n",
              "      <td>26.282485</td>\n",
              "      <td>Bad</td>\n",
              "    </tr>\n",
              "    <tr>\n",
              "      <th>659</th>\n",
              "      <td>0.216667</td>\n",
              "      <td>28.333333</td>\n",
              "      <td>97.000000</td>\n",
              "      <td>10.841667</td>\n",
              "      <td>30.083333</td>\n",
              "      <td>7.375000</td>\n",
              "      <td>28.275583</td>\n",
              "      <td>Bad</td>\n",
              "    </tr>\n",
              "  </tbody>\n",
              "</table>\n",
              "<p>775 rows × 8 columns</p>\n",
              "</div>"
            ],
            "text/plain": [
              "     DO (mg/l)  BOD (mg/l)  COD (mg/l)  NH3N (mg/l)  SS (mg/l)        pH   \n",
              "166   2.100000    5.000000   22.000000     0.300000  10.000000  7.500000  \\\n",
              "167   1.400000    5.000000   25.000000     0.300000  11.000000  7.500000   \n",
              "253   1.400000    6.000000   25.000000     1.200000  10.000000  7.400000   \n",
              "265   1.900000    5.000000   26.000000     1.500000  10.000000  7.400000   \n",
              "252   1.000000    6.000000   27.000000     1.500000  13.000000  7.300000   \n",
              "..         ...         ...         ...          ...        ...       ...   \n",
              "354   0.208333   19.333333   97.916667     6.816667  29.250000  7.000000   \n",
              "225   0.000000   29.000000   98.000000     5.600000  19.000000  7.600000   \n",
              "178   0.000000   28.000000   94.000000     4.500000  26.000000  7.400000   \n",
              "820   0.108333   30.083333   91.250000    11.445455  21.000000  7.216667   \n",
              "659   0.216667   28.333333   97.000000    10.841667  30.083333  7.375000   \n",
              "\n",
              "     wqi_score Quality of Water  \n",
              "166   7.477000         Very Bad  \n",
              "167   7.963000         Very Bad  \n",
              "253   8.116000         Very Bad  \n",
              "265   8.241000         Very Bad  \n",
              "252   8.861000         Very Bad  \n",
              "..         ...              ...  \n",
              "354  25.928333              Bad  \n",
              "225  25.982000              Bad  \n",
              "178  26.083000              Bad  \n",
              "820  26.282485              Bad  \n",
              "659  28.275583              Bad  \n",
              "\n",
              "[775 rows x 8 columns]"
            ]
          },
          "execution_count": 779,
          "metadata": {},
          "output_type": "execute_result"
        }
      ],
      "source": [
        "df_wqi.sort_values(by=['wqi_score'])\n"
      ]
    },
    {
      "cell_type": "code",
      "execution_count": 780,
      "metadata": {},
      "outputs": [
        {
          "data": {
            "text/html": [
              "<div>\n",
              "<style scoped>\n",
              "    .dataframe tbody tr th:only-of-type {\n",
              "        vertical-align: middle;\n",
              "    }\n",
              "\n",
              "    .dataframe tbody tr th {\n",
              "        vertical-align: top;\n",
              "    }\n",
              "\n",
              "    .dataframe thead th {\n",
              "        text-align: right;\n",
              "    }\n",
              "</style>\n",
              "<table border=\"1\" class=\"dataframe\">\n",
              "  <thead>\n",
              "    <tr style=\"text-align: right;\">\n",
              "      <th></th>\n",
              "      <th>DO (mg/l)</th>\n",
              "      <th>BOD (mg/l)</th>\n",
              "      <th>COD (mg/l)</th>\n",
              "      <th>NH3N (mg/l)</th>\n",
              "      <th>SS (mg/l)</th>\n",
              "      <th>pH</th>\n",
              "      <th>wqi_score</th>\n",
              "    </tr>\n",
              "  </thead>\n",
              "  <tbody>\n",
              "    <tr>\n",
              "      <th>count</th>\n",
              "      <td>775.000000</td>\n",
              "      <td>775.000000</td>\n",
              "      <td>775.000000</td>\n",
              "      <td>775.000000</td>\n",
              "      <td>775.000000</td>\n",
              "      <td>775.000000</td>\n",
              "      <td>775.000000</td>\n",
              "    </tr>\n",
              "    <tr>\n",
              "      <th>mean</th>\n",
              "      <td>1.708845</td>\n",
              "      <td>11.018244</td>\n",
              "      <td>59.926718</td>\n",
              "      <td>3.839725</td>\n",
              "      <td>18.231381</td>\n",
              "      <td>7.252369</td>\n",
              "      <td>16.429372</td>\n",
              "    </tr>\n",
              "    <tr>\n",
              "      <th>std</th>\n",
              "      <td>1.142940</td>\n",
              "      <td>5.937266</td>\n",
              "      <td>13.702816</td>\n",
              "      <td>2.746289</td>\n",
              "      <td>8.987788</td>\n",
              "      <td>0.167597</td>\n",
              "      <td>3.393596</td>\n",
              "    </tr>\n",
              "    <tr>\n",
              "      <th>min</th>\n",
              "      <td>0.000000</td>\n",
              "      <td>3.520000</td>\n",
              "      <td>22.000000</td>\n",
              "      <td>0.000000</td>\n",
              "      <td>2.000000</td>\n",
              "      <td>6.791667</td>\n",
              "      <td>7.477000</td>\n",
              "    </tr>\n",
              "    <tr>\n",
              "      <th>25%</th>\n",
              "      <td>0.783333</td>\n",
              "      <td>6.000000</td>\n",
              "      <td>50.166667</td>\n",
              "      <td>1.500000</td>\n",
              "      <td>11.833333</td>\n",
              "      <td>7.125000</td>\n",
              "      <td>14.038458</td>\n",
              "    </tr>\n",
              "    <tr>\n",
              "      <th>50%</th>\n",
              "      <td>1.708333</td>\n",
              "      <td>9.166667</td>\n",
              "      <td>59.000000</td>\n",
              "      <td>3.200000</td>\n",
              "      <td>16.000000</td>\n",
              "      <td>7.258333</td>\n",
              "      <td>16.352000</td>\n",
              "    </tr>\n",
              "    <tr>\n",
              "      <th>75%</th>\n",
              "      <td>2.600000</td>\n",
              "      <td>14.416667</td>\n",
              "      <td>69.083333</td>\n",
              "      <td>5.649242</td>\n",
              "      <td>22.916667</td>\n",
              "      <td>7.391667</td>\n",
              "      <td>18.559072</td>\n",
              "    </tr>\n",
              "    <tr>\n",
              "      <th>max</th>\n",
              "      <td>5.300000</td>\n",
              "      <td>30.083333</td>\n",
              "      <td>98.000000</td>\n",
              "      <td>12.018182</td>\n",
              "      <td>46.000000</td>\n",
              "      <td>7.800000</td>\n",
              "      <td>28.275583</td>\n",
              "    </tr>\n",
              "  </tbody>\n",
              "</table>\n",
              "</div>"
            ],
            "text/plain": [
              "        DO (mg/l)  BOD (mg/l)  COD (mg/l)  NH3N (mg/l)   SS (mg/l)   \n",
              "count  775.000000  775.000000  775.000000   775.000000  775.000000  \\\n",
              "mean     1.708845   11.018244   59.926718     3.839725   18.231381   \n",
              "std      1.142940    5.937266   13.702816     2.746289    8.987788   \n",
              "min      0.000000    3.520000   22.000000     0.000000    2.000000   \n",
              "25%      0.783333    6.000000   50.166667     1.500000   11.833333   \n",
              "50%      1.708333    9.166667   59.000000     3.200000   16.000000   \n",
              "75%      2.600000   14.416667   69.083333     5.649242   22.916667   \n",
              "max      5.300000   30.083333   98.000000    12.018182   46.000000   \n",
              "\n",
              "               pH   wqi_score  \n",
              "count  775.000000  775.000000  \n",
              "mean     7.252369   16.429372  \n",
              "std      0.167597    3.393596  \n",
              "min      6.791667    7.477000  \n",
              "25%      7.125000   14.038458  \n",
              "50%      7.258333   16.352000  \n",
              "75%      7.391667   18.559072  \n",
              "max      7.800000   28.275583  "
            ]
          },
          "execution_count": 780,
          "metadata": {},
          "output_type": "execute_result"
        }
      ],
      "source": [
        "df_wqi.describe()\n"
      ]
    },
    {
      "cell_type": "code",
      "execution_count": 781,
      "metadata": {},
      "outputs": [
        {
          "data": {
            "text/plain": [
              "Quality of Water\n",
              "Very Bad    769\n",
              "Bad           6\n",
              "Name: count, dtype: int64"
            ]
          },
          "execution_count": 781,
          "metadata": {},
          "output_type": "execute_result"
        }
      ],
      "source": [
        "df_wqi['Quality of Water'].value_counts()"
      ]
    },
    {
      "cell_type": "code",
      "execution_count": 782,
      "metadata": {},
      "outputs": [
        {
          "data": {
            "text/plain": [
              "array(['Very Bad', 'Bad'], dtype=object)"
            ]
          },
          "execution_count": 782,
          "metadata": {},
          "output_type": "execute_result"
        }
      ],
      "source": [
        "df_wqi['Quality of Water'].unique()"
      ]
    },
    {
      "cell_type": "code",
      "execution_count": 783,
      "metadata": {},
      "outputs": [],
      "source": [
        "df_split_copy = df_wqi.copy()\n"
      ]
    },
    {
      "attachments": {},
      "cell_type": "markdown",
      "metadata": {},
      "source": [
        "## แบ่งชุดข้อมูล\n"
      ]
    },
    {
      "cell_type": "code",
      "execution_count": 799,
      "metadata": {},
      "outputs": [],
      "source": [
        "seed = 84012\n",
        "\n",
        "df_train, df_test = train_test_split(\n",
        "    df_split_copy, test_size=0.1, random_state=seed)"
      ]
    },
    {
      "cell_type": "code",
      "execution_count": 800,
      "metadata": {},
      "outputs": [
        {
          "name": "stdout",
          "output_type": "stream",
          "text": [
            "จำนวนชุดข้อมูลทั้งหมด : 938\n",
            "จำนวนชุดข้อมูล training : 697\n",
            "จำนวนชุดข้อมูล test : 78\n"
          ]
        }
      ],
      "source": [
        "# จำนวนชุดข้อมูล\n",
        "print('จำนวนชุดข้อมูลทั้งหมด :', len(df))\n",
        "print('จำนวนชุดข้อมูล training :', len(df_train))\n",
        "print('จำนวนชุดข้อมูล test :', len(df_test))\n"
      ]
    },
    {
      "cell_type": "code",
      "execution_count": 801,
      "metadata": {},
      "outputs": [],
      "source": [
        "X_train = df_train[X_columns]\n",
        "Y_train = df_train['Quality of Water'].values.ravel()\n",
        "\n",
        "X_test = df_test[X_columns]\n",
        "Y_test = df_test['Quality of Water'].values.ravel()\n"
      ]
    },
    {
      "cell_type": "markdown",
      "metadata": {},
      "source": [
        "## Transform\n"
      ]
    },
    {
      "cell_type": "code",
      "execution_count": 802,
      "metadata": {},
      "outputs": [],
      "source": [
        "X_train_transform = scaler.transform(X_train)\n",
        "\n",
        "X_test_transform = scaler.transform(X_test)"
      ]
    },
    {
      "attachments": {},
      "cell_type": "markdown",
      "metadata": {},
      "source": [
        "# KNN\n"
      ]
    },
    {
      "cell_type": "code",
      "execution_count": 803,
      "metadata": {},
      "outputs": [],
      "source": [
        "from sklearn.neighbors import KNeighborsClassifier\n",
        "from sklearn.metrics import accuracy_score\n",
        "\n",
        "# สร้างโมเดล KNNC\n",
        "model = KNeighborsClassifier(n_neighbors=5)\n",
        "\n",
        "# ฝึกโมเดลด้วยชุด Train\n",
        "model.fit(X_train_transform,  Y_train)\n",
        "\n",
        "# ใช้โมเดลที่ฝึกแล้วทำนายคลาสของชุด test\n",
        "\n",
        "Y_pred = model.predict(X_test_transform)\n"
      ]
    },
    {
      "cell_type": "code",
      "execution_count": 804,
      "metadata": {},
      "outputs": [
        {
          "name": "stdout",
          "output_type": "stream",
          "text": [
            "KNNC Accuracy: 0.9871794871794872\n"
          ]
        }
      ],
      "source": [
        "\n",
        "# คำนวณค่าความแม่นยำของโมเดล\n",
        "accuracy = accuracy_score(Y_test, Y_pred)\n",
        "\n",
        "print(f\"KNNC Accuracy: {accuracy}\")\n"
      ]
    },
    {
      "cell_type": "markdown",
      "metadata": {},
      "source": [
        "## Evaluating Model KNNC\n"
      ]
    },
    {
      "cell_type": "code",
      "execution_count": 805,
      "metadata": {},
      "outputs": [
        {
          "data": {
            "image/png": "[encoded data removed]",
            "text/plain": [
              "<Figure size 640x480 with 2 Axes>"
            ]
          },
          "metadata": {},
          "output_type": "display_data"
        }
      ],
      "source": [
        "import matplotlib.pyplot as plt\n",
        "import seaborn as sns\n",
        "from sklearn.metrics import confusion_matrix\n",
        "\n",
        "\n",
        "# คำนวณ Confusion Matrix\n",
        "cm = confusion_matrix(Y_test, Y_pred)\n",
        "\n",
        "# แสดงผล Confusion Matrix ด้วย Heatmap\n",
        "plt.figure()\n",
        "sns.heatmap(cm, annot=True, cmap='Blues', fmt='d')\n",
        "plt.title('Confusion Matrix : KNN')\n",
        "plt.xlabel('Predicted Labels')\n",
        "plt.ylabel('True Labels')\n",
        "plt.show()\n"
      ]
    },
    {
      "attachments": {},
      "cell_type": "markdown",
      "metadata": {
        "id": "xJqnj1i7Q_ps"
      },
      "source": [
        "# Naive bayes\n"
      ]
    },
    {
      "cell_type": "code",
      "execution_count": 806,
      "metadata": {
        "id": "YHxec7RyQ_9g"
      },
      "outputs": [],
      "source": [
        "from sklearn.naive_bayes import GaussianNB\n",
        "from sklearn.metrics import accuracy_score\n"
      ]
    },
    {
      "cell_type": "code",
      "execution_count": 807,
      "metadata": {
        "id": "8ka8kni-RU-D"
      },
      "outputs": [],
      "source": [
        "# สร้างโมเดล Naive Bayes\n",
        "model = GaussianNB()\n",
        "\n",
        "# ฝึกโมเดลด้วยชุด Train\n",
        "model.fit(X_train_transform,  Y_train)\n",
        "\n",
        "# ใช้โมเดลที่ฝึกแล้วทำนายคลาสของชุด test\n",
        "\n",
        "Y_pred = model.predict(X_test_transform)\n"
      ]
    },
    {
      "attachments": {},
      "cell_type": "markdown",
      "metadata": {
        "id": "pglw-m6iVFrN"
      },
      "source": [
        "## Evaluating Model Naive bayes\n"
      ]
    },
    {
      "cell_type": "code",
      "execution_count": 808,
      "metadata": {
        "colab": {
          "base_uri": "https://localhost:8080/"
        },
        "id": "pqfBiJ9KVF6Y",
        "outputId": "70d0bc2d-77dd-4ee5-b4f8-b8f422d83849"
      },
      "outputs": [
        {
          "name": "stdout",
          "output_type": "stream",
          "text": [
            "Naive Bayes Accuracy: 0.9743589743589743\n"
          ]
        }
      ],
      "source": [
        "# คำนวณค่าความแม่นยำของโมเดล\n",
        "accuracy = accuracy_score(Y_test, Y_pred)\n",
        "\n",
        "print(f\"Naive Bayes Accuracy: {accuracy}\")\n"
      ]
    },
    {
      "cell_type": "code",
      "execution_count": 809,
      "metadata": {},
      "outputs": [
        {
          "data": {
            "image/png": "[encoded data removed]",
            "text/plain": [
              "<Figure size 640x480 with 2 Axes>"
            ]
          },
          "metadata": {},
          "output_type": "display_data"
        }
      ],
      "source": [
        "# คำนวณ Confusion Matrix\n",
        "cm = confusion_matrix(Y_test, Y_pred)\n",
        "\n",
        "# แสดงผล Confusion Matrix ด้วย Heatmap\n",
        "plt.figure()\n",
        "sns.heatmap(cm, annot=True, cmap='Blues', fmt='d')\n",
        "plt.title('Confusion Matrix : Naive Bayes')\n",
        "plt.xlabel('Predicted Labels')\n",
        "plt.ylabel('True Labels')\n",
        "plt.show()\n"
      ]
    },
    {
      "attachments": {},
      "cell_type": "markdown",
      "metadata": {
        "id": "k8Q8Q7AGTlD9"
      },
      "source": [
        "# Decision Tree\n"
      ]
    },
    {
      "cell_type": "code",
      "execution_count": 810,
      "metadata": {
        "id": "RquNdMN4ThkN"
      },
      "outputs": [],
      "source": [
        "from sklearn.tree import DecisionTreeClassifier\n",
        "\n",
        "\n",
        "# สร้างโมเดล Decision Tree\n",
        "model = DecisionTreeClassifier()\n",
        "\n",
        "# ฝึกโมเดลด้วยชุด Train\n",
        "clf = model.fit(X_train_transform, Y_train)\n",
        "\n",
        "# ใช้โมเดลที่ฝึกแล้วทำนายคลาสของชุด Validation\n",
        "\n",
        "Y_pred = model.predict(X_test_transform)\n"
      ]
    },
    {
      "cell_type": "code",
      "execution_count": 811,
      "metadata": {},
      "outputs": [
        {
          "data": {
            "image/png": "[encoded data removed]",
            "text/plain": [
              "<IPython.core.display.Image object>"
            ]
          },
          "execution_count": 811,
          "metadata": {},
          "output_type": "execute_result"
        }
      ],
      "source": [
        "from six import StringIO\n",
        "from IPython.display import Image\n",
        "from sklearn.tree import export_graphviz\n",
        "import pydotplus\n",
        "dot_data = StringIO()\n",
        "export_graphviz(clf, out_file=dot_data,\n",
        "                filled=True, rounded=True,\n",
        "                special_characters=True, feature_names=X_columns, class_names=df_wqi['Quality of Water'].unique())\n",
        "graph = pydotplus.graph_from_dot_data(dot_data.getvalue())\n",
        "graph.write_png('diabetes.png')\n",
        "Image(graph.create_png())\n"
      ]
    },
    {
      "attachments": {},
      "cell_type": "markdown",
      "metadata": {
        "id": "N_r7HsgZU8_9"
      },
      "source": [
        "## Evaluating Model Decision Tree\n"
      ]
    },
    {
      "cell_type": "code",
      "execution_count": 812,
      "metadata": {
        "colab": {
          "base_uri": "https://localhost:8080/"
        },
        "id": "lgI2JCmKU-kW",
        "outputId": "c0a2a148-92fd-4a9a-9b54-dece5c66e0c8"
      },
      "outputs": [
        {
          "name": "stdout",
          "output_type": "stream",
          "text": [
            "Decision Tree Accuracy: 0.9871794871794872\n"
          ]
        }
      ],
      "source": [
        "# คำนวณค่าความแม่นยำของโมเดล\n",
        "accuracy = accuracy_score(Y_test, Y_pred)\n",
        "\n",
        "# แสดงผลลัพธ์\n",
        "print(f\"Decision Tree Accuracy: {accuracy}\")\n"
      ]
    },
    {
      "cell_type": "code",
      "execution_count": 813,
      "metadata": {},
      "outputs": [
        {
          "data": {
            "image/png": "[encoded data removed]",
            "text/plain": [
              "<Figure size 640x480 with 2 Axes>"
            ]
          },
          "metadata": {},
          "output_type": "display_data"
        }
      ],
      "source": [
        "# คำนวณ Confusion Matrix\n",
        "cm = confusion_matrix(Y_test, Y_pred)\n",
        "\n",
        "# แสดงผล Confusion Matrix ด้วย Heatmap\n",
        "plt.figure()\n",
        "sns.heatmap(cm, annot=True, cmap='Blues', fmt='d')\n",
        "plt.title('Confusion Matrix : Decision Tree')\n",
        "plt.xlabel('Predicted Labels')\n",
        "plt.ylabel('True Labels')\n",
        "plt.show()\n"
      ]
    }
  ],
  "metadata": {
    "accelerator": "TPU",
    "colab": {
      "provenance": []
    },
    "gpuClass": "standard",
    "kernelspec": {
      "display_name": "Python 3",
      "name": "python3"
    },
    "language_info": {
      "codemirror_mode": {
        "name": "ipython",
        "version": 3
      },
      "file_extension": ".py",
      "mimetype": "text/x-python",
      "name": "python",
      "nbconvert_exporter": "python",
      "pygments_lexer": "ipython3",
      "version": "3.11.4"
    }
  },
  "nbformat": 4,
  "nbformat_minor": 0
}
