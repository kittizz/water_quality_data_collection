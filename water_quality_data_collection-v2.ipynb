{
  "cells": [
    {
      "attachments": {},
      "cell_type": "markdown",
      "metadata": {
        "id": "eav8Z_I6Txhe"
      },
      "source": [
        "# Import Data\n"
      ]
    },
    {
      "cell_type": "code",
      "execution_count": 104,
      "metadata": {},
      "outputs": [
        {
          "name": "stdout",
          "output_type": "stream",
          "text": [
            "Requirement already satisfied: numpy in /opt/homebrew/lib/python3.11/site-packages (1.25.2)\n",
            "\n",
            "\u001b[1m[\u001b[0m\u001b[34;49mnotice\u001b[0m\u001b[1;39;49m]\u001b[0m\u001b[39;49m A new release of pip is available: \u001b[0m\u001b[31;49m23.1.2\u001b[0m\u001b[39;49m -> \u001b[0m\u001b[32;49m23.2.1\u001b[0m\n",
            "\u001b[1m[\u001b[0m\u001b[34;49mnotice\u001b[0m\u001b[1;39;49m]\u001b[0m\u001b[39;49m To update, run: \u001b[0m\u001b[32;49mpython3.11 -m pip install --upgrade pip\u001b[0m\n",
            "Note: you may need to restart the kernel to use updated packages.\n",
            "Requirement already satisfied: pandas in /opt/homebrew/lib/python3.11/site-packages (2.0.0)\n",
            "Requirement already satisfied: python-dateutil>=2.8.2 in /Users/kittizz/Library/Python/3.11/lib/python/site-packages (from pandas) (2.8.2)\n",
            "Requirement already satisfied: pytz>=2020.1 in /opt/homebrew/lib/python3.11/site-packages (from pandas) (2023.3)\n",
            "Requirement already satisfied: tzdata>=2022.1 in /opt/homebrew/lib/python3.11/site-packages (from pandas) (2023.3)\n",
            "Requirement already satisfied: numpy>=1.21.0 in /opt/homebrew/lib/python3.11/site-packages (from pandas) (1.25.2)\n",
            "Requirement already satisfied: six>=1.5 in /opt/homebrew/lib/python3.11/site-packages (from python-dateutil>=2.8.2->pandas) (1.16.0)\n",
            "\n",
            "\u001b[1m[\u001b[0m\u001b[34;49mnotice\u001b[0m\u001b[1;39;49m]\u001b[0m\u001b[39;49m A new release of pip is available: \u001b[0m\u001b[31;49m23.1.2\u001b[0m\u001b[39;49m -> \u001b[0m\u001b[32;49m23.2.1\u001b[0m\n",
            "\u001b[1m[\u001b[0m\u001b[34;49mnotice\u001b[0m\u001b[1;39;49m]\u001b[0m\u001b[39;49m To update, run: \u001b[0m\u001b[32;49mpython3.11 -m pip install --upgrade pip\u001b[0m\n",
            "Note: you may need to restart the kernel to use updated packages.\n",
            "Requirement already satisfied: matplotlib in /opt/homebrew/lib/python3.11/site-packages (3.7.1)\n",
            "Requirement already satisfied: contourpy>=1.0.1 in /opt/homebrew/lib/python3.11/site-packages (from matplotlib) (1.0.7)\n",
            "Requirement already satisfied: cycler>=0.10 in /opt/homebrew/lib/python3.11/site-packages (from matplotlib) (0.11.0)\n",
            "Requirement already satisfied: fonttools>=4.22.0 in /opt/homebrew/lib/python3.11/site-packages (from matplotlib) (4.39.3)\n",
            "Requirement already satisfied: kiwisolver>=1.0.1 in /opt/homebrew/lib/python3.11/site-packages (from matplotlib) (1.4.4)\n",
            "Requirement already satisfied: numpy>=1.20 in /opt/homebrew/lib/python3.11/site-packages (from matplotlib) (1.25.2)\n",
            "Requirement already satisfied: packaging>=20.0 in /Users/kittizz/Library/Python/3.11/lib/python/site-packages (from matplotlib) (23.0)\n",
            "Requirement already satisfied: pillow>=6.2.0 in /opt/homebrew/lib/python3.11/site-packages (from matplotlib) (10.0.0)\n",
            "Requirement already satisfied: pyparsing>=2.3.1 in /opt/homebrew/lib/python3.11/site-packages (from matplotlib) (3.0.9)\n",
            "Requirement already satisfied: python-dateutil>=2.7 in /Users/kittizz/Library/Python/3.11/lib/python/site-packages (from matplotlib) (2.8.2)\n",
            "Requirement already satisfied: six>=1.5 in /opt/homebrew/lib/python3.11/site-packages (from python-dateutil>=2.7->matplotlib) (1.16.0)\n",
            "\n",
            "\u001b[1m[\u001b[0m\u001b[34;49mnotice\u001b[0m\u001b[1;39;49m]\u001b[0m\u001b[39;49m A new release of pip is available: \u001b[0m\u001b[31;49m23.1.2\u001b[0m\u001b[39;49m -> \u001b[0m\u001b[32;49m23.2.1\u001b[0m\n",
            "\u001b[1m[\u001b[0m\u001b[34;49mnotice\u001b[0m\u001b[1;39;49m]\u001b[0m\u001b[39;49m To update, run: \u001b[0m\u001b[32;49mpython3.11 -m pip install --upgrade pip\u001b[0m\n",
            "Note: you may need to restart the kernel to use updated packages.\n",
            "Requirement already satisfied: xlrd in /opt/homebrew/lib/python3.11/site-packages (2.0.1)\n",
            "\n",
            "\u001b[1m[\u001b[0m\u001b[34;49mnotice\u001b[0m\u001b[1;39;49m]\u001b[0m\u001b[39;49m A new release of pip is available: \u001b[0m\u001b[31;49m23.1.2\u001b[0m\u001b[39;49m -> \u001b[0m\u001b[32;49m23.2.1\u001b[0m\n",
            "\u001b[1m[\u001b[0m\u001b[34;49mnotice\u001b[0m\u001b[1;39;49m]\u001b[0m\u001b[39;49m To update, run: \u001b[0m\u001b[32;49mpython3.11 -m pip install --upgrade pip\u001b[0m\n",
            "Note: you may need to restart the kernel to use updated packages.\n",
            "Requirement already satisfied: scikit-learn in /opt/homebrew/lib/python3.11/site-packages (1.2.2)\n",
            "Requirement already satisfied: numpy>=1.17.3 in /opt/homebrew/lib/python3.11/site-packages (from scikit-learn) (1.25.2)\n",
            "Requirement already satisfied: scipy>=1.3.2 in /opt/homebrew/lib/python3.11/site-packages (from scikit-learn) (1.10.1)\n",
            "Requirement already satisfied: joblib>=1.1.1 in /opt/homebrew/lib/python3.11/site-packages (from scikit-learn) (1.2.0)\n",
            "Requirement already satisfied: threadpoolctl>=2.0.0 in /opt/homebrew/lib/python3.11/site-packages (from scikit-learn) (3.1.0)\n",
            "\n",
            "\u001b[1m[\u001b[0m\u001b[34;49mnotice\u001b[0m\u001b[1;39;49m]\u001b[0m\u001b[39;49m A new release of pip is available: \u001b[0m\u001b[31;49m23.1.2\u001b[0m\u001b[39;49m -> \u001b[0m\u001b[32;49m23.2.1\u001b[0m\n",
            "\u001b[1m[\u001b[0m\u001b[34;49mnotice\u001b[0m\u001b[1;39;49m]\u001b[0m\u001b[39;49m To update, run: \u001b[0m\u001b[32;49mpython3.11 -m pip install --upgrade pip\u001b[0m\n",
            "Note: you may need to restart the kernel to use updated packages.\n",
            "Requirement already satisfied: seaborn in /opt/homebrew/lib/python3.11/site-packages (0.12.2)\n",
            "Requirement already satisfied: numpy!=1.24.0,>=1.17 in /opt/homebrew/lib/python3.11/site-packages (from seaborn) (1.25.2)\n",
            "Requirement already satisfied: pandas>=0.25 in /opt/homebrew/lib/python3.11/site-packages (from seaborn) (2.0.0)\n",
            "Requirement already satisfied: matplotlib!=3.6.1,>=3.1 in /opt/homebrew/lib/python3.11/site-packages (from seaborn) (3.7.1)\n",
            "Requirement already satisfied: contourpy>=1.0.1 in /opt/homebrew/lib/python3.11/site-packages (from matplotlib!=3.6.1,>=3.1->seaborn) (1.0.7)\n",
            "Requirement already satisfied: cycler>=0.10 in /opt/homebrew/lib/python3.11/site-packages (from matplotlib!=3.6.1,>=3.1->seaborn) (0.11.0)\n",
            "Requirement already satisfied: fonttools>=4.22.0 in /opt/homebrew/lib/python3.11/site-packages (from matplotlib!=3.6.1,>=3.1->seaborn) (4.39.3)\n",
            "Requirement already satisfied: kiwisolver>=1.0.1 in /opt/homebrew/lib/python3.11/site-packages (from matplotlib!=3.6.1,>=3.1->seaborn) (1.4.4)\n",
            "Requirement already satisfied: packaging>=20.0 in /Users/kittizz/Library/Python/3.11/lib/python/site-packages (from matplotlib!=3.6.1,>=3.1->seaborn) (23.0)\n",
            "Requirement already satisfied: pillow>=6.2.0 in /opt/homebrew/lib/python3.11/site-packages (from matplotlib!=3.6.1,>=3.1->seaborn) (10.0.0)\n",
            "Requirement already satisfied: pyparsing>=2.3.1 in /opt/homebrew/lib/python3.11/site-packages (from matplotlib!=3.6.1,>=3.1->seaborn) (3.0.9)\n",
            "Requirement already satisfied: python-dateutil>=2.7 in /Users/kittizz/Library/Python/3.11/lib/python/site-packages (from matplotlib!=3.6.1,>=3.1->seaborn) (2.8.2)\n",
            "Requirement already satisfied: pytz>=2020.1 in /opt/homebrew/lib/python3.11/site-packages (from pandas>=0.25->seaborn) (2023.3)\n",
            "Requirement already satisfied: tzdata>=2022.1 in /opt/homebrew/lib/python3.11/site-packages (from pandas>=0.25->seaborn) (2023.3)\n",
            "Requirement already satisfied: six>=1.5 in /opt/homebrew/lib/python3.11/site-packages (from python-dateutil>=2.7->matplotlib!=3.6.1,>=3.1->seaborn) (1.16.0)\n",
            "\n",
            "\u001b[1m[\u001b[0m\u001b[34;49mnotice\u001b[0m\u001b[1;39;49m]\u001b[0m\u001b[39;49m A new release of pip is available: \u001b[0m\u001b[31;49m23.1.2\u001b[0m\u001b[39;49m -> \u001b[0m\u001b[32;49m23.2.1\u001b[0m\n",
            "\u001b[1m[\u001b[0m\u001b[34;49mnotice\u001b[0m\u001b[1;39;49m]\u001b[0m\u001b[39;49m To update, run: \u001b[0m\u001b[32;49mpython3.11 -m pip install --upgrade pip\u001b[0m\n",
            "Note: you may need to restart the kernel to use updated packages.\n"
          ]
        }
      ],
      "source": [
        "%pip install numpy\n",
        "%pip install pandas\n",
        "%pip install matplotlib\n",
        "%pip install xlrd\n",
        "%pip install scikit-learn\n",
        "%pip install seaborn\n"
      ]
    },
    {
      "cell_type": "code",
      "execution_count": 105,
      "metadata": {
        "id": "3TEPV63DTwOO"
      },
      "outputs": [],
      "source": [
        "import numpy as np\n",
        "import pandas as pd\n",
        "import matplotlib.pyplot as plt\n",
        "from pathlib import Path\n",
        "from sklearn.model_selection import train_test_split\n",
        "import seaborn as sns  # สร้างกราฟ Boxplot\n",
        "from scipy.stats import zscore\n",
        "from sklearn.metrics import mean_squared_error\n",
        "\n",
        "%matplotlib inline\n"
      ]
    },
    {
      "cell_type": "code",
      "execution_count": 106,
      "metadata": {},
      "outputs": [],
      "source": [
        "# Define the directory to search for CSV and XLS files\n",
        "directory = Path(r'./dataset/')\n",
        "# Find all CSV and XLS files in the directory and its subdirectories\n",
        "csv = list(directory.rglob('*.csv'))\n",
        "xls = list(directory.rglob('*.xls'))\n",
        "\n",
        "files = csv + xls\n"
      ]
    },
    {
      "cell_type": "code",
      "execution_count": 107,
      "metadata": {},
      "outputs": [],
      "source": [
        "# import urllib.parse\n",
        "# dataset_repo = \"https://github.com/kittizz/water_quality_data_collection/raw/main/\"\n",
        "csv_files = list()\n",
        "xls_files = list()\n",
        "for index in range(len(files)):\n",
        "    file = files[index]\n",
        "    if \"63\" in file.name:\n",
        "        # if file.name.endswith(\".csv\"):\n",
        "        #     csv_files.append(dataset_repo+urllib.parse.quote(str(file)))\n",
        "        # if file.name.endswith(\".xls\"):\n",
        "        #     xls_files.append(dataset_repo+urllib.parse.quote(str(file)))\n",
        "\n",
        "        if file.name.endswith(\".csv\"):\n",
        "            csv_files.append(str(file))\n",
        "        if file.name.endswith(\".xls\"):\n",
        "            xls_files.append(str(file))\n"
      ]
    },
    {
      "cell_type": "code",
      "execution_count": 108,
      "metadata": {
        "id": "sxLcLFDElkSa"
      },
      "outputs": [],
      "source": [
        "df1 = pd.concat([pd.read_csv(f, encoding='utf-8')\n",
        "                 for f in csv_files])\n",
        "df2 = pd.concat([pd.read_excel(f)\n",
        "                 for f in xls_files])\n",
        "\n",
        "df_concat = pd.concat([df1, df2], axis=0)\n"
      ]
    },
    {
      "attachments": {},
      "cell_type": "markdown",
      "metadata": {
        "id": "HoBWH9Tj0GME"
      },
      "source": [
        "# Preprocessing - Data Cleaning\n"
      ]
    },
    {
      "cell_type": "code",
      "execution_count": 109,
      "metadata": {},
      "outputs": [
        {
          "data": {
            "text/plain": [
              "(418131, 11)"
            ]
          },
          "execution_count": 109,
          "metadata": {},
          "output_type": "execute_result"
        }
      ],
      "source": [
        "df_concat.shape"
      ]
    },
    {
      "cell_type": "code",
      "execution_count": 110,
      "metadata": {},
      "outputs": [
        {
          "data": {
            "text/html": [
              "<div>\n",
              "<style scoped>\n",
              "    .dataframe tbody tr th:only-of-type {\n",
              "        vertical-align: middle;\n",
              "    }\n",
              "\n",
              "    .dataframe tbody tr th {\n",
              "        vertical-align: top;\n",
              "    }\n",
              "\n",
              "    .dataframe thead th {\n",
              "        text-align: right;\n",
              "    }\n",
              "</style>\n",
              "<table border=\"1\" class=\"dataframe\">\n",
              "  <thead>\n",
              "    <tr style=\"text-align: right;\">\n",
              "      <th></th>\n",
              "      <th>สถานี</th>\n",
              "      <th>วันที่-เวลา</th>\n",
              "      <th>pH</th>\n",
              "      <th>DO</th>\n",
              "      <th>EC</th>\n",
              "      <th>Temp</th>\n",
              "      <th>หมายเลข</th>\n",
              "      <th>Salinity</th>\n",
              "      <th>Turbidity</th>\n",
              "      <th>BOD</th>\n",
              "      <th>COD</th>\n",
              "    </tr>\n",
              "  </thead>\n",
              "  <tbody>\n",
              "    <tr>\n",
              "      <th>0</th>\n",
              "      <td>นครชัยศรี จ.นครปฐม (121)</td>\n",
              "      <td>1 ม.ค.2563 00:00</td>\n",
              "      <td>-</td>\n",
              "      <td>2.300</td>\n",
              "      <td>464.700</td>\n",
              "      <td>28.3</td>\n",
              "      <td>NaN</td>\n",
              "      <td>NaN</td>\n",
              "      <td>NaN</td>\n",
              "      <td>NaN</td>\n",
              "      <td>NaN</td>\n",
              "    </tr>\n",
              "    <tr>\n",
              "      <th>1</th>\n",
              "      <td>นครชัยศรี จ.นครปฐม (121)</td>\n",
              "      <td>1 ม.ค.2563 00:30</td>\n",
              "      <td>-</td>\n",
              "      <td>2.300</td>\n",
              "      <td>463.100</td>\n",
              "      <td>28.3</td>\n",
              "      <td>NaN</td>\n",
              "      <td>NaN</td>\n",
              "      <td>NaN</td>\n",
              "      <td>NaN</td>\n",
              "      <td>NaN</td>\n",
              "    </tr>\n",
              "    <tr>\n",
              "      <th>2</th>\n",
              "      <td>นครชัยศรี จ.นครปฐม (121)</td>\n",
              "      <td>1 ม.ค.2563 01:00</td>\n",
              "      <td>-</td>\n",
              "      <td>2.300</td>\n",
              "      <td>464.200</td>\n",
              "      <td>28.3</td>\n",
              "      <td>NaN</td>\n",
              "      <td>NaN</td>\n",
              "      <td>NaN</td>\n",
              "      <td>NaN</td>\n",
              "      <td>NaN</td>\n",
              "    </tr>\n",
              "    <tr>\n",
              "      <th>3</th>\n",
              "      <td>นครชัยศรี จ.นครปฐม (121)</td>\n",
              "      <td>1 ม.ค.2563 01:30</td>\n",
              "      <td>-</td>\n",
              "      <td>2.300</td>\n",
              "      <td>466.700</td>\n",
              "      <td>28.3</td>\n",
              "      <td>NaN</td>\n",
              "      <td>NaN</td>\n",
              "      <td>NaN</td>\n",
              "      <td>NaN</td>\n",
              "      <td>NaN</td>\n",
              "    </tr>\n",
              "    <tr>\n",
              "      <th>4</th>\n",
              "      <td>นครชัยศรี จ.นครปฐม (121)</td>\n",
              "      <td>1 ม.ค.2563 02:00</td>\n",
              "      <td>-</td>\n",
              "      <td>2.300</td>\n",
              "      <td>468.200</td>\n",
              "      <td>28.2</td>\n",
              "      <td>NaN</td>\n",
              "      <td>NaN</td>\n",
              "      <td>NaN</td>\n",
              "      <td>NaN</td>\n",
              "      <td>NaN</td>\n",
              "    </tr>\n",
              "    <tr>\n",
              "      <th>...</th>\n",
              "      <td>...</td>\n",
              "      <td>...</td>\n",
              "      <td>...</td>\n",
              "      <td>...</td>\n",
              "      <td>...</td>\n",
              "      <td>...</td>\n",
              "      <td>...</td>\n",
              "      <td>...</td>\n",
              "      <td>...</td>\n",
              "      <td>...</td>\n",
              "      <td>...</td>\n",
              "    </tr>\n",
              "    <tr>\n",
              "      <th>10215</th>\n",
              "      <td>NaN</td>\n",
              "      <td>31 ก.ค.2563 21:30</td>\n",
              "      <td>8.1</td>\n",
              "      <td>4.9</td>\n",
              "      <td>238.2</td>\n",
              "      <td>30.7</td>\n",
              "      <td>222.0</td>\n",
              "      <td>0.1</td>\n",
              "      <td></td>\n",
              "      <td>NaN</td>\n",
              "      <td>NaN</td>\n",
              "    </tr>\n",
              "    <tr>\n",
              "      <th>10216</th>\n",
              "      <td>NaN</td>\n",
              "      <td>31 ก.ค.2563 22:00</td>\n",
              "      <td>8.1</td>\n",
              "      <td>4.9</td>\n",
              "      <td>237.4</td>\n",
              "      <td>30.7</td>\n",
              "      <td>222.0</td>\n",
              "      <td>0.1</td>\n",
              "      <td></td>\n",
              "      <td>NaN</td>\n",
              "      <td>NaN</td>\n",
              "    </tr>\n",
              "    <tr>\n",
              "      <th>10217</th>\n",
              "      <td>NaN</td>\n",
              "      <td>31 ก.ค.2563 22:30</td>\n",
              "      <td>8.1</td>\n",
              "      <td>4.9</td>\n",
              "      <td>236.7</td>\n",
              "      <td>30.7</td>\n",
              "      <td>222.0</td>\n",
              "      <td>0.1</td>\n",
              "      <td></td>\n",
              "      <td>NaN</td>\n",
              "      <td>NaN</td>\n",
              "    </tr>\n",
              "    <tr>\n",
              "      <th>10218</th>\n",
              "      <td>NaN</td>\n",
              "      <td>31 ก.ค.2563 23:00</td>\n",
              "      <td>8.1</td>\n",
              "      <td>4.9</td>\n",
              "      <td>237.5</td>\n",
              "      <td>30.7</td>\n",
              "      <td>222.0</td>\n",
              "      <td>0.1</td>\n",
              "      <td></td>\n",
              "      <td>NaN</td>\n",
              "      <td>NaN</td>\n",
              "    </tr>\n",
              "    <tr>\n",
              "      <th>10219</th>\n",
              "      <td>NaN</td>\n",
              "      <td>31 ก.ค.2563 23:30</td>\n",
              "      <td>8.1</td>\n",
              "      <td>4.9</td>\n",
              "      <td>237.4</td>\n",
              "      <td>30.7</td>\n",
              "      <td>222.0</td>\n",
              "      <td>0.1</td>\n",
              "      <td></td>\n",
              "      <td>NaN</td>\n",
              "      <td>NaN</td>\n",
              "    </tr>\n",
              "  </tbody>\n",
              "</table>\n",
              "<p>418131 rows × 11 columns</p>\n",
              "</div>"
            ],
            "text/plain": [
              "                           สถานี         วันที่-เวลา   pH     DO       EC   \n",
              "0        นครชัยศรี จ.นครปฐม (121)   1 ม.ค.2563 00:00    -  2.300  464.700  \\\n",
              "1        นครชัยศรี จ.นครปฐม (121)   1 ม.ค.2563 00:30    -  2.300  463.100   \n",
              "2        นครชัยศรี จ.นครปฐม (121)   1 ม.ค.2563 01:00    -  2.300  464.200   \n",
              "3        นครชัยศรี จ.นครปฐม (121)   1 ม.ค.2563 01:30    -  2.300  466.700   \n",
              "4        นครชัยศรี จ.นครปฐม (121)   1 ม.ค.2563 02:00    -  2.300  468.200   \n",
              "...                           ...                ...  ...    ...      ...   \n",
              "10215                         NaN  31 ก.ค.2563 21:30  8.1    4.9    238.2   \n",
              "10216                         NaN  31 ก.ค.2563 22:00  8.1    4.9    237.4   \n",
              "10217                         NaN  31 ก.ค.2563 22:30  8.1    4.9    236.7   \n",
              "10218                         NaN  31 ก.ค.2563 23:00  8.1    4.9    237.5   \n",
              "10219                         NaN  31 ก.ค.2563 23:30  8.1    4.9    237.4   \n",
              "\n",
              "       Temp  หมายเลข Salinity Turbidity  BOD  COD  \n",
              "0      28.3      NaN      NaN       NaN  NaN  NaN  \n",
              "1      28.3      NaN      NaN       NaN  NaN  NaN  \n",
              "2      28.3      NaN      NaN       NaN  NaN  NaN  \n",
              "3      28.3      NaN      NaN       NaN  NaN  NaN  \n",
              "4      28.2      NaN      NaN       NaN  NaN  NaN  \n",
              "...     ...      ...      ...       ...  ...  ...  \n",
              "10215  30.7    222.0      0.1            NaN  NaN  \n",
              "10216  30.7    222.0      0.1            NaN  NaN  \n",
              "10217  30.7    222.0      0.1            NaN  NaN  \n",
              "10218  30.7    222.0      0.1            NaN  NaN  \n",
              "10219  30.7    222.0      0.1            NaN  NaN  \n",
              "\n",
              "[418131 rows x 11 columns]"
            ]
          },
          "execution_count": 110,
          "metadata": {},
          "output_type": "execute_result"
        }
      ],
      "source": [
        "df_concat"
      ]
    },
    {
      "cell_type": "code",
      "execution_count": 111,
      "metadata": {},
      "outputs": [],
      "source": [
        "df = df_concat.copy()"
      ]
    },
    {
      "cell_type": "code",
      "execution_count": 112,
      "metadata": {},
      "outputs": [
        {
          "data": {
            "text/plain": [
              "Index(['สถานี ', 'วันที่-เวลา', 'pH', 'DO', 'EC', 'Temp', 'หมายเลข',\n",
              "       'Salinity', 'Turbidity', 'BOD', 'COD'],\n",
              "      dtype='object')"
            ]
          },
          "execution_count": 112,
          "metadata": {},
          "output_type": "execute_result"
        }
      ],
      "source": [
        "df.columns"
      ]
    },
    {
      "attachments": {},
      "cell_type": "markdown",
      "metadata": {
        "id": "LXMIo2RE0qAt"
      },
      "source": [
        "## missing value\n"
      ]
    },
    {
      "cell_type": "code",
      "execution_count": 113,
      "metadata": {
        "colab": {
          "base_uri": "https://localhost:8080/"
        },
        "id": "Hkenryba0gdD",
        "outputId": "076f426c-2035-485f-b7da-1df1190a2925"
      },
      "outputs": [
        {
          "data": {
            "text/plain": [
              "สถานี          352596\n",
              "วันที่-เวลา         0\n",
              "pH                  0\n",
              "DO                  0\n",
              "EC                  0\n",
              "Temp                0\n",
              "หมายเลข         65535\n",
              "Salinity       181163\n",
              "Turbidity      249931\n",
              "BOD            341389\n",
              "COD            341389\n",
              "dtype: int64"
            ]
          },
          "execution_count": 113,
          "metadata": {},
          "output_type": "execute_result"
        }
      ],
      "source": [
        "# ตรวจสอบ missing value\n",
        "df.isnull().sum()"
      ]
    },
    {
      "cell_type": "code",
      "execution_count": 114,
      "metadata": {},
      "outputs": [],
      "source": [
        "# เลือกเฉพาะ columns  'pH', 'DO', 'EC', 'Temp', 'Salinity', 'Turbidity', 'BOD', 'COD'\n",
        "df = df[['pH', 'DO', 'EC', 'Temp',\n",
        "         'Salinity', 'Turbidity', 'BOD', 'COD']]"
      ]
    },
    {
      "cell_type": "code",
      "execution_count": 115,
      "metadata": {},
      "outputs": [
        {
          "data": {
            "text/plain": [
              "pH                0\n",
              "DO                0\n",
              "EC                0\n",
              "Temp              0\n",
              "Salinity     181163\n",
              "Turbidity    249931\n",
              "BOD          341389\n",
              "COD          341389\n",
              "dtype: int64"
            ]
          },
          "execution_count": 115,
          "metadata": {},
          "output_type": "execute_result"
        }
      ],
      "source": [
        "# ตรวจสอบจำนวน missing value\n",
        "df.isna().sum()"
      ]
    },
    {
      "cell_type": "code",
      "execution_count": 116,
      "metadata": {},
      "outputs": [],
      "source": [
        "# ลบข้อมูลที่มี missing value ออกไป\n",
        "df.dropna(inplace=True)"
      ]
    },
    {
      "cell_type": "code",
      "execution_count": 117,
      "metadata": {},
      "outputs": [
        {
          "data": {
            "text/plain": [
              "pH           0\n",
              "DO           0\n",
              "EC           0\n",
              "Temp         0\n",
              "Salinity     0\n",
              "Turbidity    0\n",
              "BOD          0\n",
              "COD          0\n",
              "dtype: int64"
            ]
          },
          "execution_count": 117,
          "metadata": {},
          "output_type": "execute_result"
        }
      ],
      "source": [
        "# ตรวจสอบจำนวน missing value\n",
        "df.isnull().sum()"
      ]
    },
    {
      "cell_type": "code",
      "execution_count": 118,
      "metadata": {},
      "outputs": [],
      "source": [
        "# แปลงตัวเลขที่เป็น string ให้เป็นตัวเลข และ เปลี่ยนตัวอักษรที่ไม่ถูกต้องให้เป็น NaN\n",
        "for col in df.columns:\n",
        "    df[col] = pd.to_numeric(df[col], errors='coerce')"
      ]
    },
    {
      "cell_type": "code",
      "execution_count": 119,
      "metadata": {},
      "outputs": [],
      "source": [
        "# ลบข้อมูลที่มี missing value ออกไป\n",
        "df.dropna(inplace=True)"
      ]
    },
    {
      "cell_type": "code",
      "execution_count": 120,
      "metadata": {},
      "outputs": [
        {
          "data": {
            "text/plain": [
              "pH           0\n",
              "DO           0\n",
              "EC           0\n",
              "Temp         0\n",
              "Salinity     0\n",
              "Turbidity    0\n",
              "BOD          0\n",
              "COD          0\n",
              "dtype: int64"
            ]
          },
          "execution_count": 120,
          "metadata": {},
          "output_type": "execute_result"
        }
      ],
      "source": [
        "df.isnull().sum()"
      ]
    },
    {
      "cell_type": "code",
      "execution_count": 121,
      "metadata": {},
      "outputs": [],
      "source": [
        "# เปลี่ยนชนิดข้อมูลให้เป็น float\n",
        "df = df.astype(float)\n",
        "\n",
        "# เปลี่ยนชนิดข้อมูลให้ pH เป็น int\n",
        "df['pH'] = df['pH'].astype(int)"
      ]
    },
    {
      "cell_type": "code",
      "execution_count": 122,
      "metadata": {},
      "outputs": [],
      "source": [
        "# reset index\n",
        "df = df.reindex()"
      ]
    },
    {
      "attachments": {},
      "cell_type": "markdown",
      "metadata": {
        "id": "LaGv8c0s07U5"
      },
      "source": [
        "## Outlier data\n"
      ]
    },
    {
      "cell_type": "code",
      "execution_count": 123,
      "metadata": {
        "colab": {
          "base_uri": "https://localhost:8080/",
          "height": 300
        },
        "id": "AObeEgAt1jmz",
        "outputId": "feb327b3-aee5-4a99-84ca-a84bcf7d6bbe"
      },
      "outputs": [
        {
          "data": {
            "text/html": [
              "<div>\n",
              "<style scoped>\n",
              "    .dataframe tbody tr th:only-of-type {\n",
              "        vertical-align: middle;\n",
              "    }\n",
              "\n",
              "    .dataframe tbody tr th {\n",
              "        vertical-align: top;\n",
              "    }\n",
              "\n",
              "    .dataframe thead th {\n",
              "        text-align: right;\n",
              "    }\n",
              "</style>\n",
              "<table border=\"1\" class=\"dataframe\">\n",
              "  <thead>\n",
              "    <tr style=\"text-align: right;\">\n",
              "      <th></th>\n",
              "      <th>pH</th>\n",
              "      <th>DO</th>\n",
              "      <th>EC</th>\n",
              "      <th>Temp</th>\n",
              "      <th>Salinity</th>\n",
              "      <th>Turbidity</th>\n",
              "      <th>BOD</th>\n",
              "      <th>COD</th>\n",
              "    </tr>\n",
              "  </thead>\n",
              "  <tbody>\n",
              "    <tr>\n",
              "      <th>count</th>\n",
              "      <td>44356.000000</td>\n",
              "      <td>44356.000000</td>\n",
              "      <td>44356.000000</td>\n",
              "      <td>44356.000000</td>\n",
              "      <td>44356.000000</td>\n",
              "      <td>44356.000000</td>\n",
              "      <td>44356.000000</td>\n",
              "      <td>44356.000000</td>\n",
              "    </tr>\n",
              "    <tr>\n",
              "      <th>mean</th>\n",
              "      <td>6.741568</td>\n",
              "      <td>3.923606</td>\n",
              "      <td>492.453324</td>\n",
              "      <td>31.273579</td>\n",
              "      <td>0.213194</td>\n",
              "      <td>67.363992</td>\n",
              "      <td>3.440693</td>\n",
              "      <td>15.690165</td>\n",
              "    </tr>\n",
              "    <tr>\n",
              "      <th>std</th>\n",
              "      <td>1.984977</td>\n",
              "      <td>2.733238</td>\n",
              "      <td>386.136457</td>\n",
              "      <td>2.397737</td>\n",
              "      <td>0.167600</td>\n",
              "      <td>97.597600</td>\n",
              "      <td>4.871939</td>\n",
              "      <td>11.265693</td>\n",
              "    </tr>\n",
              "    <tr>\n",
              "      <th>min</th>\n",
              "      <td>1.000000</td>\n",
              "      <td>0.020000</td>\n",
              "      <td>1.000000</td>\n",
              "      <td>23.365900</td>\n",
              "      <td>0.010000</td>\n",
              "      <td>0.900000</td>\n",
              "      <td>0.400000</td>\n",
              "      <td>1.000000</td>\n",
              "    </tr>\n",
              "    <tr>\n",
              "      <th>25%</th>\n",
              "      <td>6.000000</td>\n",
              "      <td>2.109625</td>\n",
              "      <td>283.300000</td>\n",
              "      <td>29.700000</td>\n",
              "      <td>0.120000</td>\n",
              "      <td>19.000000</td>\n",
              "      <td>1.189000</td>\n",
              "      <td>7.180000</td>\n",
              "    </tr>\n",
              "    <tr>\n",
              "      <th>50%</th>\n",
              "      <td>7.000000</td>\n",
              "      <td>3.400000</td>\n",
              "      <td>405.384500</td>\n",
              "      <td>31.487900</td>\n",
              "      <td>0.180000</td>\n",
              "      <td>42.100000</td>\n",
              "      <td>2.500000</td>\n",
              "      <td>16.950000</td>\n",
              "    </tr>\n",
              "    <tr>\n",
              "      <th>75%</th>\n",
              "      <td>8.000000</td>\n",
              "      <td>4.900000</td>\n",
              "      <td>548.000000</td>\n",
              "      <td>32.800000</td>\n",
              "      <td>0.240000</td>\n",
              "      <td>61.081600</td>\n",
              "      <td>3.490000</td>\n",
              "      <td>20.500000</td>\n",
              "    </tr>\n",
              "    <tr>\n",
              "      <th>max</th>\n",
              "      <td>10.000000</td>\n",
              "      <td>19.350000</td>\n",
              "      <td>2043.670000</td>\n",
              "      <td>40.900000</td>\n",
              "      <td>0.930000</td>\n",
              "      <td>1533.400000</td>\n",
              "      <td>51.300000</td>\n",
              "      <td>101.900000</td>\n",
              "    </tr>\n",
              "  </tbody>\n",
              "</table>\n",
              "</div>"
            ],
            "text/plain": [
              "                 pH            DO            EC          Temp      Salinity   \n",
              "count  44356.000000  44356.000000  44356.000000  44356.000000  44356.000000  \\\n",
              "mean       6.741568      3.923606    492.453324     31.273579      0.213194   \n",
              "std        1.984977      2.733238    386.136457      2.397737      0.167600   \n",
              "min        1.000000      0.020000      1.000000     23.365900      0.010000   \n",
              "25%        6.000000      2.109625    283.300000     29.700000      0.120000   \n",
              "50%        7.000000      3.400000    405.384500     31.487900      0.180000   \n",
              "75%        8.000000      4.900000    548.000000     32.800000      0.240000   \n",
              "max       10.000000     19.350000   2043.670000     40.900000      0.930000   \n",
              "\n",
              "          Turbidity           BOD           COD  \n",
              "count  44356.000000  44356.000000  44356.000000  \n",
              "mean      67.363992      3.440693     15.690165  \n",
              "std       97.597600      4.871939     11.265693  \n",
              "min        0.900000      0.400000      1.000000  \n",
              "25%       19.000000      1.189000      7.180000  \n",
              "50%       42.100000      2.500000     16.950000  \n",
              "75%       61.081600      3.490000     20.500000  \n",
              "max     1533.400000     51.300000    101.900000  "
            ]
          },
          "execution_count": 123,
          "metadata": {},
          "output_type": "execute_result"
        }
      ],
      "source": [
        "# แสดงค่าสถิติพื้นฐาน\n",
        "df.describe()"
      ]
    },
    {
      "cell_type": "code",
      "execution_count": 124,
      "metadata": {},
      "outputs": [
        {
          "data": {
            "text/plain": [
              "<Axes: >"
            ]
          },
          "execution_count": 124,
          "metadata": {},
          "output_type": "execute_result"
        },
        {
          "data": {
            "image/png": "[encoded data removed]",
            "text/plain": [
              "<Figure size 640x480 with 1 Axes>"
            ]
          },
          "metadata": {},
          "output_type": "display_data"
        }
      ],
      "source": [
        "df.boxplot()"
      ]
    },
    {
      "attachments": {},
      "cell_type": "markdown",
      "metadata": {
        "id": "MvbgOZdP7H9X"
      },
      "source": [
        "จัดการ outlier data\n"
      ]
    },
    {
      "cell_type": "code",
      "execution_count": 125,
      "metadata": {
        "id": "aLW2u4iU5n66"
      },
      "outputs": [],
      "source": [
        "def remove_outliers_iqr(dataframe, columns):\n",
        "    for column in columns:\n",
        "        Q1 = dataframe[column].quantile(0.25)\n",
        "        Q3 = dataframe[column].quantile(0.75)\n",
        "        IQR = Q3 - Q1\n",
        "        threshold = 1.5\n",
        "        lower_bound = Q1 - threshold * IQR\n",
        "        upper_bound = Q3 + threshold * IQR\n",
        "\n",
        "        dataframe = dataframe[(dataframe[column] >= lower_bound) & (\n",
        "            dataframe[column] <= upper_bound)]\n",
        "    return dataframe\n"
      ]
    },
    {
      "cell_type": "code",
      "execution_count": 126,
      "metadata": {},
      "outputs": [],
      "source": [
        "# DO\tEC\tTemp\tSalinity\tTurbidity\tBOD\tCOD\n",
        "df_out = df.copy()\n",
        "\n",
        "df_out = remove_outliers_iqr(df_out, ['pH', 'DO', 'EC', 'Temp',\n",
        "                                      'Salinity', 'Turbidity', 'BOD', 'COD'])"
      ]
    },
    {
      "cell_type": "code",
      "execution_count": 127,
      "metadata": {},
      "outputs": [
        {
          "data": {
            "text/plain": [
              "<Axes: >"
            ]
          },
          "execution_count": 127,
          "metadata": {},
          "output_type": "execute_result"
        },
        {
          "data": {
            "image/png": "[encoded data removed]",
            "text/plain": [
              "<Figure size 640x480 with 1 Axes>"
            ]
          },
          "metadata": {},
          "output_type": "display_data"
        }
      ],
      "source": [
        "df_out.boxplot()"
      ]
    },
    {
      "attachments": {},
      "cell_type": "markdown",
      "metadata": {
        "id": "LsjeNPhQ7b1h"
      },
      "source": [
        "## Duplicate data\n"
      ]
    },
    {
      "cell_type": "code",
      "execution_count": 128,
      "metadata": {
        "colab": {
          "base_uri": "https://localhost:8080/"
        },
        "id": "2O3PQSQA7OQ0",
        "outputId": "20b91e56-bfd3-433d-9302-994768839ddb"
      },
      "outputs": [
        {
          "name": "stdout",
          "output_type": "stream",
          "text": [
            "จำนวน Duplicate Data df: 146\n"
          ]
        }
      ],
      "source": [
        "print('จำนวน Duplicate Data df:', df.duplicated().sum())"
      ]
    },
    {
      "cell_type": "code",
      "execution_count": 129,
      "metadata": {
        "id": "b5A3CUAb78wd"
      },
      "outputs": [],
      "source": [
        "# ลบ Duplicate Data\n",
        "df = df.drop_duplicates()"
      ]
    },
    {
      "attachments": {},
      "cell_type": "markdown",
      "metadata": {
        "id": "Jzq1yaJsAGy_"
      },
      "source": [
        "# Data Transformation: Normalization\n"
      ]
    },
    {
      "cell_type": "code",
      "execution_count": 130,
      "metadata": {},
      "outputs": [],
      "source": [
        "X_columns = ['DO', 'EC', 'Temp',\n",
        "             'Salinity', 'Turbidity', 'BOD', 'COD']\n"
      ]
    },
    {
      "cell_type": "code",
      "execution_count": 131,
      "metadata": {
        "id": "ihha_tsM_87e"
      },
      "outputs": [
        {
          "data": {
            "text/html": [
              "<style>#sk-container-id-3 {color: black;background-color: white;}#sk-container-id-3 pre{padding: 0;}#sk-container-id-3 div.sk-toggleable {background-color: white;}#sk-container-id-3 label.sk-toggleable__label {cursor: pointer;display: block;width: 100%;margin-bottom: 0;padding: 0.3em;box-sizing: border-box;text-align: center;}#sk-container-id-3 label.sk-toggleable__label-arrow:before {content: \"▸\";float: left;margin-right: 0.25em;color: #696969;}#sk-container-id-3 label.sk-toggleable__label-arrow:hover:before {color: black;}#sk-container-id-3 div.sk-estimator:hover label.sk-toggleable__label-arrow:before {color: black;}#sk-container-id-3 div.sk-toggleable__content {max-height: 0;max-width: 0;overflow: hidden;text-align: left;background-color: #f0f8ff;}#sk-container-id-3 div.sk-toggleable__content pre {margin: 0.2em;color: black;border-radius: 0.25em;background-color: #f0f8ff;}#sk-container-id-3 input.sk-toggleable__control:checked~div.sk-toggleable__content {max-height: 200px;max-width: 100%;overflow: auto;}#sk-container-id-3 input.sk-toggleable__control:checked~label.sk-toggleable__label-arrow:before {content: \"▾\";}#sk-container-id-3 div.sk-estimator input.sk-toggleable__control:checked~label.sk-toggleable__label {background-color: #d4ebff;}#sk-container-id-3 div.sk-label input.sk-toggleable__control:checked~label.sk-toggleable__label {background-color: #d4ebff;}#sk-container-id-3 input.sk-hidden--visually {border: 0;clip: rect(1px 1px 1px 1px);clip: rect(1px, 1px, 1px, 1px);height: 1px;margin: -1px;overflow: hidden;padding: 0;position: absolute;width: 1px;}#sk-container-id-3 div.sk-estimator {font-family: monospace;background-color: #f0f8ff;border: 1px dotted black;border-radius: 0.25em;box-sizing: border-box;margin-bottom: 0.5em;}#sk-container-id-3 div.sk-estimator:hover {background-color: #d4ebff;}#sk-container-id-3 div.sk-parallel-item::after {content: \"\";width: 100%;border-bottom: 1px solid gray;flex-grow: 1;}#sk-container-id-3 div.sk-label:hover label.sk-toggleable__label {background-color: #d4ebff;}#sk-container-id-3 div.sk-serial::before {content: \"\";position: absolute;border-left: 1px solid gray;box-sizing: border-box;top: 0;bottom: 0;left: 50%;z-index: 0;}#sk-container-id-3 div.sk-serial {display: flex;flex-direction: column;align-items: center;background-color: white;padding-right: 0.2em;padding-left: 0.2em;position: relative;}#sk-container-id-3 div.sk-item {position: relative;z-index: 1;}#sk-container-id-3 div.sk-parallel {display: flex;align-items: stretch;justify-content: center;background-color: white;position: relative;}#sk-container-id-3 div.sk-item::before, #sk-container-id-3 div.sk-parallel-item::before {content: \"\";position: absolute;border-left: 1px solid gray;box-sizing: border-box;top: 0;bottom: 0;left: 50%;z-index: -1;}#sk-container-id-3 div.sk-parallel-item {display: flex;flex-direction: column;z-index: 1;position: relative;background-color: white;}#sk-container-id-3 div.sk-parallel-item:first-child::after {align-self: flex-end;width: 50%;}#sk-container-id-3 div.sk-parallel-item:last-child::after {align-self: flex-start;width: 50%;}#sk-container-id-3 div.sk-parallel-item:only-child::after {width: 0;}#sk-container-id-3 div.sk-dashed-wrapped {border: 1px dashed gray;margin: 0 0.4em 0.5em 0.4em;box-sizing: border-box;padding-bottom: 0.4em;background-color: white;}#sk-container-id-3 div.sk-label label {font-family: monospace;font-weight: bold;display: inline-block;line-height: 1.2em;}#sk-container-id-3 div.sk-label-container {text-align: center;}#sk-container-id-3 div.sk-container {/* jupyter's `normalize.less` sets `[hidden] { display: none; }` but bootstrap.min.css set `[hidden] { display: none !important; }` so we also need the `!important` here to be able to override the default hidden behavior on the sphinx rendered scikit-learn.org. See: https://github.com/scikit-learn/scikit-learn/issues/21755 */display: inline-block !important;position: relative;}#sk-container-id-3 div.sk-text-repr-fallback {display: none;}</style><div id=\"sk-container-id-3\" class=\"sk-top-container\"><div class=\"sk-text-repr-fallback\"><pre>MinMaxScaler()</pre><b>In a Jupyter environment, please rerun this cell to show the HTML representation or trust the notebook. <br />On GitHub, the HTML representation is unable to render, please try loading this page with nbviewer.org.</b></div><div class=\"sk-container\" hidden><div class=\"sk-item\"><div class=\"sk-estimator sk-toggleable\"><input class=\"sk-toggleable__control sk-hidden--visually\" id=\"sk-estimator-id-3\" type=\"checkbox\" checked><label for=\"sk-estimator-id-3\" class=\"sk-toggleable__label sk-toggleable__label-arrow\">MinMaxScaler</label><div class=\"sk-toggleable__content\"><pre>MinMaxScaler()</pre></div></div></div></div></div>"
            ],
            "text/plain": [
              "MinMaxScaler()"
            ]
          },
          "execution_count": 131,
          "metadata": {},
          "output_type": "execute_result"
        }
      ],
      "source": [
        "from sklearn.preprocessing import MinMaxScaler\n",
        "scaler = MinMaxScaler()\n",
        "scaler.fit(df[X_columns])\n"
      ]
    },
    {
      "cell_type": "code",
      "execution_count": 132,
      "metadata": {},
      "outputs": [],
      "source": [
        "df_split_copy = df.copy()\n"
      ]
    },
    {
      "attachments": {},
      "cell_type": "markdown",
      "metadata": {},
      "source": [
        "## แบ่งชุดข้อมูล\n"
      ]
    },
    {
      "cell_type": "code",
      "execution_count": 133,
      "metadata": {},
      "outputs": [],
      "source": [
        "# seed สุ่มข้อมูล\n",
        "seed = 5712\n",
        "# แบ่งชุดข้อมูลออกเป็น test\n",
        "df_split, df_test = train_test_split(\n",
        "    df_split_copy, test_size=0.001, random_state=seed)\n",
        "\n",
        "# บ่งชุดข้อมูลออกเป็น  training\n",
        "df_train = df_split"
      ]
    },
    {
      "cell_type": "code",
      "execution_count": 134,
      "metadata": {},
      "outputs": [
        {
          "name": "stdout",
          "output_type": "stream",
          "text": [
            "จำนวนชุดข้อมูลทั้งหมด : 44210\n",
            "จำนวนชุดข้อมูล training : 44165\n",
            "จำนวนชุดข้อมูล test : 45\n"
          ]
        }
      ],
      "source": [
        "# จำนวนชุดข้อมูล\n",
        "print('จำนวนชุดข้อมูลทั้งหมด :', len(df))\n",
        "print('จำนวนชุดข้อมูล training :', len(df_train))\n",
        "print('จำนวนชุดข้อมูล test :', len(df_test))"
      ]
    },
    {
      "cell_type": "code",
      "execution_count": 135,
      "metadata": {},
      "outputs": [],
      "source": [
        "# แยก X,Y\n",
        "X_train = df_train[X_columns]\n",
        "Y_train = df_train['pH'].values.ravel()\n",
        "\n",
        "X_test = df_test[X_columns]\n",
        "Y_test = df_test['pH'].values.ravel()\n"
      ]
    },
    {
      "cell_type": "markdown",
      "metadata": {},
      "source": [
        "## Transform\n"
      ]
    },
    {
      "cell_type": "code",
      "execution_count": 136,
      "metadata": {},
      "outputs": [],
      "source": [
        "X_train_transform = scaler.transform(X_train)\n",
        "\n",
        "X_test_transform = scaler.transform(X_test)\n"
      ]
    },
    {
      "attachments": {},
      "cell_type": "markdown",
      "metadata": {},
      "source": [
        "# KNN\n"
      ]
    },
    {
      "cell_type": "code",
      "execution_count": 137,
      "metadata": {},
      "outputs": [],
      "source": [
        "from sklearn.neighbors import KNeighborsClassifier\n",
        "from sklearn.metrics import accuracy_score\n",
        "\n",
        "# สร้างโมเดล KNNC\n",
        "model = KNeighborsClassifier(n_neighbors=5)\n",
        "\n",
        "# ฝึกโมเดลด้วยชุด Train\n",
        "model.fit(X_train_transform,  Y_train)\n",
        "\n",
        "# ใช้โมเดลที่ฝึกแล้วทำนายคลาสของชุด test\n",
        "\n",
        "Y_pred = model.predict(X_test_transform)"
      ]
    },
    {
      "cell_type": "markdown",
      "metadata": {},
      "source": [
        "## Evaluating Model KNNC\n"
      ]
    },
    {
      "cell_type": "code",
      "execution_count": 138,
      "metadata": {},
      "outputs": [
        {
          "name": "stdout",
          "output_type": "stream",
          "text": [
            "KNNC Accuracy: 0.8444444444444444\n",
            "Decision Tree MAE: 0.4\n"
          ]
        }
      ],
      "source": [
        "\n",
        "# คำนวณค่าความแม่นยำของโมเดล\n",
        "accuracy = accuracy_score(Y_test, Y_pred)\n",
        "\n",
        "print(f\"KNNC Accuracy: {accuracy}\")\n",
        "mean = mean_squared_error(Y_test, Y_pred)\n",
        "print(f\"Decision Tree MAE: {mean}\")"
      ]
    },
    {
      "cell_type": "code",
      "execution_count": 139,
      "metadata": {},
      "outputs": [
        {
          "data": {
            "image/png": "[encoded data removed]",
            "text/plain": [
              "<Figure size 640x480 with 2 Axes>"
            ]
          },
          "metadata": {},
          "output_type": "display_data"
        }
      ],
      "source": [
        "import matplotlib.pyplot as plt\n",
        "import seaborn as sns\n",
        "from sklearn.metrics import confusion_matrix\n",
        "\n",
        "\n",
        "# คำนวณ Confusion Matrix\n",
        "cm = confusion_matrix(Y_test, Y_pred)\n",
        "\n",
        "# แสดงผล Confusion Matrix ด้วย Heatmap\n",
        "plt.figure()\n",
        "sns.heatmap(cm, annot=True, cmap='Blues')\n",
        "plt.title('Confusion Matrix')\n",
        "plt.xlabel('Predicted Labels')\n",
        "plt.ylabel('True Labels')\n",
        "plt.show()"
      ]
    },
    {
      "attachments": {},
      "cell_type": "markdown",
      "metadata": {
        "id": "xJqnj1i7Q_ps"
      },
      "source": [
        "# Naive bayes\n"
      ]
    },
    {
      "cell_type": "code",
      "execution_count": 140,
      "metadata": {
        "id": "YHxec7RyQ_9g"
      },
      "outputs": [],
      "source": [
        "from sklearn.naive_bayes import GaussianNB\n",
        "from sklearn.metrics import accuracy_score"
      ]
    },
    {
      "cell_type": "code",
      "execution_count": 141,
      "metadata": {
        "id": "8ka8kni-RU-D"
      },
      "outputs": [],
      "source": [
        "# สร้างโมเดล Naive Bayes\n",
        "model = GaussianNB()\n",
        "\n",
        "# ฝึกโมเดลด้วยชุด Train\n",
        "model.fit(X_train_transform,  Y_train)\n",
        "\n",
        "# ใช้โมเดลที่ฝึกแล้วทำนายคลาสของชุด test\n",
        "\n",
        "Y_pred = model.predict(X_test_transform)"
      ]
    },
    {
      "attachments": {},
      "cell_type": "markdown",
      "metadata": {
        "id": "pglw-m6iVFrN"
      },
      "source": [
        "## Evaluating Model Naive bayes\n"
      ]
    },
    {
      "cell_type": "code",
      "execution_count": 142,
      "metadata": {
        "colab": {
          "base_uri": "https://localhost:8080/"
        },
        "id": "pqfBiJ9KVF6Y",
        "outputId": "70d0bc2d-77dd-4ee5-b4f8-b8f422d83849"
      },
      "outputs": [
        {
          "name": "stdout",
          "output_type": "stream",
          "text": [
            "Naive Bayes Accuracy: 0.4\n",
            "Naive Bayes MAE: 2.4\n"
          ]
        }
      ],
      "source": [
        "# คำนวณค่าความแม่นยำของโมเดล\n",
        "accuracy = accuracy_score(Y_test, Y_pred)\n",
        "\n",
        "print(f\"Naive Bayes Accuracy: {accuracy}\")\n",
        "\n",
        "mean = mean_squared_error(Y_test, Y_pred)\n",
        "print(f\"Naive Bayes MAE: {mean}\")"
      ]
    },
    {
      "cell_type": "code",
      "execution_count": 143,
      "metadata": {},
      "outputs": [
        {
          "data": {
            "image/png": "[encoded data removed]",
            "text/plain": [
              "<Figure size 640x480 with 2 Axes>"
            ]
          },
          "metadata": {},
          "output_type": "display_data"
        }
      ],
      "source": [
        "# คำนวณ Confusion Matrix\n",
        "cm = confusion_matrix(Y_test, Y_pred)\n",
        "\n",
        "# แสดงผล Confusion Matrix ด้วย Heatmap\n",
        "plt.figure()\n",
        "sns.heatmap(cm, annot=True, cmap='Blues')\n",
        "plt.title('Confusion Matrix')\n",
        "plt.xlabel('Predicted Labels')\n",
        "plt.ylabel('True Labels')\n",
        "plt.show()"
      ]
    },
    {
      "attachments": {},
      "cell_type": "markdown",
      "metadata": {
        "id": "k8Q8Q7AGTlD9"
      },
      "source": [
        "# Decision Tree\n"
      ]
    },
    {
      "cell_type": "code",
      "execution_count": 144,
      "metadata": {
        "id": "RquNdMN4ThkN"
      },
      "outputs": [],
      "source": [
        "from sklearn.tree import DecisionTreeClassifier\n",
        "\n",
        "\n",
        "# สร้างโมเดล Decision Tree\n",
        "model = DecisionTreeClassifier()\n",
        "\n",
        "# ฝึกโมเดลด้วยชุด Train\n",
        "model.fit(X_train_transform, Y_train)\n",
        "\n",
        "# ใช้โมเดลที่ฝึกแล้วทำนายคลาสของชุด Validation\n",
        "\n",
        "Y_pred = model.predict(X_test_transform)"
      ]
    },
    {
      "attachments": {},
      "cell_type": "markdown",
      "metadata": {
        "id": "N_r7HsgZU8_9"
      },
      "source": [
        "## Evaluating Model Decision Tree\n"
      ]
    },
    {
      "cell_type": "code",
      "execution_count": 145,
      "metadata": {
        "colab": {
          "base_uri": "https://localhost:8080/"
        },
        "id": "lgI2JCmKU-kW",
        "outputId": "c0a2a148-92fd-4a9a-9b54-dece5c66e0c8"
      },
      "outputs": [
        {
          "name": "stdout",
          "output_type": "stream",
          "text": [
            "Decision Tree Accuracy: 0.8666666666666667\n",
            "Decision Tree MAE: 0.3111111111111111\n"
          ]
        }
      ],
      "source": [
        "# คำนวณค่าความแม่นยำของโมเดล\n",
        "accuracy = accuracy_score(Y_test, Y_pred)\n",
        "\n",
        "# แสดงผลลัพธ์\n",
        "print(f\"Decision Tree Accuracy: {accuracy}\")\n",
        "\n",
        "mean = mean_squared_error(Y_test, Y_pred)\n",
        "print(f\"Decision Tree MAE: {mean}\")"
      ]
    },
    {
      "cell_type": "code",
      "execution_count": 146,
      "metadata": {},
      "outputs": [
        {
          "data": {
            "image/png": "[encoded data removed]",
            "text/plain": [
              "<Figure size 640x480 with 2 Axes>"
            ]
          },
          "metadata": {},
          "output_type": "display_data"
        }
      ],
      "source": [
        "# คำนวณ Confusion Matrix\n",
        "cm = confusion_matrix(Y_test, Y_pred)\n",
        "\n",
        "# แสดงผล Confusion Matrix ด้วย Heatmap\n",
        "plt.figure()\n",
        "sns.heatmap(cm, annot=True, cmap='Blues')\n",
        "plt.title('Confusion Matrix')\n",
        "plt.xlabel('Predicted Labels')\n",
        "plt.ylabel('True Labels')\n",
        "plt.show()"
      ]
    }
  ],
  "metadata": {
    "accelerator": "TPU",
    "colab": {
      "provenance": []
    },
    "gpuClass": "standard",
    "kernelspec": {
      "display_name": "Python 3",
      "name": "python3"
    },
    "language_info": {
      "codemirror_mode": {
        "name": "ipython",
        "version": 3
      },
      "file_extension": ".py",
      "mimetype": "text/x-python",
      "name": "python",
      "nbconvert_exporter": "python",
      "pygments_lexer": "ipython3",
      "version": "3.11.4"
    }
  },
  "nbformat": 4,
  "nbformat_minor": 0
}
